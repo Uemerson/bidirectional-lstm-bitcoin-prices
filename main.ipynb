{
  "metadata": {
    "kernelspec": {
      "language": "python",
      "display_name": "Python 3",
      "name": "python3"
    },
    "language_info": {
      "name": "python",
      "version": "3.7.12",
      "mimetype": "text/x-python",
      "codemirror_mode": {
        "name": "ipython",
        "version": 3
      },
      "pygments_lexer": "ipython3",
      "nbconvert_exporter": "python",
      "file_extension": ".py"
    },
    "colab": {
      "name": "bidirectional-lstm-bitcoin-prices.ipynb",
      "provenance": [],
      "collapsed_sections": [
        "T1pNvtpdsGyo",
        "vxW2Z_XhVmeq",
        "tExmNKLsahPW",
        "zhpt4V8Bv5Kb",
        "AnvMRxa9iyGd",
        "H9gwFiMW5ji-"
      ],
      "machine_shape": "hm",
      "include_colab_link": true
    },
    "accelerator": "GPU"
  },
  "nbformat_minor": 0,
  "nbformat": 4,
  "cells": [
    {
      "cell_type": "markdown",
      "metadata": {
        "id": "view-in-github",
        "colab_type": "text"
      },
      "source": [
        "<a href=\"https://colab.research.google.com/github/Uemerson/bidirectional-lstm-bitcoin-prices/blob/main/main.ipynb\" target=\"_parent\"><img src=\"https://colab.research.google.com/assets/colab-badge.svg\" alt=\"Open In Colab\"/></a>"
      ]
    },
    {
      "cell_type": "markdown",
      "source": [
        "#Import necessary libs"
      ],
      "metadata": {
        "id": "T1pNvtpdsGyo"
      }
    },
    {
      "cell_type": "code",
      "source": [
        "import pandas as pd\n",
        "from sklearn.preprocessing import MinMaxScaler\n",
        "import numpy as np\n",
        "from keras.models import Sequential\n",
        "from keras.layers import Dropout, LSTM, Dense, Bidirectional, Activation\n",
        "from keras.callbacks import EarlyStopping, ModelCheckpoint\n",
        "from tensorflow import keras\n",
        "import matplotlib.pyplot as plt\n",
        "import os\n",
        "from google.colab import drive\n",
        "import time\n",
        "from sklearn.metrics import mean_squared_error"
      ],
      "metadata": {
        "id": "-ZyKD4GjvidU"
      },
      "execution_count": 1,
      "outputs": []
    },
    {
      "cell_type": "markdown",
      "source": [
        "# Connect with google drive"
      ],
      "metadata": {
        "id": "vxW2Z_XhVmeq"
      }
    },
    {
      "cell_type": "code",
      "source": [
        "# mount drive\n",
        "drive.mount('/content/gdrive')"
      ],
      "metadata": {
        "colab": {
          "base_uri": "https://localhost:8080/"
        },
        "id": "Om85W_x9Vpoi",
        "outputId": "cb1f4695-dcd3-4041-c60b-efad6e349a83"
      },
      "execution_count": 2,
      "outputs": [
        {
          "output_type": "stream",
          "name": "stdout",
          "text": [
            "Mounted at /content/gdrive\n"
          ]
        }
      ]
    },
    {
      "cell_type": "markdown",
      "source": [
        "#Load dataset"
      ],
      "metadata": {
        "id": "tExmNKLsahPW"
      }
    },
    {
      "cell_type": "code",
      "source": [
        "# Local dataset\n",
        "# dataset = pd.read_csv('coin_Bitcoin.csv')\n",
        "\n",
        "# Using github\n",
        "dataset = pd.read_csv('https://raw.githubusercontent.com/Uemerson/bidirectional-lstms-bitcoin-prices/main/coin_Bitcoin.csv')\n",
        "\n",
        "dataset.shape"
      ],
      "metadata": {
        "colab": {
          "base_uri": "https://localhost:8080/"
        },
        "id": "wycFNSbtaiuP",
        "outputId": "3c710a08-4ff3-4fbd-9f96-ac928fd09b6b"
      },
      "execution_count": 3,
      "outputs": [
        {
          "output_type": "execute_result",
          "data": {
            "text/plain": [
              "(2991, 10)"
            ]
          },
          "metadata": {},
          "execution_count": 3
        }
      ]
    },
    {
      "cell_type": "code",
      "source": [
        "dataset.head()"
      ],
      "metadata": {
        "colab": {
          "base_uri": "https://localhost:8080/",
          "height": 0
        },
        "id": "h5NrwRAEwJ34",
        "outputId": "46053e8e-e9d6-43e7-b2a5-ae808808e242"
      },
      "execution_count": 4,
      "outputs": [
        {
          "output_type": "execute_result",
          "data": {
            "text/html": [
              "\n",
              "  <div id=\"df-ffcc7bd0-aa0e-4694-90d7-f614388b1a8e\">\n",
              "    <div class=\"colab-df-container\">\n",
              "      <div>\n",
              "<style scoped>\n",
              "    .dataframe tbody tr th:only-of-type {\n",
              "        vertical-align: middle;\n",
              "    }\n",
              "\n",
              "    .dataframe tbody tr th {\n",
              "        vertical-align: top;\n",
              "    }\n",
              "\n",
              "    .dataframe thead th {\n",
              "        text-align: right;\n",
              "    }\n",
              "</style>\n",
              "<table border=\"1\" class=\"dataframe\">\n",
              "  <thead>\n",
              "    <tr style=\"text-align: right;\">\n",
              "      <th></th>\n",
              "      <th>SNo</th>\n",
              "      <th>Name</th>\n",
              "      <th>Symbol</th>\n",
              "      <th>Date</th>\n",
              "      <th>High</th>\n",
              "      <th>Low</th>\n",
              "      <th>Open</th>\n",
              "      <th>Close</th>\n",
              "      <th>Volume</th>\n",
              "      <th>Marketcap</th>\n",
              "    </tr>\n",
              "  </thead>\n",
              "  <tbody>\n",
              "    <tr>\n",
              "      <th>0</th>\n",
              "      <td>1</td>\n",
              "      <td>Bitcoin</td>\n",
              "      <td>BTC</td>\n",
              "      <td>2013-04-29 23:59:59</td>\n",
              "      <td>147.488007</td>\n",
              "      <td>134.000000</td>\n",
              "      <td>134.444000</td>\n",
              "      <td>144.539993</td>\n",
              "      <td>0.0</td>\n",
              "      <td>1.603769e+09</td>\n",
              "    </tr>\n",
              "    <tr>\n",
              "      <th>1</th>\n",
              "      <td>2</td>\n",
              "      <td>Bitcoin</td>\n",
              "      <td>BTC</td>\n",
              "      <td>2013-04-30 23:59:59</td>\n",
              "      <td>146.929993</td>\n",
              "      <td>134.050003</td>\n",
              "      <td>144.000000</td>\n",
              "      <td>139.000000</td>\n",
              "      <td>0.0</td>\n",
              "      <td>1.542813e+09</td>\n",
              "    </tr>\n",
              "    <tr>\n",
              "      <th>2</th>\n",
              "      <td>3</td>\n",
              "      <td>Bitcoin</td>\n",
              "      <td>BTC</td>\n",
              "      <td>2013-05-01 23:59:59</td>\n",
              "      <td>139.889999</td>\n",
              "      <td>107.720001</td>\n",
              "      <td>139.000000</td>\n",
              "      <td>116.989998</td>\n",
              "      <td>0.0</td>\n",
              "      <td>1.298955e+09</td>\n",
              "    </tr>\n",
              "    <tr>\n",
              "      <th>3</th>\n",
              "      <td>4</td>\n",
              "      <td>Bitcoin</td>\n",
              "      <td>BTC</td>\n",
              "      <td>2013-05-02 23:59:59</td>\n",
              "      <td>125.599998</td>\n",
              "      <td>92.281898</td>\n",
              "      <td>116.379997</td>\n",
              "      <td>105.209999</td>\n",
              "      <td>0.0</td>\n",
              "      <td>1.168517e+09</td>\n",
              "    </tr>\n",
              "    <tr>\n",
              "      <th>4</th>\n",
              "      <td>5</td>\n",
              "      <td>Bitcoin</td>\n",
              "      <td>BTC</td>\n",
              "      <td>2013-05-03 23:59:59</td>\n",
              "      <td>108.127998</td>\n",
              "      <td>79.099998</td>\n",
              "      <td>106.250000</td>\n",
              "      <td>97.750000</td>\n",
              "      <td>0.0</td>\n",
              "      <td>1.085995e+09</td>\n",
              "    </tr>\n",
              "  </tbody>\n",
              "</table>\n",
              "</div>\n",
              "      <button class=\"colab-df-convert\" onclick=\"convertToInteractive('df-ffcc7bd0-aa0e-4694-90d7-f614388b1a8e')\"\n",
              "              title=\"Convert this dataframe to an interactive table.\"\n",
              "              style=\"display:none;\">\n",
              "        \n",
              "  <svg xmlns=\"http://www.w3.org/2000/svg\" height=\"24px\"viewBox=\"0 0 24 24\"\n",
              "       width=\"24px\">\n",
              "    <path d=\"M0 0h24v24H0V0z\" fill=\"none\"/>\n",
              "    <path d=\"M18.56 5.44l.94 2.06.94-2.06 2.06-.94-2.06-.94-.94-2.06-.94 2.06-2.06.94zm-11 1L8.5 8.5l.94-2.06 2.06-.94-2.06-.94L8.5 2.5l-.94 2.06-2.06.94zm10 10l.94 2.06.94-2.06 2.06-.94-2.06-.94-.94-2.06-.94 2.06-2.06.94z\"/><path d=\"M17.41 7.96l-1.37-1.37c-.4-.4-.92-.59-1.43-.59-.52 0-1.04.2-1.43.59L10.3 9.45l-7.72 7.72c-.78.78-.78 2.05 0 2.83L4 21.41c.39.39.9.59 1.41.59.51 0 1.02-.2 1.41-.59l7.78-7.78 2.81-2.81c.8-.78.8-2.07 0-2.86zM5.41 20L4 18.59l7.72-7.72 1.47 1.35L5.41 20z\"/>\n",
              "  </svg>\n",
              "      </button>\n",
              "      \n",
              "  <style>\n",
              "    .colab-df-container {\n",
              "      display:flex;\n",
              "      flex-wrap:wrap;\n",
              "      gap: 12px;\n",
              "    }\n",
              "\n",
              "    .colab-df-convert {\n",
              "      background-color: #E8F0FE;\n",
              "      border: none;\n",
              "      border-radius: 50%;\n",
              "      cursor: pointer;\n",
              "      display: none;\n",
              "      fill: #1967D2;\n",
              "      height: 32px;\n",
              "      padding: 0 0 0 0;\n",
              "      width: 32px;\n",
              "    }\n",
              "\n",
              "    .colab-df-convert:hover {\n",
              "      background-color: #E2EBFA;\n",
              "      box-shadow: 0px 1px 2px rgba(60, 64, 67, 0.3), 0px 1px 3px 1px rgba(60, 64, 67, 0.15);\n",
              "      fill: #174EA6;\n",
              "    }\n",
              "\n",
              "    [theme=dark] .colab-df-convert {\n",
              "      background-color: #3B4455;\n",
              "      fill: #D2E3FC;\n",
              "    }\n",
              "\n",
              "    [theme=dark] .colab-df-convert:hover {\n",
              "      background-color: #434B5C;\n",
              "      box-shadow: 0px 1px 3px 1px rgba(0, 0, 0, 0.15);\n",
              "      filter: drop-shadow(0px 1px 2px rgba(0, 0, 0, 0.3));\n",
              "      fill: #FFFFFF;\n",
              "    }\n",
              "  </style>\n",
              "\n",
              "      <script>\n",
              "        const buttonEl =\n",
              "          document.querySelector('#df-ffcc7bd0-aa0e-4694-90d7-f614388b1a8e button.colab-df-convert');\n",
              "        buttonEl.style.display =\n",
              "          google.colab.kernel.accessAllowed ? 'block' : 'none';\n",
              "\n",
              "        async function convertToInteractive(key) {\n",
              "          const element = document.querySelector('#df-ffcc7bd0-aa0e-4694-90d7-f614388b1a8e');\n",
              "          const dataTable =\n",
              "            await google.colab.kernel.invokeFunction('convertToInteractive',\n",
              "                                                     [key], {});\n",
              "          if (!dataTable) return;\n",
              "\n",
              "          const docLinkHtml = 'Like what you see? Visit the ' +\n",
              "            '<a target=\"_blank\" href=https://colab.research.google.com/notebooks/data_table.ipynb>data table notebook</a>'\n",
              "            + ' to learn more about interactive tables.';\n",
              "          element.innerHTML = '';\n",
              "          dataTable['output_type'] = 'display_data';\n",
              "          await google.colab.output.renderOutput(dataTable, element);\n",
              "          const docLink = document.createElement('div');\n",
              "          docLink.innerHTML = docLinkHtml;\n",
              "          element.appendChild(docLink);\n",
              "        }\n",
              "      </script>\n",
              "    </div>\n",
              "  </div>\n",
              "  "
            ],
            "text/plain": [
              "   SNo     Name Symbol  ...       Close  Volume     Marketcap\n",
              "0    1  Bitcoin    BTC  ...  144.539993     0.0  1.603769e+09\n",
              "1    2  Bitcoin    BTC  ...  139.000000     0.0  1.542813e+09\n",
              "2    3  Bitcoin    BTC  ...  116.989998     0.0  1.298955e+09\n",
              "3    4  Bitcoin    BTC  ...  105.209999     0.0  1.168517e+09\n",
              "4    5  Bitcoin    BTC  ...   97.750000     0.0  1.085995e+09\n",
              "\n",
              "[5 rows x 10 columns]"
            ]
          },
          "metadata": {},
          "execution_count": 4
        }
      ]
    },
    {
      "cell_type": "markdown",
      "source": [
        "#Prepare data"
      ],
      "metadata": {
        "id": "zhpt4V8Bv5Kb"
      }
    },
    {
      "cell_type": "code",
      "source": [
        "# Remove all NaN-containing entries\n",
        "df = dataset.dropna()"
      ],
      "metadata": {
        "id": "eF3_GEliThsq"
      },
      "execution_count": 5,
      "outputs": []
    },
    {
      "cell_type": "code",
      "source": [
        "df.head()"
      ],
      "metadata": {
        "colab": {
          "base_uri": "https://localhost:8080/",
          "height": 0
        },
        "id": "pkndKhmCbPpL",
        "outputId": "b16d6aad-69cf-45c0-f104-c7f72a0d5c1c"
      },
      "execution_count": 6,
      "outputs": [
        {
          "output_type": "execute_result",
          "data": {
            "text/html": [
              "\n",
              "  <div id=\"df-42349297-c6da-42aa-b421-bc19cc4e0b40\">\n",
              "    <div class=\"colab-df-container\">\n",
              "      <div>\n",
              "<style scoped>\n",
              "    .dataframe tbody tr th:only-of-type {\n",
              "        vertical-align: middle;\n",
              "    }\n",
              "\n",
              "    .dataframe tbody tr th {\n",
              "        vertical-align: top;\n",
              "    }\n",
              "\n",
              "    .dataframe thead th {\n",
              "        text-align: right;\n",
              "    }\n",
              "</style>\n",
              "<table border=\"1\" class=\"dataframe\">\n",
              "  <thead>\n",
              "    <tr style=\"text-align: right;\">\n",
              "      <th></th>\n",
              "      <th>SNo</th>\n",
              "      <th>Name</th>\n",
              "      <th>Symbol</th>\n",
              "      <th>Date</th>\n",
              "      <th>High</th>\n",
              "      <th>Low</th>\n",
              "      <th>Open</th>\n",
              "      <th>Close</th>\n",
              "      <th>Volume</th>\n",
              "      <th>Marketcap</th>\n",
              "    </tr>\n",
              "  </thead>\n",
              "  <tbody>\n",
              "    <tr>\n",
              "      <th>0</th>\n",
              "      <td>1</td>\n",
              "      <td>Bitcoin</td>\n",
              "      <td>BTC</td>\n",
              "      <td>2013-04-29 23:59:59</td>\n",
              "      <td>147.488007</td>\n",
              "      <td>134.000000</td>\n",
              "      <td>134.444000</td>\n",
              "      <td>144.539993</td>\n",
              "      <td>0.0</td>\n",
              "      <td>1.603769e+09</td>\n",
              "    </tr>\n",
              "    <tr>\n",
              "      <th>1</th>\n",
              "      <td>2</td>\n",
              "      <td>Bitcoin</td>\n",
              "      <td>BTC</td>\n",
              "      <td>2013-04-30 23:59:59</td>\n",
              "      <td>146.929993</td>\n",
              "      <td>134.050003</td>\n",
              "      <td>144.000000</td>\n",
              "      <td>139.000000</td>\n",
              "      <td>0.0</td>\n",
              "      <td>1.542813e+09</td>\n",
              "    </tr>\n",
              "    <tr>\n",
              "      <th>2</th>\n",
              "      <td>3</td>\n",
              "      <td>Bitcoin</td>\n",
              "      <td>BTC</td>\n",
              "      <td>2013-05-01 23:59:59</td>\n",
              "      <td>139.889999</td>\n",
              "      <td>107.720001</td>\n",
              "      <td>139.000000</td>\n",
              "      <td>116.989998</td>\n",
              "      <td>0.0</td>\n",
              "      <td>1.298955e+09</td>\n",
              "    </tr>\n",
              "    <tr>\n",
              "      <th>3</th>\n",
              "      <td>4</td>\n",
              "      <td>Bitcoin</td>\n",
              "      <td>BTC</td>\n",
              "      <td>2013-05-02 23:59:59</td>\n",
              "      <td>125.599998</td>\n",
              "      <td>92.281898</td>\n",
              "      <td>116.379997</td>\n",
              "      <td>105.209999</td>\n",
              "      <td>0.0</td>\n",
              "      <td>1.168517e+09</td>\n",
              "    </tr>\n",
              "    <tr>\n",
              "      <th>4</th>\n",
              "      <td>5</td>\n",
              "      <td>Bitcoin</td>\n",
              "      <td>BTC</td>\n",
              "      <td>2013-05-03 23:59:59</td>\n",
              "      <td>108.127998</td>\n",
              "      <td>79.099998</td>\n",
              "      <td>106.250000</td>\n",
              "      <td>97.750000</td>\n",
              "      <td>0.0</td>\n",
              "      <td>1.085995e+09</td>\n",
              "    </tr>\n",
              "  </tbody>\n",
              "</table>\n",
              "</div>\n",
              "      <button class=\"colab-df-convert\" onclick=\"convertToInteractive('df-42349297-c6da-42aa-b421-bc19cc4e0b40')\"\n",
              "              title=\"Convert this dataframe to an interactive table.\"\n",
              "              style=\"display:none;\">\n",
              "        \n",
              "  <svg xmlns=\"http://www.w3.org/2000/svg\" height=\"24px\"viewBox=\"0 0 24 24\"\n",
              "       width=\"24px\">\n",
              "    <path d=\"M0 0h24v24H0V0z\" fill=\"none\"/>\n",
              "    <path d=\"M18.56 5.44l.94 2.06.94-2.06 2.06-.94-2.06-.94-.94-2.06-.94 2.06-2.06.94zm-11 1L8.5 8.5l.94-2.06 2.06-.94-2.06-.94L8.5 2.5l-.94 2.06-2.06.94zm10 10l.94 2.06.94-2.06 2.06-.94-2.06-.94-.94-2.06-.94 2.06-2.06.94z\"/><path d=\"M17.41 7.96l-1.37-1.37c-.4-.4-.92-.59-1.43-.59-.52 0-1.04.2-1.43.59L10.3 9.45l-7.72 7.72c-.78.78-.78 2.05 0 2.83L4 21.41c.39.39.9.59 1.41.59.51 0 1.02-.2 1.41-.59l7.78-7.78 2.81-2.81c.8-.78.8-2.07 0-2.86zM5.41 20L4 18.59l7.72-7.72 1.47 1.35L5.41 20z\"/>\n",
              "  </svg>\n",
              "      </button>\n",
              "      \n",
              "  <style>\n",
              "    .colab-df-container {\n",
              "      display:flex;\n",
              "      flex-wrap:wrap;\n",
              "      gap: 12px;\n",
              "    }\n",
              "\n",
              "    .colab-df-convert {\n",
              "      background-color: #E8F0FE;\n",
              "      border: none;\n",
              "      border-radius: 50%;\n",
              "      cursor: pointer;\n",
              "      display: none;\n",
              "      fill: #1967D2;\n",
              "      height: 32px;\n",
              "      padding: 0 0 0 0;\n",
              "      width: 32px;\n",
              "    }\n",
              "\n",
              "    .colab-df-convert:hover {\n",
              "      background-color: #E2EBFA;\n",
              "      box-shadow: 0px 1px 2px rgba(60, 64, 67, 0.3), 0px 1px 3px 1px rgba(60, 64, 67, 0.15);\n",
              "      fill: #174EA6;\n",
              "    }\n",
              "\n",
              "    [theme=dark] .colab-df-convert {\n",
              "      background-color: #3B4455;\n",
              "      fill: #D2E3FC;\n",
              "    }\n",
              "\n",
              "    [theme=dark] .colab-df-convert:hover {\n",
              "      background-color: #434B5C;\n",
              "      box-shadow: 0px 1px 3px 1px rgba(0, 0, 0, 0.15);\n",
              "      filter: drop-shadow(0px 1px 2px rgba(0, 0, 0, 0.3));\n",
              "      fill: #FFFFFF;\n",
              "    }\n",
              "  </style>\n",
              "\n",
              "      <script>\n",
              "        const buttonEl =\n",
              "          document.querySelector('#df-42349297-c6da-42aa-b421-bc19cc4e0b40 button.colab-df-convert');\n",
              "        buttonEl.style.display =\n",
              "          google.colab.kernel.accessAllowed ? 'block' : 'none';\n",
              "\n",
              "        async function convertToInteractive(key) {\n",
              "          const element = document.querySelector('#df-42349297-c6da-42aa-b421-bc19cc4e0b40');\n",
              "          const dataTable =\n",
              "            await google.colab.kernel.invokeFunction('convertToInteractive',\n",
              "                                                     [key], {});\n",
              "          if (!dataTable) return;\n",
              "\n",
              "          const docLinkHtml = 'Like what you see? Visit the ' +\n",
              "            '<a target=\"_blank\" href=https://colab.research.google.com/notebooks/data_table.ipynb>data table notebook</a>'\n",
              "            + ' to learn more about interactive tables.';\n",
              "          element.innerHTML = '';\n",
              "          dataTable['output_type'] = 'display_data';\n",
              "          await google.colab.output.renderOutput(dataTable, element);\n",
              "          const docLink = document.createElement('div');\n",
              "          docLink.innerHTML = docLinkHtml;\n",
              "          element.appendChild(docLink);\n",
              "        }\n",
              "      </script>\n",
              "    </div>\n",
              "  </div>\n",
              "  "
            ],
            "text/plain": [
              "   SNo     Name Symbol  ...       Close  Volume     Marketcap\n",
              "0    1  Bitcoin    BTC  ...  144.539993     0.0  1.603769e+09\n",
              "1    2  Bitcoin    BTC  ...  139.000000     0.0  1.542813e+09\n",
              "2    3  Bitcoin    BTC  ...  116.989998     0.0  1.298955e+09\n",
              "3    4  Bitcoin    BTC  ...  105.209999     0.0  1.168517e+09\n",
              "4    5  Bitcoin    BTC  ...   97.750000     0.0  1.085995e+09\n",
              "\n",
              "[5 rows x 10 columns]"
            ]
          },
          "metadata": {},
          "execution_count": 6
        }
      ]
    },
    {
      "cell_type": "code",
      "source": [
        "df.info()"
      ],
      "metadata": {
        "colab": {
          "base_uri": "https://localhost:8080/"
        },
        "id": "9xPS6AggazRw",
        "outputId": "eaa9e7de-552b-442a-d19c-912a9dc8197e"
      },
      "execution_count": 7,
      "outputs": [
        {
          "output_type": "stream",
          "name": "stdout",
          "text": [
            "<class 'pandas.core.frame.DataFrame'>\n",
            "Int64Index: 2991 entries, 0 to 2990\n",
            "Data columns (total 10 columns):\n",
            " #   Column     Non-Null Count  Dtype  \n",
            "---  ------     --------------  -----  \n",
            " 0   SNo        2991 non-null   int64  \n",
            " 1   Name       2991 non-null   object \n",
            " 2   Symbol     2991 non-null   object \n",
            " 3   Date       2991 non-null   object \n",
            " 4   High       2991 non-null   float64\n",
            " 5   Low        2991 non-null   float64\n",
            " 6   Open       2991 non-null   float64\n",
            " 7   Close      2991 non-null   float64\n",
            " 8   Volume     2991 non-null   float64\n",
            " 9   Marketcap  2991 non-null   float64\n",
            "dtypes: float64(6), int64(1), object(3)\n",
            "memory usage: 257.0+ KB\n"
          ]
        }
      ]
    },
    {
      "cell_type": "code",
      "source": [
        "df.shape"
      ],
      "metadata": {
        "colab": {
          "base_uri": "https://localhost:8080/"
        },
        "id": "CvXRazKVar0d",
        "outputId": "36783349-4db8-4172-a25c-82483664e346"
      },
      "execution_count": 8,
      "outputs": [
        {
          "output_type": "execute_result",
          "data": {
            "text/plain": [
              "(2991, 10)"
            ]
          },
          "metadata": {},
          "execution_count": 8
        }
      ]
    },
    {
      "cell_type": "markdown",
      "source": [
        "#Create training and validation datasets"
      ],
      "metadata": {
        "id": "AnvMRxa9iyGd"
      }
    },
    {
      "cell_type": "markdown",
      "source": [
        "Now let us define the function called create_dataset, which take three inputs:\n",
        "\n",
        "1. X - numpy array that we want to convert into a X dataset\n",
        "2. y - numpy array that we want to convert into a y dataset\n",
        "3. time_steps - number of previous time steps to use as input variables to predict the next time period"
      ],
      "metadata": {
        "id": "b3kdayTiaEeV"
      }
    },
    {
      "cell_type": "code",
      "source": [
        "def create_dataset(X, y, time_steps=1):\n",
        "  Xs, ys = [], []\n",
        "  for i in range(len(X) - time_steps):\n",
        "    v = X[i:(i + time_steps)]\n",
        "    Xs.append(v)\n",
        "    ys.append(y[i + time_steps])\n",
        "\n",
        "  return np.array(Xs), np.array(ys)"
      ],
      "metadata": {
        "id": "1ucqMjh9-X7q"
      },
      "execution_count": 9,
      "outputs": []
    },
    {
      "cell_type": "code",
      "source": [
        "# select open, high, low and volumn columns\n",
        "X = df[['Open', 'High', 'Low', 'Volume']]\n",
        "# select close columns\n",
        "y = df[['Close']]\n",
        "\n",
        "# normalization (ReLU)\n",
        "# X_transformer = MinMaxScaler((0,1))\n",
        "# y_transformer = MinMaxScaler((0,1))\n",
        "\n",
        "# normalization (Tanh)\n",
        "X_transformer = MinMaxScaler((-1,1))\n",
        "X_transformer = X_transformer.fit(X)\n",
        "\n",
        "y_transformer = MinMaxScaler((-1,1))\n",
        "y_transformer = y_transformer.fit(y)\n",
        "\n",
        "training_size=int(len(df)*0.9)\n",
        "test_size=int(len(df)-training_size)\n",
        "\n",
        "X_train, X_test, y_train, y_test = X[0:training_size], X[training_size:training_size+test_size], y[0:training_size], y[training_size:training_size+test_size]\n",
        "\n",
        "# transform datasets\n",
        "X_train_transform = X_transformer.transform(X_train)\n",
        "X_test_transform = X_transformer.transform(X_test)\n",
        "\n",
        "y_train_transform = y_transformer.transform(y_train)\n",
        "y_test_transform = y_transformer.transform(y_test)"
      ],
      "metadata": {
        "id": "NW0EU_M69fcw"
      },
      "execution_count": 10,
      "outputs": []
    },
    {
      "cell_type": "code",
      "source": [
        "# 15 days\n",
        "time_steps = 15\n",
        "\n",
        "# reshape to [samples, time_steps, n_features]\n",
        "X_train, y_train = create_dataset(X_train_transform, y_train_transform, time_steps)\n",
        "X_test, y_test = create_dataset(X_test_transform, y_test_transform, time_steps)"
      ],
      "metadata": {
        "id": "YsS0j2ccGrpR"
      },
      "execution_count": 11,
      "outputs": []
    },
    {
      "cell_type": "code",
      "source": [
        "X_train.shape"
      ],
      "metadata": {
        "colab": {
          "base_uri": "https://localhost:8080/"
        },
        "id": "14PVhzyCQCf_",
        "outputId": "32a5e3c7-d118-4a96-e7df-ab3b72698c31"
      },
      "execution_count": 12,
      "outputs": [
        {
          "output_type": "execute_result",
          "data": {
            "text/plain": [
              "(2676, 15, 4)"
            ]
          },
          "metadata": {},
          "execution_count": 12
        }
      ]
    },
    {
      "cell_type": "code",
      "source": [
        "X_test.shape"
      ],
      "metadata": {
        "colab": {
          "base_uri": "https://localhost:8080/"
        },
        "id": "lq2YNrMdQHWJ",
        "outputId": "0e2c2464-0fcf-4f29-9235-fa6448ac380b"
      },
      "execution_count": 13,
      "outputs": [
        {
          "output_type": "execute_result",
          "data": {
            "text/plain": [
              "(285, 15, 4)"
            ]
          },
          "metadata": {},
          "execution_count": 13
        }
      ]
    },
    {
      "cell_type": "markdown",
      "source": [
        "#Enabling and testing the GPU"
      ],
      "metadata": {
        "id": "H9gwFiMW5ji-"
      }
    },
    {
      "cell_type": "code",
      "source": [
        "%tensorflow_version 2.x\n",
        "import tensorflow as tf\n",
        "device_name = tf.test.gpu_device_name()\n",
        "if device_name != '/device:GPU:0':\n",
        "  raise SystemError('GPU device not found')\n",
        "print('Found GPU at: {}'.format(device_name))"
      ],
      "metadata": {
        "colab": {
          "base_uri": "https://localhost:8080/"
        },
        "id": "2Xl8bAY25k6f",
        "outputId": "a551961b-0b96-44f8-e358-06b3e57cefcd"
      },
      "execution_count": 14,
      "outputs": [
        {
          "output_type": "stream",
          "name": "stdout",
          "text": [
            "Found GPU at: /device:GPU:0\n"
          ]
        }
      ]
    },
    {
      "cell_type": "markdown",
      "source": [
        "#LSTM Model"
      ],
      "metadata": {
        "id": "dwUnoSH1XVC6"
      }
    },
    {
      "cell_type": "code",
      "source": [
        "# define model\n",
        "model = Sequential()\n",
        "\n",
        "hidden_neurons_layer = 64\n",
        "# hidden_neurons_layer = (int(X_train.shape[2]*2/3))+1\n",
        "\n",
        "neurons_output = 1\n",
        "dropout=0.2\n",
        "\n",
        "# 1\n",
        "model.add(LSTM(units=hidden_neurons_layer, input_shape=(X_train.shape[1], X_train.shape[2]), return_sequences=True, activation='tanh'))\n",
        "model.add(Dropout(rate=dropout))\n",
        "\n",
        "# 2\n",
        "model.add(LSTM(units=hidden_neurons_layer*2, return_sequences=True, activation='tanh'))\n",
        "model.add(Dropout(rate=dropout))\n",
        "\n",
        "# 3\n",
        "model.add(LSTM(units=hidden_neurons_layer, return_sequences=False, activation='tanh'))\n",
        "model.add(Dropout(rate=dropout))\n",
        "\n",
        "# output Layer\n",
        "model.add(Dense(units=neurons_output))\n",
        "# Set activation function (If your problem is a regression problem, you should use a linear activation function)\n",
        "model.add(Activation('linear'))\n",
        "\n",
        "model.compile(loss='mean_squared_error', optimizer='adam', metrics=['mean_squared_error'])"
      ],
      "metadata": {
        "id": "WJskv2_AXYPq"
      },
      "execution_count": 15,
      "outputs": []
    },
    {
      "cell_type": "code",
      "source": [
        "model.summary()"
      ],
      "metadata": {
        "id": "97jC9x094U7j",
        "colab": {
          "base_uri": "https://localhost:8080/"
        },
        "outputId": "ba977285-9e08-469d-8734-a1c69f51052d"
      },
      "execution_count": 16,
      "outputs": [
        {
          "output_type": "stream",
          "name": "stdout",
          "text": [
            "Model: \"sequential\"\n",
            "_________________________________________________________________\n",
            " Layer (type)                Output Shape              Param #   \n",
            "=================================================================\n",
            " lstm (LSTM)                 (None, 15, 64)            17664     \n",
            "                                                                 \n",
            " dropout (Dropout)           (None, 15, 64)            0         \n",
            "                                                                 \n",
            " lstm_1 (LSTM)               (None, 15, 128)           98816     \n",
            "                                                                 \n",
            " dropout_1 (Dropout)         (None, 15, 128)           0         \n",
            "                                                                 \n",
            " lstm_2 (LSTM)               (None, 64)                49408     \n",
            "                                                                 \n",
            " dropout_2 (Dropout)         (None, 64)                0         \n",
            "                                                                 \n",
            " dense (Dense)               (None, 1)                 65        \n",
            "                                                                 \n",
            " activation (Activation)     (None, 1)                 0         \n",
            "                                                                 \n",
            "=================================================================\n",
            "Total params: 165,953\n",
            "Trainable params: 165,953\n",
            "Non-trainable params: 0\n",
            "_________________________________________________________________\n"
          ]
        }
      ]
    },
    {
      "cell_type": "code",
      "source": [
        "es = EarlyStopping(monitor='val_loss', mode='min', verbose=1, patience=100, min_delta=1e-3)\n",
        "mc = ModelCheckpoint('lstm-bitcoin-prices-best-model.h5', monitor='val_loss', mode='min', verbose=1, save_best_only=True)\n",
        "\n",
        "start = time.time()\n",
        "\n",
        "with tf.device('/device:GPU:0'):\n",
        "  # fit model to training data\n",
        "  history = model.fit(\n",
        "      X_train,\n",
        "      y_train,\n",
        "      epochs=1000,\n",
        "      batch_size=16,\n",
        "      validation_data=(X_test, y_test),\n",
        "      use_multiprocessing=True,\n",
        "      callbacks=[es, mc])\n",
        "  print(\"Training completed\")\n",
        "\n",
        "# fit model to training data without GPU\n",
        "# history = model.fit(\n",
        "#       X_train,\n",
        "#       y_train,\n",
        "#       epochs=1000,\n",
        "#       batch_size=16,\n",
        "#       validation_data=(X_test, y_test),\n",
        "#       use_multiprocessing=True,\n",
        "#       callbacks=[es, mc])\n",
        "\n",
        "print(f'training time: {time.time() - start}')"
      ],
      "metadata": {
        "id": "uRTQK_PU5Kf_",
        "colab": {
          "base_uri": "https://localhost:8080/"
        },
        "outputId": "94e640af-6323-49d5-f750-b73e7088dcfc"
      },
      "execution_count": 17,
      "outputs": [
        {
          "output_type": "stream",
          "name": "stdout",
          "text": [
            "Epoch 1/1000\n",
            "167/168 [============================>.] - ETA: 0s - loss: 0.0218 - mean_squared_error: 0.0218\n",
            "Epoch 1: val_loss improved from inf to 0.02494, saving model to lstm-bitcoin-prices-best-model.h5\n",
            "168/168 [==============================] - 14s 26ms/step - loss: 0.0218 - mean_squared_error: 0.0218 - val_loss: 0.0249 - val_mean_squared_error: 0.0249\n",
            "Epoch 2/1000\n",
            "168/168 [==============================] - ETA: 0s - loss: 0.0056 - mean_squared_error: 0.0056\n",
            "Epoch 2: val_loss improved from 0.02494 to 0.02411, saving model to lstm-bitcoin-prices-best-model.h5\n",
            "168/168 [==============================] - 3s 18ms/step - loss: 0.0056 - mean_squared_error: 0.0056 - val_loss: 0.0241 - val_mean_squared_error: 0.0241\n",
            "Epoch 3/1000\n",
            "167/168 [============================>.] - ETA: 0s - loss: 0.0061 - mean_squared_error: 0.0061\n",
            "Epoch 3: val_loss improved from 0.02411 to 0.02268, saving model to lstm-bitcoin-prices-best-model.h5\n",
            "168/168 [==============================] - 3s 18ms/step - loss: 0.0061 - mean_squared_error: 0.0061 - val_loss: 0.0227 - val_mean_squared_error: 0.0227\n",
            "Epoch 4/1000\n",
            "167/168 [============================>.] - ETA: 0s - loss: 0.0054 - mean_squared_error: 0.0054\n",
            "Epoch 4: val_loss did not improve from 0.02268\n",
            "168/168 [==============================] - 3s 18ms/step - loss: 0.0054 - mean_squared_error: 0.0054 - val_loss: 0.0246 - val_mean_squared_error: 0.0246\n",
            "Epoch 5/1000\n",
            "168/168 [==============================] - ETA: 0s - loss: 0.0044 - mean_squared_error: 0.0044\n",
            "Epoch 5: val_loss did not improve from 0.02268\n",
            "168/168 [==============================] - 3s 18ms/step - loss: 0.0044 - mean_squared_error: 0.0044 - val_loss: 0.0232 - val_mean_squared_error: 0.0232\n",
            "Epoch 6/1000\n",
            "167/168 [============================>.] - ETA: 0s - loss: 0.0046 - mean_squared_error: 0.0046\n",
            "Epoch 6: val_loss did not improve from 0.02268\n",
            "168/168 [==============================] - 3s 18ms/step - loss: 0.0046 - mean_squared_error: 0.0046 - val_loss: 0.0247 - val_mean_squared_error: 0.0247\n",
            "Epoch 7/1000\n",
            "166/168 [============================>.] - ETA: 0s - loss: 0.0038 - mean_squared_error: 0.0038\n",
            "Epoch 7: val_loss did not improve from 0.02268\n",
            "168/168 [==============================] - 3s 18ms/step - loss: 0.0038 - mean_squared_error: 0.0038 - val_loss: 0.0341 - val_mean_squared_error: 0.0341\n",
            "Epoch 8/1000\n",
            "166/168 [============================>.] - ETA: 0s - loss: 0.0041 - mean_squared_error: 0.0041\n",
            "Epoch 8: val_loss did not improve from 0.02268\n",
            "168/168 [==============================] - 3s 18ms/step - loss: 0.0041 - mean_squared_error: 0.0041 - val_loss: 0.0282 - val_mean_squared_error: 0.0282\n",
            "Epoch 9/1000\n",
            "167/168 [============================>.] - ETA: 0s - loss: 0.0037 - mean_squared_error: 0.0037\n",
            "Epoch 9: val_loss did not improve from 0.02268\n",
            "168/168 [==============================] - 3s 18ms/step - loss: 0.0037 - mean_squared_error: 0.0037 - val_loss: 0.0494 - val_mean_squared_error: 0.0494\n",
            "Epoch 10/1000\n",
            "167/168 [============================>.] - ETA: 0s - loss: 0.0036 - mean_squared_error: 0.0036\n",
            "Epoch 10: val_loss did not improve from 0.02268\n",
            "168/168 [==============================] - 3s 18ms/step - loss: 0.0036 - mean_squared_error: 0.0036 - val_loss: 0.0628 - val_mean_squared_error: 0.0628\n",
            "Epoch 11/1000\n",
            "166/168 [============================>.] - ETA: 0s - loss: 0.0039 - mean_squared_error: 0.0039\n",
            "Epoch 11: val_loss did not improve from 0.02268\n",
            "168/168 [==============================] - 3s 18ms/step - loss: 0.0039 - mean_squared_error: 0.0039 - val_loss: 0.0888 - val_mean_squared_error: 0.0888\n",
            "Epoch 12/1000\n",
            "165/168 [============================>.] - ETA: 0s - loss: 0.0035 - mean_squared_error: 0.0035\n",
            "Epoch 12: val_loss did not improve from 0.02268\n",
            "168/168 [==============================] - 3s 18ms/step - loss: 0.0035 - mean_squared_error: 0.0035 - val_loss: 0.0924 - val_mean_squared_error: 0.0924\n",
            "Epoch 13/1000\n",
            "168/168 [==============================] - ETA: 0s - loss: 0.0031 - mean_squared_error: 0.0031\n",
            "Epoch 13: val_loss did not improve from 0.02268\n",
            "168/168 [==============================] - 3s 18ms/step - loss: 0.0031 - mean_squared_error: 0.0031 - val_loss: 0.1135 - val_mean_squared_error: 0.1135\n",
            "Epoch 14/1000\n",
            "168/168 [==============================] - ETA: 0s - loss: 0.0035 - mean_squared_error: 0.0035\n",
            "Epoch 14: val_loss did not improve from 0.02268\n",
            "168/168 [==============================] - 3s 18ms/step - loss: 0.0035 - mean_squared_error: 0.0035 - val_loss: 0.0616 - val_mean_squared_error: 0.0616\n",
            "Epoch 15/1000\n",
            "166/168 [============================>.] - ETA: 0s - loss: 0.0029 - mean_squared_error: 0.0029\n",
            "Epoch 15: val_loss did not improve from 0.02268\n",
            "168/168 [==============================] - 3s 18ms/step - loss: 0.0029 - mean_squared_error: 0.0029 - val_loss: 0.1575 - val_mean_squared_error: 0.1575\n",
            "Epoch 16/1000\n",
            "168/168 [==============================] - ETA: 0s - loss: 0.0030 - mean_squared_error: 0.0030\n",
            "Epoch 16: val_loss did not improve from 0.02268\n",
            "168/168 [==============================] - 3s 18ms/step - loss: 0.0030 - mean_squared_error: 0.0030 - val_loss: 0.1579 - val_mean_squared_error: 0.1579\n",
            "Epoch 17/1000\n",
            "168/168 [==============================] - ETA: 0s - loss: 0.0027 - mean_squared_error: 0.0027\n",
            "Epoch 17: val_loss did not improve from 0.02268\n",
            "168/168 [==============================] - 3s 18ms/step - loss: 0.0027 - mean_squared_error: 0.0027 - val_loss: 0.2800 - val_mean_squared_error: 0.2800\n",
            "Epoch 18/1000\n",
            "168/168 [==============================] - ETA: 0s - loss: 0.0027 - mean_squared_error: 0.0027\n",
            "Epoch 18: val_loss did not improve from 0.02268\n",
            "168/168 [==============================] - 3s 18ms/step - loss: 0.0027 - mean_squared_error: 0.0027 - val_loss: 0.3140 - val_mean_squared_error: 0.3140\n",
            "Epoch 19/1000\n",
            "166/168 [============================>.] - ETA: 0s - loss: 0.0024 - mean_squared_error: 0.0024\n",
            "Epoch 19: val_loss did not improve from 0.02268\n",
            "168/168 [==============================] - 3s 18ms/step - loss: 0.0024 - mean_squared_error: 0.0024 - val_loss: 0.3990 - val_mean_squared_error: 0.3990\n",
            "Epoch 20/1000\n",
            "166/168 [============================>.] - ETA: 0s - loss: 0.0023 - mean_squared_error: 0.0023\n",
            "Epoch 20: val_loss did not improve from 0.02268\n",
            "168/168 [==============================] - 3s 18ms/step - loss: 0.0023 - mean_squared_error: 0.0023 - val_loss: 0.4470 - val_mean_squared_error: 0.4470\n",
            "Epoch 21/1000\n",
            "166/168 [============================>.] - ETA: 0s - loss: 0.0020 - mean_squared_error: 0.0020\n",
            "Epoch 21: val_loss did not improve from 0.02268\n",
            "168/168 [==============================] - 3s 18ms/step - loss: 0.0020 - mean_squared_error: 0.0020 - val_loss: 0.3361 - val_mean_squared_error: 0.3361\n",
            "Epoch 22/1000\n",
            "167/168 [============================>.] - ETA: 0s - loss: 0.0021 - mean_squared_error: 0.0021\n",
            "Epoch 22: val_loss did not improve from 0.02268\n",
            "168/168 [==============================] - 3s 18ms/step - loss: 0.0021 - mean_squared_error: 0.0021 - val_loss: 0.3090 - val_mean_squared_error: 0.3090\n",
            "Epoch 23/1000\n",
            "167/168 [============================>.] - ETA: 0s - loss: 0.0020 - mean_squared_error: 0.0020\n",
            "Epoch 23: val_loss did not improve from 0.02268\n",
            "168/168 [==============================] - 3s 18ms/step - loss: 0.0020 - mean_squared_error: 0.0020 - val_loss: 0.3730 - val_mean_squared_error: 0.3730\n",
            "Epoch 24/1000\n",
            "167/168 [============================>.] - ETA: 0s - loss: 0.0019 - mean_squared_error: 0.0019\n",
            "Epoch 24: val_loss did not improve from 0.02268\n",
            "168/168 [==============================] - 3s 18ms/step - loss: 0.0019 - mean_squared_error: 0.0019 - val_loss: 0.2148 - val_mean_squared_error: 0.2148\n",
            "Epoch 25/1000\n",
            "166/168 [============================>.] - ETA: 0s - loss: 0.0018 - mean_squared_error: 0.0018\n",
            "Epoch 25: val_loss did not improve from 0.02268\n",
            "168/168 [==============================] - 4s 22ms/step - loss: 0.0018 - mean_squared_error: 0.0018 - val_loss: 0.2221 - val_mean_squared_error: 0.2221\n",
            "Epoch 26/1000\n",
            "168/168 [==============================] - ETA: 0s - loss: 0.0017 - mean_squared_error: 0.0017\n",
            "Epoch 26: val_loss did not improve from 0.02268\n",
            "168/168 [==============================] - 3s 18ms/step - loss: 0.0017 - mean_squared_error: 0.0017 - val_loss: 0.2140 - val_mean_squared_error: 0.2140\n",
            "Epoch 27/1000\n",
            "166/168 [============================>.] - ETA: 0s - loss: 0.0016 - mean_squared_error: 0.0016\n",
            "Epoch 27: val_loss did not improve from 0.02268\n",
            "168/168 [==============================] - 3s 18ms/step - loss: 0.0016 - mean_squared_error: 0.0016 - val_loss: 0.1237 - val_mean_squared_error: 0.1237\n",
            "Epoch 28/1000\n",
            "168/168 [==============================] - ETA: 0s - loss: 0.0015 - mean_squared_error: 0.0015\n",
            "Epoch 28: val_loss did not improve from 0.02268\n",
            "168/168 [==============================] - 3s 18ms/step - loss: 0.0015 - mean_squared_error: 0.0015 - val_loss: 0.0578 - val_mean_squared_error: 0.0578\n",
            "Epoch 29/1000\n",
            "166/168 [============================>.] - ETA: 0s - loss: 0.0016 - mean_squared_error: 0.0016\n",
            "Epoch 29: val_loss did not improve from 0.02268\n",
            "168/168 [==============================] - 3s 18ms/step - loss: 0.0016 - mean_squared_error: 0.0016 - val_loss: 0.2379 - val_mean_squared_error: 0.2379\n",
            "Epoch 30/1000\n",
            "167/168 [============================>.] - ETA: 0s - loss: 0.0012 - mean_squared_error: 0.0012\n",
            "Epoch 30: val_loss did not improve from 0.02268\n",
            "168/168 [==============================] - 3s 18ms/step - loss: 0.0012 - mean_squared_error: 0.0012 - val_loss: 0.1024 - val_mean_squared_error: 0.1024\n",
            "Epoch 31/1000\n",
            "166/168 [============================>.] - ETA: 0s - loss: 0.0012 - mean_squared_error: 0.0012\n",
            "Epoch 31: val_loss improved from 0.02268 to 0.01923, saving model to lstm-bitcoin-prices-best-model.h5\n",
            "168/168 [==============================] - 3s 18ms/step - loss: 0.0012 - mean_squared_error: 0.0012 - val_loss: 0.0192 - val_mean_squared_error: 0.0192\n",
            "Epoch 32/1000\n",
            "167/168 [============================>.] - ETA: 0s - loss: 0.0013 - mean_squared_error: 0.0013\n",
            "Epoch 32: val_loss did not improve from 0.01923\n",
            "168/168 [==============================] - 3s 18ms/step - loss: 0.0013 - mean_squared_error: 0.0013 - val_loss: 0.1664 - val_mean_squared_error: 0.1664\n",
            "Epoch 33/1000\n",
            "168/168 [==============================] - ETA: 0s - loss: 0.0010 - mean_squared_error: 0.0010\n",
            "Epoch 33: val_loss did not improve from 0.01923\n",
            "168/168 [==============================] - 3s 18ms/step - loss: 0.0010 - mean_squared_error: 0.0010 - val_loss: 0.0945 - val_mean_squared_error: 0.0945\n",
            "Epoch 34/1000\n",
            "167/168 [============================>.] - ETA: 0s - loss: 0.0010 - mean_squared_error: 0.0010\n",
            "Epoch 34: val_loss did not improve from 0.01923\n",
            "168/168 [==============================] - 3s 18ms/step - loss: 0.0010 - mean_squared_error: 0.0010 - val_loss: 0.0932 - val_mean_squared_error: 0.0932\n",
            "Epoch 35/1000\n",
            "166/168 [============================>.] - ETA: 0s - loss: 0.0010 - mean_squared_error: 0.0010\n",
            "Epoch 35: val_loss did not improve from 0.01923\n",
            "168/168 [==============================] - 3s 18ms/step - loss: 0.0010 - mean_squared_error: 0.0010 - val_loss: 0.0920 - val_mean_squared_error: 0.0920\n",
            "Epoch 36/1000\n",
            "166/168 [============================>.] - ETA: 0s - loss: 9.9669e-04 - mean_squared_error: 9.9669e-04\n",
            "Epoch 36: val_loss did not improve from 0.01923\n",
            "168/168 [==============================] - 3s 18ms/step - loss: 9.9421e-04 - mean_squared_error: 9.9421e-04 - val_loss: 0.1456 - val_mean_squared_error: 0.1456\n",
            "Epoch 37/1000\n",
            "167/168 [============================>.] - ETA: 0s - loss: 9.3746e-04 - mean_squared_error: 9.3746e-04\n",
            "Epoch 37: val_loss did not improve from 0.01923\n",
            "168/168 [==============================] - 3s 18ms/step - loss: 9.3820e-04 - mean_squared_error: 9.3820e-04 - val_loss: 0.1454 - val_mean_squared_error: 0.1454\n",
            "Epoch 38/1000\n",
            "168/168 [==============================] - ETA: 0s - loss: 8.2685e-04 - mean_squared_error: 8.2685e-04\n",
            "Epoch 38: val_loss did not improve from 0.01923\n",
            "168/168 [==============================] - 3s 18ms/step - loss: 8.2685e-04 - mean_squared_error: 8.2685e-04 - val_loss: 0.0410 - val_mean_squared_error: 0.0410\n",
            "Epoch 39/1000\n",
            "168/168 [==============================] - ETA: 0s - loss: 7.9511e-04 - mean_squared_error: 7.9511e-04\n",
            "Epoch 39: val_loss did not improve from 0.01923\n",
            "168/168 [==============================] - 3s 18ms/step - loss: 7.9511e-04 - mean_squared_error: 7.9511e-04 - val_loss: 0.2633 - val_mean_squared_error: 0.2633\n",
            "Epoch 40/1000\n",
            "167/168 [============================>.] - ETA: 0s - loss: 7.4409e-04 - mean_squared_error: 7.4409e-04\n",
            "Epoch 40: val_loss did not improve from 0.01923\n",
            "168/168 [==============================] - 3s 18ms/step - loss: 7.4308e-04 - mean_squared_error: 7.4308e-04 - val_loss: 0.1548 - val_mean_squared_error: 0.1548\n",
            "Epoch 41/1000\n",
            "167/168 [============================>.] - ETA: 0s - loss: 7.0875e-04 - mean_squared_error: 7.0875e-04\n",
            "Epoch 41: val_loss did not improve from 0.01923\n",
            "168/168 [==============================] - 3s 19ms/step - loss: 7.0888e-04 - mean_squared_error: 7.0888e-04 - val_loss: 0.2034 - val_mean_squared_error: 0.2034\n",
            "Epoch 42/1000\n",
            "166/168 [============================>.] - ETA: 0s - loss: 6.5497e-04 - mean_squared_error: 6.5497e-04\n",
            "Epoch 42: val_loss did not improve from 0.01923\n",
            "168/168 [==============================] - 3s 18ms/step - loss: 6.5701e-04 - mean_squared_error: 6.5701e-04 - val_loss: 0.0899 - val_mean_squared_error: 0.0899\n",
            "Epoch 43/1000\n",
            "166/168 [============================>.] - ETA: 0s - loss: 6.9392e-04 - mean_squared_error: 6.9392e-04\n",
            "Epoch 43: val_loss did not improve from 0.01923\n",
            "168/168 [==============================] - 3s 18ms/step - loss: 6.9324e-04 - mean_squared_error: 6.9324e-04 - val_loss: 0.0913 - val_mean_squared_error: 0.0913\n",
            "Epoch 44/1000\n",
            "167/168 [============================>.] - ETA: 0s - loss: 6.0493e-04 - mean_squared_error: 6.0493e-04\n",
            "Epoch 44: val_loss did not improve from 0.01923\n",
            "168/168 [==============================] - 3s 18ms/step - loss: 6.0559e-04 - mean_squared_error: 6.0559e-04 - val_loss: 0.1595 - val_mean_squared_error: 0.1595\n",
            "Epoch 45/1000\n",
            "167/168 [============================>.] - ETA: 0s - loss: 5.6979e-04 - mean_squared_error: 5.6979e-04\n",
            "Epoch 45: val_loss did not improve from 0.01923\n",
            "168/168 [==============================] - 3s 18ms/step - loss: 5.6929e-04 - mean_squared_error: 5.6929e-04 - val_loss: 0.1128 - val_mean_squared_error: 0.1128\n",
            "Epoch 46/1000\n",
            "168/168 [==============================] - ETA: 0s - loss: 5.7580e-04 - mean_squared_error: 5.7580e-04\n",
            "Epoch 46: val_loss did not improve from 0.01923\n",
            "168/168 [==============================] - 3s 18ms/step - loss: 5.7580e-04 - mean_squared_error: 5.7580e-04 - val_loss: 0.1886 - val_mean_squared_error: 0.1886\n",
            "Epoch 47/1000\n",
            "167/168 [============================>.] - ETA: 0s - loss: 5.4816e-04 - mean_squared_error: 5.4816e-04\n",
            "Epoch 47: val_loss did not improve from 0.01923\n",
            "168/168 [==============================] - 3s 18ms/step - loss: 5.4768e-04 - mean_squared_error: 5.4768e-04 - val_loss: 0.2131 - val_mean_squared_error: 0.2131\n",
            "Epoch 48/1000\n",
            "166/168 [============================>.] - ETA: 0s - loss: 5.6720e-04 - mean_squared_error: 5.6720e-04\n",
            "Epoch 48: val_loss did not improve from 0.01923\n",
            "168/168 [==============================] - 3s 18ms/step - loss: 5.6627e-04 - mean_squared_error: 5.6627e-04 - val_loss: 0.1798 - val_mean_squared_error: 0.1798\n",
            "Epoch 49/1000\n",
            "167/168 [============================>.] - ETA: 0s - loss: 5.1130e-04 - mean_squared_error: 5.1130e-04\n",
            "Epoch 49: val_loss did not improve from 0.01923\n",
            "168/168 [==============================] - 3s 18ms/step - loss: 5.1064e-04 - mean_squared_error: 5.1064e-04 - val_loss: 0.1193 - val_mean_squared_error: 0.1193\n",
            "Epoch 50/1000\n",
            "166/168 [============================>.] - ETA: 0s - loss: 4.9389e-04 - mean_squared_error: 4.9389e-04\n",
            "Epoch 50: val_loss did not improve from 0.01923\n",
            "168/168 [==============================] - 3s 18ms/step - loss: 4.9739e-04 - mean_squared_error: 4.9739e-04 - val_loss: 0.0916 - val_mean_squared_error: 0.0916\n",
            "Epoch 51/1000\n",
            "167/168 [============================>.] - ETA: 0s - loss: 4.3859e-04 - mean_squared_error: 4.3859e-04\n",
            "Epoch 51: val_loss did not improve from 0.01923\n",
            "168/168 [==============================] - 3s 18ms/step - loss: 4.3856e-04 - mean_squared_error: 4.3856e-04 - val_loss: 0.1693 - val_mean_squared_error: 0.1693\n",
            "Epoch 52/1000\n",
            "166/168 [============================>.] - ETA: 0s - loss: 4.2870e-04 - mean_squared_error: 4.2870e-04\n",
            "Epoch 52: val_loss did not improve from 0.01923\n",
            "168/168 [==============================] - 3s 18ms/step - loss: 4.2813e-04 - mean_squared_error: 4.2813e-04 - val_loss: 0.1725 - val_mean_squared_error: 0.1725\n",
            "Epoch 53/1000\n",
            "165/168 [============================>.] - ETA: 0s - loss: 4.2570e-04 - mean_squared_error: 4.2570e-04\n",
            "Epoch 53: val_loss did not improve from 0.01923\n",
            "168/168 [==============================] - 3s 18ms/step - loss: 4.2426e-04 - mean_squared_error: 4.2426e-04 - val_loss: 0.1945 - val_mean_squared_error: 0.1945\n",
            "Epoch 54/1000\n",
            "166/168 [============================>.] - ETA: 0s - loss: 4.3148e-04 - mean_squared_error: 4.3148e-04\n",
            "Epoch 54: val_loss did not improve from 0.01923\n",
            "168/168 [==============================] - 3s 18ms/step - loss: 4.3024e-04 - mean_squared_error: 4.3024e-04 - val_loss: 0.2136 - val_mean_squared_error: 0.2136\n",
            "Epoch 55/1000\n",
            "166/168 [============================>.] - ETA: 0s - loss: 4.2649e-04 - mean_squared_error: 4.2649e-04\n",
            "Epoch 55: val_loss did not improve from 0.01923\n",
            "168/168 [==============================] - 3s 18ms/step - loss: 4.2517e-04 - mean_squared_error: 4.2517e-04 - val_loss: 0.1289 - val_mean_squared_error: 0.1289\n",
            "Epoch 56/1000\n",
            "166/168 [============================>.] - ETA: 0s - loss: 3.8576e-04 - mean_squared_error: 3.8576e-04\n",
            "Epoch 56: val_loss did not improve from 0.01923\n",
            "168/168 [==============================] - 3s 18ms/step - loss: 3.8412e-04 - mean_squared_error: 3.8412e-04 - val_loss: 0.1611 - val_mean_squared_error: 0.1611\n",
            "Epoch 57/1000\n",
            "168/168 [==============================] - ETA: 0s - loss: 3.8201e-04 - mean_squared_error: 3.8201e-04\n",
            "Epoch 57: val_loss did not improve from 0.01923\n",
            "168/168 [==============================] - 3s 18ms/step - loss: 3.8201e-04 - mean_squared_error: 3.8201e-04 - val_loss: 0.1523 - val_mean_squared_error: 0.1523\n",
            "Epoch 58/1000\n",
            "168/168 [==============================] - ETA: 0s - loss: 3.8919e-04 - mean_squared_error: 3.8919e-04\n",
            "Epoch 58: val_loss did not improve from 0.01923\n",
            "168/168 [==============================] - 3s 18ms/step - loss: 3.8919e-04 - mean_squared_error: 3.8919e-04 - val_loss: 0.1279 - val_mean_squared_error: 0.1279\n",
            "Epoch 59/1000\n",
            "167/168 [============================>.] - ETA: 0s - loss: 4.1883e-04 - mean_squared_error: 4.1883e-04\n",
            "Epoch 59: val_loss did not improve from 0.01923\n",
            "168/168 [==============================] - 3s 18ms/step - loss: 4.1846e-04 - mean_squared_error: 4.1846e-04 - val_loss: 0.1930 - val_mean_squared_error: 0.1930\n",
            "Epoch 60/1000\n",
            "168/168 [==============================] - ETA: 0s - loss: 3.4393e-04 - mean_squared_error: 3.4393e-04\n",
            "Epoch 60: val_loss did not improve from 0.01923\n",
            "168/168 [==============================] - 4s 21ms/step - loss: 3.4393e-04 - mean_squared_error: 3.4393e-04 - val_loss: 0.1198 - val_mean_squared_error: 0.1198\n",
            "Epoch 61/1000\n",
            "168/168 [==============================] - ETA: 0s - loss: 3.6601e-04 - mean_squared_error: 3.6601e-04\n",
            "Epoch 61: val_loss did not improve from 0.01923\n",
            "168/168 [==============================] - 3s 18ms/step - loss: 3.6601e-04 - mean_squared_error: 3.6601e-04 - val_loss: 0.1329 - val_mean_squared_error: 0.1329\n",
            "Epoch 62/1000\n",
            "167/168 [============================>.] - ETA: 0s - loss: 3.5568e-04 - mean_squared_error: 3.5568e-04\n",
            "Epoch 62: val_loss did not improve from 0.01923\n",
            "168/168 [==============================] - 3s 18ms/step - loss: 3.5665e-04 - mean_squared_error: 3.5665e-04 - val_loss: 0.1208 - val_mean_squared_error: 0.1208\n",
            "Epoch 63/1000\n",
            "167/168 [============================>.] - ETA: 0s - loss: 4.1185e-04 - mean_squared_error: 4.1185e-04\n",
            "Epoch 63: val_loss did not improve from 0.01923\n",
            "168/168 [==============================] - 3s 18ms/step - loss: 4.1149e-04 - mean_squared_error: 4.1149e-04 - val_loss: 0.2156 - val_mean_squared_error: 0.2156\n",
            "Epoch 64/1000\n",
            "168/168 [==============================] - ETA: 0s - loss: 3.4013e-04 - mean_squared_error: 3.4013e-04\n",
            "Epoch 64: val_loss did not improve from 0.01923\n",
            "168/168 [==============================] - 3s 18ms/step - loss: 3.4013e-04 - mean_squared_error: 3.4013e-04 - val_loss: 0.1678 - val_mean_squared_error: 0.1678\n",
            "Epoch 65/1000\n",
            "166/168 [============================>.] - ETA: 0s - loss: 3.5767e-04 - mean_squared_error: 3.5767e-04\n",
            "Epoch 65: val_loss did not improve from 0.01923\n",
            "168/168 [==============================] - 3s 18ms/step - loss: 3.5620e-04 - mean_squared_error: 3.5620e-04 - val_loss: 0.1908 - val_mean_squared_error: 0.1908\n",
            "Epoch 66/1000\n",
            "168/168 [==============================] - ETA: 0s - loss: 3.3856e-04 - mean_squared_error: 3.3856e-04\n",
            "Epoch 66: val_loss did not improve from 0.01923\n",
            "168/168 [==============================] - 3s 18ms/step - loss: 3.3856e-04 - mean_squared_error: 3.3856e-04 - val_loss: 0.1885 - val_mean_squared_error: 0.1885\n",
            "Epoch 67/1000\n",
            "166/168 [============================>.] - ETA: 0s - loss: 3.6112e-04 - mean_squared_error: 3.6112e-04\n",
            "Epoch 67: val_loss did not improve from 0.01923\n",
            "168/168 [==============================] - 3s 18ms/step - loss: 3.6021e-04 - mean_squared_error: 3.6021e-04 - val_loss: 0.0996 - val_mean_squared_error: 0.0996\n",
            "Epoch 68/1000\n",
            "166/168 [============================>.] - ETA: 0s - loss: 3.2276e-04 - mean_squared_error: 3.2276e-04\n",
            "Epoch 68: val_loss did not improve from 0.01923\n",
            "168/168 [==============================] - 3s 18ms/step - loss: 3.2343e-04 - mean_squared_error: 3.2343e-04 - val_loss: 0.1601 - val_mean_squared_error: 0.1601\n",
            "Epoch 69/1000\n",
            "167/168 [============================>.] - ETA: 0s - loss: 3.0982e-04 - mean_squared_error: 3.0982e-04\n",
            "Epoch 69: val_loss did not improve from 0.01923\n",
            "168/168 [==============================] - 3s 18ms/step - loss: 3.0948e-04 - mean_squared_error: 3.0948e-04 - val_loss: 0.2035 - val_mean_squared_error: 0.2035\n",
            "Epoch 70/1000\n",
            "166/168 [============================>.] - ETA: 0s - loss: 2.8202e-04 - mean_squared_error: 2.8202e-04\n",
            "Epoch 70: val_loss did not improve from 0.01923\n",
            "168/168 [==============================] - 3s 18ms/step - loss: 2.8089e-04 - mean_squared_error: 2.8089e-04 - val_loss: 0.0647 - val_mean_squared_error: 0.0647\n",
            "Epoch 71/1000\n",
            "166/168 [============================>.] - ETA: 0s - loss: 2.9687e-04 - mean_squared_error: 2.9687e-04\n",
            "Epoch 71: val_loss did not improve from 0.01923\n",
            "168/168 [==============================] - 3s 18ms/step - loss: 2.9584e-04 - mean_squared_error: 2.9584e-04 - val_loss: 0.0726 - val_mean_squared_error: 0.0726\n",
            "Epoch 72/1000\n",
            "167/168 [============================>.] - ETA: 0s - loss: 3.1683e-04 - mean_squared_error: 3.1683e-04\n",
            "Epoch 72: val_loss did not improve from 0.01923\n",
            "168/168 [==============================] - 3s 18ms/step - loss: 3.1663e-04 - mean_squared_error: 3.1663e-04 - val_loss: 0.0529 - val_mean_squared_error: 0.0529\n",
            "Epoch 73/1000\n",
            "167/168 [============================>.] - ETA: 0s - loss: 3.0465e-04 - mean_squared_error: 3.0465e-04\n",
            "Epoch 73: val_loss did not improve from 0.01923\n",
            "168/168 [==============================] - 3s 18ms/step - loss: 3.0439e-04 - mean_squared_error: 3.0439e-04 - val_loss: 0.1285 - val_mean_squared_error: 0.1285\n",
            "Epoch 74/1000\n",
            "166/168 [============================>.] - ETA: 0s - loss: 3.6460e-04 - mean_squared_error: 3.6460e-04\n",
            "Epoch 74: val_loss did not improve from 0.01923\n",
            "168/168 [==============================] - 3s 18ms/step - loss: 3.6456e-04 - mean_squared_error: 3.6456e-04 - val_loss: 0.0679 - val_mean_squared_error: 0.0679\n",
            "Epoch 75/1000\n",
            "166/168 [============================>.] - ETA: 0s - loss: 2.9126e-04 - mean_squared_error: 2.9126e-04\n",
            "Epoch 75: val_loss did not improve from 0.01923\n",
            "168/168 [==============================] - 3s 18ms/step - loss: 2.9085e-04 - mean_squared_error: 2.9085e-04 - val_loss: 0.1181 - val_mean_squared_error: 0.1181\n",
            "Epoch 76/1000\n",
            "167/168 [============================>.] - ETA: 0s - loss: 2.7671e-04 - mean_squared_error: 2.7671e-04\n",
            "Epoch 76: val_loss did not improve from 0.01923\n",
            "168/168 [==============================] - 3s 18ms/step - loss: 2.7639e-04 - mean_squared_error: 2.7639e-04 - val_loss: 0.1990 - val_mean_squared_error: 0.1990\n",
            "Epoch 77/1000\n",
            "167/168 [============================>.] - ETA: 0s - loss: 3.0991e-04 - mean_squared_error: 3.0991e-04\n",
            "Epoch 77: val_loss did not improve from 0.01923\n",
            "168/168 [==============================] - 3s 18ms/step - loss: 3.1047e-04 - mean_squared_error: 3.1047e-04 - val_loss: 0.1101 - val_mean_squared_error: 0.1101\n",
            "Epoch 78/1000\n",
            "167/168 [============================>.] - ETA: 0s - loss: 2.9786e-04 - mean_squared_error: 2.9786e-04\n",
            "Epoch 78: val_loss did not improve from 0.01923\n",
            "168/168 [==============================] - 3s 18ms/step - loss: 2.9766e-04 - mean_squared_error: 2.9766e-04 - val_loss: 0.1336 - val_mean_squared_error: 0.1336\n",
            "Epoch 79/1000\n",
            "166/168 [============================>.] - ETA: 0s - loss: 2.8955e-04 - mean_squared_error: 2.8955e-04\n",
            "Epoch 79: val_loss did not improve from 0.01923\n",
            "168/168 [==============================] - 3s 18ms/step - loss: 2.8871e-04 - mean_squared_error: 2.8871e-04 - val_loss: 0.2409 - val_mean_squared_error: 0.2409\n",
            "Epoch 80/1000\n",
            "167/168 [============================>.] - ETA: 0s - loss: 2.8017e-04 - mean_squared_error: 2.8017e-04\n",
            "Epoch 80: val_loss did not improve from 0.01923\n",
            "168/168 [==============================] - 3s 18ms/step - loss: 2.8013e-04 - mean_squared_error: 2.8013e-04 - val_loss: 0.0842 - val_mean_squared_error: 0.0842\n",
            "Epoch 81/1000\n",
            "167/168 [============================>.] - ETA: 0s - loss: 3.0842e-04 - mean_squared_error: 3.0842e-04\n",
            "Epoch 81: val_loss did not improve from 0.01923\n",
            "168/168 [==============================] - 3s 18ms/step - loss: 3.0840e-04 - mean_squared_error: 3.0840e-04 - val_loss: 0.1241 - val_mean_squared_error: 0.1241\n",
            "Epoch 82/1000\n",
            "167/168 [============================>.] - ETA: 0s - loss: 2.9099e-04 - mean_squared_error: 2.9099e-04\n",
            "Epoch 82: val_loss did not improve from 0.01923\n",
            "168/168 [==============================] - 3s 18ms/step - loss: 2.9095e-04 - mean_squared_error: 2.9095e-04 - val_loss: 0.1368 - val_mean_squared_error: 0.1368\n",
            "Epoch 83/1000\n",
            "167/168 [============================>.] - ETA: 0s - loss: 2.8538e-04 - mean_squared_error: 2.8538e-04\n",
            "Epoch 83: val_loss did not improve from 0.01923\n",
            "168/168 [==============================] - 3s 18ms/step - loss: 2.8521e-04 - mean_squared_error: 2.8521e-04 - val_loss: 0.1157 - val_mean_squared_error: 0.1157\n",
            "Epoch 84/1000\n",
            "166/168 [============================>.] - ETA: 0s - loss: 2.6527e-04 - mean_squared_error: 2.6527e-04\n",
            "Epoch 84: val_loss did not improve from 0.01923\n",
            "168/168 [==============================] - 3s 18ms/step - loss: 2.6498e-04 - mean_squared_error: 2.6498e-04 - val_loss: 0.1001 - val_mean_squared_error: 0.1001\n",
            "Epoch 85/1000\n",
            "168/168 [==============================] - ETA: 0s - loss: 2.4020e-04 - mean_squared_error: 2.4020e-04\n",
            "Epoch 85: val_loss did not improve from 0.01923\n",
            "168/168 [==============================] - 3s 18ms/step - loss: 2.4020e-04 - mean_squared_error: 2.4020e-04 - val_loss: 0.1317 - val_mean_squared_error: 0.1317\n",
            "Epoch 86/1000\n",
            "168/168 [==============================] - ETA: 0s - loss: 2.7896e-04 - mean_squared_error: 2.7896e-04\n",
            "Epoch 86: val_loss did not improve from 0.01923\n",
            "168/168 [==============================] - 3s 18ms/step - loss: 2.7896e-04 - mean_squared_error: 2.7896e-04 - val_loss: 0.1008 - val_mean_squared_error: 0.1008\n",
            "Epoch 87/1000\n",
            "167/168 [============================>.] - ETA: 0s - loss: 2.6385e-04 - mean_squared_error: 2.6385e-04\n",
            "Epoch 87: val_loss did not improve from 0.01923\n",
            "168/168 [==============================] - 3s 18ms/step - loss: 2.6394e-04 - mean_squared_error: 2.6394e-04 - val_loss: 0.0901 - val_mean_squared_error: 0.0901\n",
            "Epoch 88/1000\n",
            "168/168 [==============================] - ETA: 0s - loss: 2.8921e-04 - mean_squared_error: 2.8921e-04\n",
            "Epoch 88: val_loss did not improve from 0.01923\n",
            "168/168 [==============================] - 3s 18ms/step - loss: 2.8921e-04 - mean_squared_error: 2.8921e-04 - val_loss: 0.1689 - val_mean_squared_error: 0.1689\n",
            "Epoch 89/1000\n",
            "167/168 [============================>.] - ETA: 0s - loss: 2.5394e-04 - mean_squared_error: 2.5394e-04\n",
            "Epoch 89: val_loss did not improve from 0.01923\n",
            "168/168 [==============================] - 3s 18ms/step - loss: 2.5369e-04 - mean_squared_error: 2.5369e-04 - val_loss: 0.1043 - val_mean_squared_error: 0.1043\n",
            "Epoch 90/1000\n",
            "167/168 [============================>.] - ETA: 0s - loss: 2.7440e-04 - mean_squared_error: 2.7440e-04\n",
            "Epoch 90: val_loss did not improve from 0.01923\n",
            "168/168 [==============================] - 3s 18ms/step - loss: 2.7430e-04 - mean_squared_error: 2.7430e-04 - val_loss: 0.0586 - val_mean_squared_error: 0.0586\n",
            "Epoch 91/1000\n",
            "168/168 [==============================] - ETA: 0s - loss: 2.7206e-04 - mean_squared_error: 2.7206e-04\n",
            "Epoch 91: val_loss did not improve from 0.01923\n",
            "168/168 [==============================] - 3s 18ms/step - loss: 2.7206e-04 - mean_squared_error: 2.7206e-04 - val_loss: 0.1077 - val_mean_squared_error: 0.1077\n",
            "Epoch 92/1000\n",
            "166/168 [============================>.] - ETA: 0s - loss: 2.3905e-04 - mean_squared_error: 2.3905e-04\n",
            "Epoch 92: val_loss did not improve from 0.01923\n",
            "168/168 [==============================] - 3s 18ms/step - loss: 2.3901e-04 - mean_squared_error: 2.3901e-04 - val_loss: 0.1554 - val_mean_squared_error: 0.1554\n",
            "Epoch 93/1000\n",
            "166/168 [============================>.] - ETA: 0s - loss: 2.6686e-04 - mean_squared_error: 2.6686e-04\n",
            "Epoch 93: val_loss did not improve from 0.01923\n",
            "168/168 [==============================] - 3s 18ms/step - loss: 2.6590e-04 - mean_squared_error: 2.6590e-04 - val_loss: 0.0643 - val_mean_squared_error: 0.0643\n",
            "Epoch 94/1000\n",
            "168/168 [==============================] - ETA: 0s - loss: 2.9829e-04 - mean_squared_error: 2.9829e-04\n",
            "Epoch 94: val_loss did not improve from 0.01923\n",
            "168/168 [==============================] - 4s 22ms/step - loss: 2.9829e-04 - mean_squared_error: 2.9829e-04 - val_loss: 0.1233 - val_mean_squared_error: 0.1233\n",
            "Epoch 95/1000\n",
            "167/168 [============================>.] - ETA: 0s - loss: 2.9783e-04 - mean_squared_error: 2.9783e-04\n",
            "Epoch 95: val_loss did not improve from 0.01923\n",
            "168/168 [==============================] - 3s 18ms/step - loss: 2.9752e-04 - mean_squared_error: 2.9752e-04 - val_loss: 0.0556 - val_mean_squared_error: 0.0556\n",
            "Epoch 96/1000\n",
            "166/168 [============================>.] - ETA: 0s - loss: 2.6629e-04 - mean_squared_error: 2.6629e-04\n",
            "Epoch 96: val_loss did not improve from 0.01923\n",
            "168/168 [==============================] - 3s 18ms/step - loss: 2.6886e-04 - mean_squared_error: 2.6886e-04 - val_loss: 0.0731 - val_mean_squared_error: 0.0731\n",
            "Epoch 97/1000\n",
            "166/168 [============================>.] - ETA: 0s - loss: 2.4246e-04 - mean_squared_error: 2.4246e-04\n",
            "Epoch 97: val_loss did not improve from 0.01923\n",
            "168/168 [==============================] - 3s 18ms/step - loss: 2.4436e-04 - mean_squared_error: 2.4436e-04 - val_loss: 0.0431 - val_mean_squared_error: 0.0431\n",
            "Epoch 98/1000\n",
            "167/168 [============================>.] - ETA: 0s - loss: 2.8313e-04 - mean_squared_error: 2.8313e-04\n",
            "Epoch 98: val_loss did not improve from 0.01923\n",
            "168/168 [==============================] - 3s 18ms/step - loss: 2.8497e-04 - mean_squared_error: 2.8497e-04 - val_loss: 0.0881 - val_mean_squared_error: 0.0881\n",
            "Epoch 99/1000\n",
            "167/168 [============================>.] - ETA: 0s - loss: 2.5600e-04 - mean_squared_error: 2.5600e-04\n",
            "Epoch 99: val_loss did not improve from 0.01923\n",
            "168/168 [==============================] - 3s 18ms/step - loss: 2.5579e-04 - mean_squared_error: 2.5579e-04 - val_loss: 0.0979 - val_mean_squared_error: 0.0979\n",
            "Epoch 100/1000\n",
            "167/168 [============================>.] - ETA: 0s - loss: 2.6009e-04 - mean_squared_error: 2.6009e-04\n",
            "Epoch 100: val_loss did not improve from 0.01923\n",
            "168/168 [==============================] - 3s 18ms/step - loss: 2.5983e-04 - mean_squared_error: 2.5983e-04 - val_loss: 0.0810 - val_mean_squared_error: 0.0810\n",
            "Epoch 101/1000\n",
            "166/168 [============================>.] - ETA: 0s - loss: 2.3854e-04 - mean_squared_error: 2.3854e-04\n",
            "Epoch 101: val_loss did not improve from 0.01923\n",
            "168/168 [==============================] - 3s 19ms/step - loss: 2.3733e-04 - mean_squared_error: 2.3733e-04 - val_loss: 0.0666 - val_mean_squared_error: 0.0666\n",
            "Epoch 102/1000\n",
            "167/168 [============================>.] - ETA: 0s - loss: 2.5976e-04 - mean_squared_error: 2.5976e-04\n",
            "Epoch 102: val_loss did not improve from 0.01923\n",
            "168/168 [==============================] - 3s 19ms/step - loss: 2.6007e-04 - mean_squared_error: 2.6007e-04 - val_loss: 0.1020 - val_mean_squared_error: 0.1020\n",
            "Epoch 103/1000\n",
            "167/168 [============================>.] - ETA: 0s - loss: 2.4329e-04 - mean_squared_error: 2.4329e-04\n",
            "Epoch 103: val_loss did not improve from 0.01923\n",
            "168/168 [==============================] - 3s 19ms/step - loss: 2.4296e-04 - mean_squared_error: 2.4296e-04 - val_loss: 0.1253 - val_mean_squared_error: 0.1253\n",
            "Epoch 104/1000\n",
            "167/168 [============================>.] - ETA: 0s - loss: 2.5373e-04 - mean_squared_error: 2.5373e-04\n",
            "Epoch 104: val_loss did not improve from 0.01923\n",
            "168/168 [==============================] - 3s 19ms/step - loss: 2.5377e-04 - mean_squared_error: 2.5377e-04 - val_loss: 0.0294 - val_mean_squared_error: 0.0294\n",
            "Epoch 105/1000\n",
            "166/168 [============================>.] - ETA: 0s - loss: 2.5161e-04 - mean_squared_error: 2.5161e-04\n",
            "Epoch 105: val_loss did not improve from 0.01923\n",
            "168/168 [==============================] - 3s 18ms/step - loss: 2.5195e-04 - mean_squared_error: 2.5195e-04 - val_loss: 0.0754 - val_mean_squared_error: 0.0754\n",
            "Epoch 106/1000\n",
            "167/168 [============================>.] - ETA: 0s - loss: 2.7141e-04 - mean_squared_error: 2.7141e-04\n",
            "Epoch 106: val_loss did not improve from 0.01923\n",
            "168/168 [==============================] - 3s 18ms/step - loss: 2.7122e-04 - mean_squared_error: 2.7122e-04 - val_loss: 0.0939 - val_mean_squared_error: 0.0939\n",
            "Epoch 107/1000\n",
            "166/168 [============================>.] - ETA: 0s - loss: 2.5320e-04 - mean_squared_error: 2.5320e-04\n",
            "Epoch 107: val_loss did not improve from 0.01923\n",
            "168/168 [==============================] - 3s 19ms/step - loss: 2.5306e-04 - mean_squared_error: 2.5306e-04 - val_loss: 0.0494 - val_mean_squared_error: 0.0494\n",
            "Epoch 108/1000\n",
            "166/168 [============================>.] - ETA: 0s - loss: 2.4343e-04 - mean_squared_error: 2.4343e-04\n",
            "Epoch 108: val_loss did not improve from 0.01923\n",
            "168/168 [==============================] - 3s 18ms/step - loss: 2.4297e-04 - mean_squared_error: 2.4297e-04 - val_loss: 0.0426 - val_mean_squared_error: 0.0426\n",
            "Epoch 109/1000\n",
            "166/168 [============================>.] - ETA: 0s - loss: 2.5856e-04 - mean_squared_error: 2.5856e-04\n",
            "Epoch 109: val_loss did not improve from 0.01923\n",
            "168/168 [==============================] - 3s 18ms/step - loss: 2.5761e-04 - mean_squared_error: 2.5761e-04 - val_loss: 0.0844 - val_mean_squared_error: 0.0844\n",
            "Epoch 110/1000\n",
            "166/168 [============================>.] - ETA: 0s - loss: 2.5413e-04 - mean_squared_error: 2.5413e-04\n",
            "Epoch 110: val_loss did not improve from 0.01923\n",
            "168/168 [==============================] - 3s 18ms/step - loss: 2.5413e-04 - mean_squared_error: 2.5413e-04 - val_loss: 0.1307 - val_mean_squared_error: 0.1307\n",
            "Epoch 111/1000\n",
            "167/168 [============================>.] - ETA: 0s - loss: 2.5224e-04 - mean_squared_error: 2.5224e-04\n",
            "Epoch 111: val_loss did not improve from 0.01923\n",
            "168/168 [==============================] - 3s 19ms/step - loss: 2.5207e-04 - mean_squared_error: 2.5207e-04 - val_loss: 0.0985 - val_mean_squared_error: 0.0985\n",
            "Epoch 112/1000\n",
            "166/168 [============================>.] - ETA: 0s - loss: 2.3631e-04 - mean_squared_error: 2.3631e-04\n",
            "Epoch 112: val_loss did not improve from 0.01923\n",
            "168/168 [==============================] - 3s 19ms/step - loss: 2.3671e-04 - mean_squared_error: 2.3671e-04 - val_loss: 0.1195 - val_mean_squared_error: 0.1195\n",
            "Epoch 113/1000\n",
            "167/168 [============================>.] - ETA: 0s - loss: 2.3899e-04 - mean_squared_error: 2.3899e-04\n",
            "Epoch 113: val_loss did not improve from 0.01923\n",
            "168/168 [==============================] - 3s 19ms/step - loss: 2.4367e-04 - mean_squared_error: 2.4367e-04 - val_loss: 0.0453 - val_mean_squared_error: 0.0453\n",
            "Epoch 114/1000\n",
            "166/168 [============================>.] - ETA: 0s - loss: 2.6519e-04 - mean_squared_error: 2.6519e-04\n",
            "Epoch 114: val_loss did not improve from 0.01923\n",
            "168/168 [==============================] - 3s 19ms/step - loss: 2.6562e-04 - mean_squared_error: 2.6562e-04 - val_loss: 0.1536 - val_mean_squared_error: 0.1536\n",
            "Epoch 115/1000\n",
            "168/168 [==============================] - ETA: 0s - loss: 2.6547e-04 - mean_squared_error: 2.6547e-04\n",
            "Epoch 115: val_loss did not improve from 0.01923\n",
            "168/168 [==============================] - 3s 19ms/step - loss: 2.6547e-04 - mean_squared_error: 2.6547e-04 - val_loss: 0.0505 - val_mean_squared_error: 0.0505\n",
            "Epoch 116/1000\n",
            "166/168 [============================>.] - ETA: 0s - loss: 2.2002e-04 - mean_squared_error: 2.2002e-04\n",
            "Epoch 116: val_loss did not improve from 0.01923\n",
            "168/168 [==============================] - 3s 18ms/step - loss: 2.1943e-04 - mean_squared_error: 2.1943e-04 - val_loss: 0.1098 - val_mean_squared_error: 0.1098\n",
            "Epoch 117/1000\n",
            "168/168 [==============================] - ETA: 0s - loss: 2.2590e-04 - mean_squared_error: 2.2590e-04\n",
            "Epoch 117: val_loss did not improve from 0.01923\n",
            "168/168 [==============================] - 3s 19ms/step - loss: 2.2590e-04 - mean_squared_error: 2.2590e-04 - val_loss: 0.0501 - val_mean_squared_error: 0.0501\n",
            "Epoch 118/1000\n",
            "168/168 [==============================] - ETA: 0s - loss: 2.2808e-04 - mean_squared_error: 2.2808e-04\n",
            "Epoch 118: val_loss did not improve from 0.01923\n",
            "168/168 [==============================] - 3s 19ms/step - loss: 2.2808e-04 - mean_squared_error: 2.2808e-04 - val_loss: 0.1546 - val_mean_squared_error: 0.1546\n",
            "Epoch 119/1000\n",
            "166/168 [============================>.] - ETA: 0s - loss: 2.3189e-04 - mean_squared_error: 2.3189e-04\n",
            "Epoch 119: val_loss did not improve from 0.01923\n",
            "168/168 [==============================] - 3s 19ms/step - loss: 2.3094e-04 - mean_squared_error: 2.3094e-04 - val_loss: 0.1556 - val_mean_squared_error: 0.1556\n",
            "Epoch 120/1000\n",
            "166/168 [============================>.] - ETA: 0s - loss: 2.3778e-04 - mean_squared_error: 2.3778e-04\n",
            "Epoch 120: val_loss did not improve from 0.01923\n",
            "168/168 [==============================] - 3s 19ms/step - loss: 2.3773e-04 - mean_squared_error: 2.3773e-04 - val_loss: 0.0961 - val_mean_squared_error: 0.0961\n",
            "Epoch 121/1000\n",
            "168/168 [==============================] - ETA: 0s - loss: 2.3512e-04 - mean_squared_error: 2.3512e-04\n",
            "Epoch 121: val_loss did not improve from 0.01923\n",
            "168/168 [==============================] - 3s 19ms/step - loss: 2.3512e-04 - mean_squared_error: 2.3512e-04 - val_loss: 0.0587 - val_mean_squared_error: 0.0587\n",
            "Epoch 122/1000\n",
            "166/168 [============================>.] - ETA: 0s - loss: 2.1850e-04 - mean_squared_error: 2.1850e-04\n",
            "Epoch 122: val_loss did not improve from 0.01923\n",
            "168/168 [==============================] - 3s 19ms/step - loss: 2.1742e-04 - mean_squared_error: 2.1742e-04 - val_loss: 0.0647 - val_mean_squared_error: 0.0647\n",
            "Epoch 123/1000\n",
            "168/168 [==============================] - ETA: 0s - loss: 2.3791e-04 - mean_squared_error: 2.3791e-04\n",
            "Epoch 123: val_loss did not improve from 0.01923\n",
            "168/168 [==============================] - 3s 19ms/step - loss: 2.3791e-04 - mean_squared_error: 2.3791e-04 - val_loss: 0.1032 - val_mean_squared_error: 0.1032\n",
            "Epoch 124/1000\n",
            "165/168 [============================>.] - ETA: 0s - loss: 2.4001e-04 - mean_squared_error: 2.4001e-04\n",
            "Epoch 124: val_loss did not improve from 0.01923\n",
            "168/168 [==============================] - 3s 19ms/step - loss: 2.3793e-04 - mean_squared_error: 2.3793e-04 - val_loss: 0.0770 - val_mean_squared_error: 0.0770\n",
            "Epoch 125/1000\n",
            "167/168 [============================>.] - ETA: 0s - loss: 2.2311e-04 - mean_squared_error: 2.2311e-04\n",
            "Epoch 125: val_loss did not improve from 0.01923\n",
            "168/168 [==============================] - 3s 19ms/step - loss: 2.2324e-04 - mean_squared_error: 2.2324e-04 - val_loss: 0.0385 - val_mean_squared_error: 0.0385\n",
            "Epoch 126/1000\n",
            "168/168 [==============================] - ETA: 0s - loss: 2.6654e-04 - mean_squared_error: 2.6654e-04\n",
            "Epoch 126: val_loss did not improve from 0.01923\n",
            "168/168 [==============================] - 3s 19ms/step - loss: 2.6654e-04 - mean_squared_error: 2.6654e-04 - val_loss: 0.0249 - val_mean_squared_error: 0.0249\n",
            "Epoch 127/1000\n",
            "166/168 [============================>.] - ETA: 0s - loss: 2.2143e-04 - mean_squared_error: 2.2143e-04\n",
            "Epoch 127: val_loss did not improve from 0.01923\n",
            "168/168 [==============================] - 3s 19ms/step - loss: 2.2041e-04 - mean_squared_error: 2.2041e-04 - val_loss: 0.0400 - val_mean_squared_error: 0.0400\n",
            "Epoch 128/1000\n",
            "166/168 [============================>.] - ETA: 0s - loss: 2.1681e-04 - mean_squared_error: 2.1681e-04\n",
            "Epoch 128: val_loss did not improve from 0.01923\n",
            "168/168 [==============================] - 3s 19ms/step - loss: 2.1676e-04 - mean_squared_error: 2.1676e-04 - val_loss: 0.0235 - val_mean_squared_error: 0.0235\n",
            "Epoch 129/1000\n",
            "167/168 [============================>.] - ETA: 0s - loss: 2.5088e-04 - mean_squared_error: 2.5088e-04\n",
            "Epoch 129: val_loss did not improve from 0.01923\n",
            "168/168 [==============================] - 3s 19ms/step - loss: 2.5114e-04 - mean_squared_error: 2.5114e-04 - val_loss: 0.1012 - val_mean_squared_error: 0.1012\n",
            "Epoch 130/1000\n",
            "166/168 [============================>.] - ETA: 0s - loss: 2.4825e-04 - mean_squared_error: 2.4825e-04\n",
            "Epoch 130: val_loss did not improve from 0.01923\n",
            "168/168 [==============================] - 3s 19ms/step - loss: 2.4856e-04 - mean_squared_error: 2.4856e-04 - val_loss: 0.1145 - val_mean_squared_error: 0.1145\n",
            "Epoch 131/1000\n",
            "167/168 [============================>.] - ETA: 0s - loss: 2.2215e-04 - mean_squared_error: 2.2215e-04\n",
            "Epoch 131: val_loss did not improve from 0.01923\n",
            "168/168 [==============================] - 3s 19ms/step - loss: 2.2191e-04 - mean_squared_error: 2.2191e-04 - val_loss: 0.0348 - val_mean_squared_error: 0.0348\n",
            "Epoch 131: early stopping\n",
            "Training completed\n",
            "training time: 417.33348274230957\n"
          ]
        }
      ]
    },
    {
      "cell_type": "markdown",
      "source": [
        "##Save trained model"
      ],
      "metadata": {
        "id": "BE3ee4Zw-3bo"
      }
    },
    {
      "cell_type": "code",
      "source": [
        "# save trained model\n",
        "model.save(\"lstm-bitcoin-prices-model.h5\")\n",
        "print(\"lstm-bitcoin-prices-model.h5 saved model to disk in \", os.getcwd())\n",
        "\n",
        "# save on google drive\n",
        "model.save(\"/content/gdrive/My Drive/Colab Notebooks/forecasting/lstm-bitcoin-prices-model.h5\")\n",
        "\n",
        "# save best model on google drive\n",
        "!cp \"lstm-bitcoin-prices-best-model.h5\" \"/content/gdrive/My Drive/Colab Notebooks/forecasting/lstm-bitcoin-prices-best-model.h5\""
      ],
      "metadata": {
        "id": "BJpZGoGr-2Nd",
        "colab": {
          "base_uri": "https://localhost:8080/"
        },
        "outputId": "0208a84e-aa7e-4a41-e2cc-41e1b4e795e3"
      },
      "execution_count": 18,
      "outputs": [
        {
          "output_type": "stream",
          "name": "stdout",
          "text": [
            "lstm-bitcoin-prices-model.h5 saved model to disk in  /content\n"
          ]
        }
      ]
    },
    {
      "cell_type": "markdown",
      "source": [
        "## Plot results LSTM"
      ],
      "metadata": {
        "id": "hpczHpH0PVQ0"
      }
    },
    {
      "cell_type": "markdown",
      "source": [
        "1. Training and validation loss"
      ],
      "metadata": {
        "id": "QgAddxNTP1X4"
      }
    },
    {
      "cell_type": "code",
      "source": [
        "plt.plot(history.history['loss'])\n",
        "plt.plot(history.history['val_loss'])\n",
        "plt.title('model loss (LSTM)')\n",
        "plt.ylabel('loss')\n",
        "plt.xlabel('epoch')\n",
        "plt.legend(['train', 'test'], loc='upper left')\n",
        "plt.show()"
      ],
      "metadata": {
        "id": "Lf8sYFbqeQMt",
        "colab": {
          "base_uri": "https://localhost:8080/",
          "height": 295
        },
        "outputId": "5226a87e-1b4e-4904-85d2-1b028fd8a8e8"
      },
      "execution_count": 19,
      "outputs": [
        {
          "output_type": "display_data",
          "data": {
            "image/png": "[encoded data removed]",
            "text/plain": [
              "<Figure size 432x288 with 1 Axes>"
            ]
          },
          "metadata": {
            "needs_background": "light"
          }
        }
      ]
    },
    {
      "cell_type": "markdown",
      "source": [
        "2. Evaluate model with train dataset"
      ],
      "metadata": {
        "id": "BY0icqWjFcQr"
      }
    },
    {
      "cell_type": "code",
      "source": [
        "y_hat_train = model.predict(X_train)\n",
        " \n",
        "plt.plot(y_train, label=\"Actual Price\", color='green')\n",
        "plt.plot(y_hat_train, label=\"Predicted Price\", color='red')\n",
        "\n",
        "plt.title('Bitcoin price prediction')\n",
        "plt.xlabel('Time [days]')\n",
        "plt.ylabel('Price')\n",
        "plt.legend(loc='best')\n",
        "\n",
        "plt.show();"
      ],
      "metadata": {
        "id": "3Kp570HNFj3x",
        "colab": {
          "base_uri": "https://localhost:8080/",
          "height": 295
        },
        "outputId": "579c261f-b08a-41a8-891d-e4635c029187"
      },
      "execution_count": 20,
      "outputs": [
        {
          "output_type": "display_data",
          "data": {
            "image/png": "[encoded data removed]",
            "text/plain": [
              "<Figure size 432x288 with 1 Axes>"
            ]
          },
          "metadata": {
            "needs_background": "light"
          }
        }
      ]
    },
    {
      "cell_type": "markdown",
      "source": [
        "3. Evaluate model with test dataset"
      ],
      "metadata": {
        "id": "6qcg67-2Wv8i"
      }
    },
    {
      "cell_type": "code",
      "source": [
        "y_hat = model.predict(X_test)\n",
        " \n",
        "plt.plot(y_test, label=\"Actual Price\", color='green')\n",
        "plt.plot(y_hat, label=\"Predicted Price\", color='red')\n",
        " \n",
        "plt.title('Bitcoin price prediction')\n",
        "plt.xlabel('Time [days]')\n",
        "plt.ylabel('Price')\n",
        "plt.legend(loc='best')\n",
        " \n",
        "plt.show();"
      ],
      "metadata": {
        "id": "dRU0-Ip8Wmme",
        "colab": {
          "base_uri": "https://localhost:8080/",
          "height": 295
        },
        "outputId": "3a052c8c-08b0-4f54-868d-3c331424b1e2"
      },
      "execution_count": 21,
      "outputs": [
        {
          "output_type": "display_data",
          "data": {
            "image/png": "[encoded data removed]",
            "text/plain": [
              "<Figure size 432x288 with 1 Axes>"
            ]
          },
          "metadata": {
            "needs_background": "light"
          }
        }
      ]
    },
    {
      "cell_type": "markdown",
      "source": [
        "## RMSE of test dataset"
      ],
      "metadata": {
        "id": "Qkx6urcLEykU"
      }
    },
    {
      "cell_type": "code",
      "source": [
        "rmse_train = mean_squared_error(y_train, y_hat_train, squared=False)\n",
        "rmse_test = mean_squared_error(y_test, y_hat, squared=False)\n",
        "\n",
        "print(f'RMSE train: {rmse_train}')\n",
        "print(f'RMSE test: {rmse_test}')"
      ],
      "metadata": {
        "id": "hkzCEEogE2hk",
        "colab": {
          "base_uri": "https://localhost:8080/"
        },
        "outputId": "9be6ef6c-c7df-43ad-ab6e-8af3c6f635a2"
      },
      "execution_count": 22,
      "outputs": [
        {
          "output_type": "stream",
          "name": "stdout",
          "text": [
            "RMSE train: 0.009931528656348863\n",
            "RMSE test: 0.18645568407159813\n"
          ]
        }
      ]
    },
    {
      "cell_type": "markdown",
      "source": [
        "#Bidirectional LSTM Model"
      ],
      "metadata": {
        "id": "a2htGKJyUIFB"
      }
    },
    {
      "cell_type": "code",
      "source": [
        "# define model\n",
        "model = Sequential()\n",
        "\n",
        "hidden_neurons_layer = 64\n",
        "# hidden_neurons_layer = (int(X_train.shape[2]*2/3))+1\n",
        "\n",
        "neurons_output = 1\n",
        "dropout=0.2\n",
        "\n",
        "# 1\n",
        "model.add(Bidirectional(LSTM(units=hidden_neurons_layer, return_sequences=True, activation='tanh'), input_shape=(X_train.shape[1], X_train.shape[2])))\n",
        "model.add(Dropout(rate=dropout))\n",
        "\n",
        "# 2\n",
        "model.add(Bidirectional(LSTM(units=hidden_neurons_layer*2, return_sequences=True, activation='tanh')))\n",
        "model.add(Dropout(rate=dropout))\n",
        "\n",
        "# 3\n",
        "model.add(Bidirectional(LSTM(units=hidden_neurons_layer, return_sequences=False, activation='tanh')))\n",
        "model.add(Dropout(rate=dropout))\n",
        "\n",
        "# output Layer\n",
        "model.add(Dense(units=neurons_output))\n",
        "# Set activation function (If your problem is a regression problem, you should use a linear activation function)\n",
        "model.add(Activation('linear'))\n",
        "\n",
        "model.compile(loss='mean_squared_error', optimizer='adam', metrics=['mean_squared_error'])"
      ],
      "metadata": {
        "id": "g6tLW339UIFP"
      },
      "execution_count": 23,
      "outputs": []
    },
    {
      "cell_type": "code",
      "source": [
        "model.summary()"
      ],
      "metadata": {
        "colab": {
          "base_uri": "https://localhost:8080/"
        },
        "outputId": "b18c348c-2e5c-4bbc-8ede-27c440d0219c",
        "id": "XVHu0mXQUIFQ"
      },
      "execution_count": 24,
      "outputs": [
        {
          "output_type": "stream",
          "name": "stdout",
          "text": [
            "Model: \"sequential_1\"\n",
            "_________________________________________________________________\n",
            " Layer (type)                Output Shape              Param #   \n",
            "=================================================================\n",
            " bidirectional (Bidirectiona  (None, 15, 128)          35328     \n",
            " l)                                                              \n",
            "                                                                 \n",
            " dropout_3 (Dropout)         (None, 15, 128)           0         \n",
            "                                                                 \n",
            " bidirectional_1 (Bidirectio  (None, 15, 256)          263168    \n",
            " nal)                                                            \n",
            "                                                                 \n",
            " dropout_4 (Dropout)         (None, 15, 256)           0         \n",
            "                                                                 \n",
            " bidirectional_2 (Bidirectio  (None, 128)              164352    \n",
            " nal)                                                            \n",
            "                                                                 \n",
            " dropout_5 (Dropout)         (None, 128)               0         \n",
            "                                                                 \n",
            " dense_1 (Dense)             (None, 1)                 129       \n",
            "                                                                 \n",
            " activation_1 (Activation)   (None, 1)                 0         \n",
            "                                                                 \n",
            "=================================================================\n",
            "Total params: 462,977\n",
            "Trainable params: 462,977\n",
            "Non-trainable params: 0\n",
            "_________________________________________________________________\n"
          ]
        }
      ]
    },
    {
      "cell_type": "code",
      "source": [
        "es = EarlyStopping(monitor='val_loss', mode='min', verbose=1, patience=100, min_delta=1e-3)\n",
        "mc = ModelCheckpoint('bidirectional-lstm-bitcoin-prices-best-model.h5', monitor='val_loss', mode='min', verbose=1, save_best_only=True)\n",
        "\n",
        "start = time.time()\n",
        "\n",
        "with tf.device('/device:GPU:0'):\n",
        "  # fit model to training data\n",
        "  history = model.fit(\n",
        "      X_train,\n",
        "      y_train,\n",
        "      epochs=1000,\n",
        "      batch_size=16,\n",
        "      validation_data=(X_test, y_test),\n",
        "      use_multiprocessing=True,\n",
        "      callbacks=[es, mc])\n",
        "  print(\"Training completed\")\n",
        "\n",
        "# fit model to training data without GPU\n",
        "# history = model.fit(\n",
        "#       X_train,\n",
        "#       y_train,\n",
        "#       epochs=1000,\n",
        "#       batch_size=16,\n",
        "#       validation_data=(X_test, y_test),\n",
        "#       use_multiprocessing=True,\n",
        "#       callbacks=[es, mc])\n",
        "\n",
        "print(f'training time: {time.time() - start}')"
      ],
      "metadata": {
        "colab": {
          "base_uri": "https://localhost:8080/"
        },
        "outputId": "870550ef-bada-40c9-a077-1914e63c669b",
        "id": "hNYo0ex7UIFR"
      },
      "execution_count": 25,
      "outputs": [
        {
          "output_type": "stream",
          "name": "stdout",
          "text": [
            "Epoch 1/1000\n",
            "167/168 [============================>.] - ETA: 0s - loss: 0.0151 - mean_squared_error: 0.0151\n",
            "Epoch 1: val_loss improved from inf to 0.02207, saving model to bidirectional-lstm-bitcoin-prices-best-model.h5\n",
            "168/168 [==============================] - 19s 49ms/step - loss: 0.0150 - mean_squared_error: 0.0150 - val_loss: 0.0221 - val_mean_squared_error: 0.0221\n",
            "Epoch 2/1000\n",
            "167/168 [============================>.] - ETA: 0s - loss: 0.0038 - mean_squared_error: 0.0038\n",
            "Epoch 2: val_loss did not improve from 0.02207\n",
            "168/168 [==============================] - 6s 33ms/step - loss: 0.0038 - mean_squared_error: 0.0038 - val_loss: 0.0279 - val_mean_squared_error: 0.0279\n",
            "Epoch 3/1000\n",
            "167/168 [============================>.] - ETA: 0s - loss: 0.0032 - mean_squared_error: 0.0032\n",
            "Epoch 3: val_loss improved from 0.02207 to 0.01788, saving model to bidirectional-lstm-bitcoin-prices-best-model.h5\n",
            "168/168 [==============================] - 6s 34ms/step - loss: 0.0032 - mean_squared_error: 0.0032 - val_loss: 0.0179 - val_mean_squared_error: 0.0179\n",
            "Epoch 4/1000\n",
            "167/168 [============================>.] - ETA: 0s - loss: 0.0032 - mean_squared_error: 0.0032\n",
            "Epoch 4: val_loss improved from 0.01788 to 0.01663, saving model to bidirectional-lstm-bitcoin-prices-best-model.h5\n",
            "168/168 [==============================] - 6s 34ms/step - loss: 0.0032 - mean_squared_error: 0.0032 - val_loss: 0.0166 - val_mean_squared_error: 0.0166\n",
            "Epoch 5/1000\n",
            "167/168 [============================>.] - ETA: 0s - loss: 0.0029 - mean_squared_error: 0.0029\n",
            "Epoch 5: val_loss improved from 0.01663 to 0.01547, saving model to bidirectional-lstm-bitcoin-prices-best-model.h5\n",
            "168/168 [==============================] - 6s 34ms/step - loss: 0.0029 - mean_squared_error: 0.0029 - val_loss: 0.0155 - val_mean_squared_error: 0.0155\n",
            "Epoch 6/1000\n",
            "167/168 [============================>.] - ETA: 0s - loss: 0.0026 - mean_squared_error: 0.0026\n",
            "Epoch 6: val_loss did not improve from 0.01547\n",
            "168/168 [==============================] - 6s 33ms/step - loss: 0.0026 - mean_squared_error: 0.0026 - val_loss: 0.0201 - val_mean_squared_error: 0.0201\n",
            "Epoch 7/1000\n",
            "167/168 [============================>.] - ETA: 0s - loss: 0.0028 - mean_squared_error: 0.0028\n",
            "Epoch 7: val_loss did not improve from 0.01547\n",
            "168/168 [==============================] - 6s 34ms/step - loss: 0.0028 - mean_squared_error: 0.0028 - val_loss: 0.0204 - val_mean_squared_error: 0.0204\n",
            "Epoch 8/1000\n",
            "167/168 [============================>.] - ETA: 0s - loss: 0.0028 - mean_squared_error: 0.0028\n",
            "Epoch 8: val_loss improved from 0.01547 to 0.01275, saving model to bidirectional-lstm-bitcoin-prices-best-model.h5\n",
            "168/168 [==============================] - 6s 34ms/step - loss: 0.0028 - mean_squared_error: 0.0028 - val_loss: 0.0128 - val_mean_squared_error: 0.0128\n",
            "Epoch 9/1000\n",
            "167/168 [============================>.] - ETA: 0s - loss: 0.0024 - mean_squared_error: 0.0024\n",
            "Epoch 9: val_loss did not improve from 0.01275\n",
            "168/168 [==============================] - 6s 34ms/step - loss: 0.0024 - mean_squared_error: 0.0024 - val_loss: 0.0413 - val_mean_squared_error: 0.0413\n",
            "Epoch 10/1000\n",
            "167/168 [============================>.] - ETA: 0s - loss: 0.0025 - mean_squared_error: 0.0025\n",
            "Epoch 10: val_loss did not improve from 0.01275\n",
            "168/168 [==============================] - 6s 34ms/step - loss: 0.0025 - mean_squared_error: 0.0025 - val_loss: 0.0660 - val_mean_squared_error: 0.0660\n",
            "Epoch 11/1000\n",
            "167/168 [============================>.] - ETA: 0s - loss: 0.0026 - mean_squared_error: 0.0026\n",
            "Epoch 11: val_loss did not improve from 0.01275\n",
            "168/168 [==============================] - 6s 34ms/step - loss: 0.0026 - mean_squared_error: 0.0026 - val_loss: 0.0257 - val_mean_squared_error: 0.0257\n",
            "Epoch 12/1000\n",
            "167/168 [============================>.] - ETA: 0s - loss: 0.0024 - mean_squared_error: 0.0024\n",
            "Epoch 12: val_loss did not improve from 0.01275\n",
            "168/168 [==============================] - 6s 34ms/step - loss: 0.0024 - mean_squared_error: 0.0024 - val_loss: 0.0769 - val_mean_squared_error: 0.0769\n",
            "Epoch 13/1000\n",
            "167/168 [============================>.] - ETA: 0s - loss: 0.0020 - mean_squared_error: 0.0020\n",
            "Epoch 13: val_loss did not improve from 0.01275\n",
            "168/168 [==============================] - 6s 34ms/step - loss: 0.0020 - mean_squared_error: 0.0020 - val_loss: 0.1904 - val_mean_squared_error: 0.1904\n",
            "Epoch 14/1000\n",
            "167/168 [============================>.] - ETA: 0s - loss: 0.0020 - mean_squared_error: 0.0020\n",
            "Epoch 14: val_loss did not improve from 0.01275\n",
            "168/168 [==============================] - 6s 34ms/step - loss: 0.0020 - mean_squared_error: 0.0020 - val_loss: 0.1922 - val_mean_squared_error: 0.1922\n",
            "Epoch 15/1000\n",
            "167/168 [============================>.] - ETA: 0s - loss: 0.0019 - mean_squared_error: 0.0019\n",
            "Epoch 15: val_loss did not improve from 0.01275\n",
            "168/168 [==============================] - 6s 34ms/step - loss: 0.0019 - mean_squared_error: 0.0019 - val_loss: 0.3140 - val_mean_squared_error: 0.3140\n",
            "Epoch 16/1000\n",
            "167/168 [============================>.] - ETA: 0s - loss: 0.0018 - mean_squared_error: 0.0018\n",
            "Epoch 16: val_loss did not improve from 0.01275\n",
            "168/168 [==============================] - 6s 34ms/step - loss: 0.0018 - mean_squared_error: 0.0018 - val_loss: 0.3498 - val_mean_squared_error: 0.3498\n",
            "Epoch 17/1000\n",
            "167/168 [============================>.] - ETA: 0s - loss: 0.0018 - mean_squared_error: 0.0018\n",
            "Epoch 17: val_loss did not improve from 0.01275\n",
            "168/168 [==============================] - 6s 33ms/step - loss: 0.0018 - mean_squared_error: 0.0018 - val_loss: 0.2196 - val_mean_squared_error: 0.2196\n",
            "Epoch 18/1000\n",
            "167/168 [============================>.] - ETA: 0s - loss: 0.0016 - mean_squared_error: 0.0016\n",
            "Epoch 18: val_loss did not improve from 0.01275\n",
            "168/168 [==============================] - 6s 34ms/step - loss: 0.0016 - mean_squared_error: 0.0016 - val_loss: 0.3984 - val_mean_squared_error: 0.3984\n",
            "Epoch 19/1000\n",
            "167/168 [============================>.] - ETA: 0s - loss: 0.0016 - mean_squared_error: 0.0016\n",
            "Epoch 19: val_loss did not improve from 0.01275\n",
            "168/168 [==============================] - 6s 34ms/step - loss: 0.0016 - mean_squared_error: 0.0016 - val_loss: 0.3256 - val_mean_squared_error: 0.3256\n",
            "Epoch 20/1000\n",
            "167/168 [============================>.] - ETA: 0s - loss: 0.0018 - mean_squared_error: 0.0018\n",
            "Epoch 20: val_loss did not improve from 0.01275\n",
            "168/168 [==============================] - 6s 33ms/step - loss: 0.0018 - mean_squared_error: 0.0018 - val_loss: 0.2447 - val_mean_squared_error: 0.2447\n",
            "Epoch 21/1000\n",
            "167/168 [============================>.] - ETA: 0s - loss: 0.0016 - mean_squared_error: 0.0016\n",
            "Epoch 21: val_loss did not improve from 0.01275\n",
            "168/168 [==============================] - 6s 34ms/step - loss: 0.0015 - mean_squared_error: 0.0015 - val_loss: 0.4137 - val_mean_squared_error: 0.4137\n",
            "Epoch 22/1000\n",
            "167/168 [============================>.] - ETA: 0s - loss: 0.0015 - mean_squared_error: 0.0015\n",
            "Epoch 22: val_loss did not improve from 0.01275\n",
            "168/168 [==============================] - 6s 33ms/step - loss: 0.0015 - mean_squared_error: 0.0015 - val_loss: 0.2581 - val_mean_squared_error: 0.2581\n",
            "Epoch 23/1000\n",
            "167/168 [============================>.] - ETA: 0s - loss: 0.0015 - mean_squared_error: 0.0015\n",
            "Epoch 23: val_loss did not improve from 0.01275\n",
            "168/168 [==============================] - 6s 33ms/step - loss: 0.0015 - mean_squared_error: 0.0015 - val_loss: 0.4343 - val_mean_squared_error: 0.4343\n",
            "Epoch 24/1000\n",
            "167/168 [============================>.] - ETA: 0s - loss: 0.0014 - mean_squared_error: 0.0014\n",
            "Epoch 24: val_loss did not improve from 0.01275\n",
            "168/168 [==============================] - 6s 34ms/step - loss: 0.0014 - mean_squared_error: 0.0014 - val_loss: 0.3290 - val_mean_squared_error: 0.3290\n",
            "Epoch 25/1000\n",
            "167/168 [============================>.] - ETA: 0s - loss: 0.0015 - mean_squared_error: 0.0015\n",
            "Epoch 25: val_loss did not improve from 0.01275\n",
            "168/168 [==============================] - 6s 34ms/step - loss: 0.0015 - mean_squared_error: 0.0015 - val_loss: 0.2217 - val_mean_squared_error: 0.2217\n",
            "Epoch 26/1000\n",
            "167/168 [============================>.] - ETA: 0s - loss: 0.0014 - mean_squared_error: 0.0014\n",
            "Epoch 26: val_loss did not improve from 0.01275\n",
            "168/168 [==============================] - 6s 33ms/step - loss: 0.0014 - mean_squared_error: 0.0014 - val_loss: 0.1883 - val_mean_squared_error: 0.1883\n",
            "Epoch 27/1000\n",
            "167/168 [============================>.] - ETA: 0s - loss: 0.0012 - mean_squared_error: 0.0012\n",
            "Epoch 27: val_loss did not improve from 0.01275\n",
            "168/168 [==============================] - 6s 33ms/step - loss: 0.0012 - mean_squared_error: 0.0012 - val_loss: 0.2103 - val_mean_squared_error: 0.2103\n",
            "Epoch 28/1000\n",
            "167/168 [============================>.] - ETA: 0s - loss: 0.0014 - mean_squared_error: 0.0014\n",
            "Epoch 28: val_loss did not improve from 0.01275\n",
            "168/168 [==============================] - 6s 34ms/step - loss: 0.0014 - mean_squared_error: 0.0014 - val_loss: 0.0696 - val_mean_squared_error: 0.0696\n",
            "Epoch 29/1000\n",
            "167/168 [============================>.] - ETA: 0s - loss: 0.0012 - mean_squared_error: 0.0012\n",
            "Epoch 29: val_loss did not improve from 0.01275\n",
            "168/168 [==============================] - 6s 34ms/step - loss: 0.0012 - mean_squared_error: 0.0012 - val_loss: 0.2154 - val_mean_squared_error: 0.2154\n",
            "Epoch 30/1000\n",
            "167/168 [============================>.] - ETA: 0s - loss: 0.0013 - mean_squared_error: 0.0013\n",
            "Epoch 30: val_loss did not improve from 0.01275\n",
            "168/168 [==============================] - 6s 34ms/step - loss: 0.0013 - mean_squared_error: 0.0013 - val_loss: 0.2213 - val_mean_squared_error: 0.2213\n",
            "Epoch 31/1000\n",
            "167/168 [============================>.] - ETA: 0s - loss: 0.0012 - mean_squared_error: 0.0012\n",
            "Epoch 31: val_loss did not improve from 0.01275\n",
            "168/168 [==============================] - 6s 34ms/step - loss: 0.0012 - mean_squared_error: 0.0012 - val_loss: 0.2424 - val_mean_squared_error: 0.2424\n",
            "Epoch 32/1000\n",
            "167/168 [============================>.] - ETA: 0s - loss: 0.0010 - mean_squared_error: 0.0010\n",
            "Epoch 32: val_loss did not improve from 0.01275\n",
            "168/168 [==============================] - 6s 34ms/step - loss: 0.0010 - mean_squared_error: 0.0010 - val_loss: 0.3126 - val_mean_squared_error: 0.3126\n",
            "Epoch 33/1000\n",
            "167/168 [============================>.] - ETA: 0s - loss: 0.0010 - mean_squared_error: 0.0010\n",
            "Epoch 33: val_loss did not improve from 0.01275\n",
            "168/168 [==============================] - 6s 34ms/step - loss: 0.0010 - mean_squared_error: 0.0010 - val_loss: 0.1777 - val_mean_squared_error: 0.1777\n",
            "Epoch 34/1000\n",
            "167/168 [============================>.] - ETA: 0s - loss: 8.9668e-04 - mean_squared_error: 8.9668e-04\n",
            "Epoch 34: val_loss did not improve from 0.01275\n",
            "168/168 [==============================] - 6s 34ms/step - loss: 8.9733e-04 - mean_squared_error: 8.9733e-04 - val_loss: 0.1510 - val_mean_squared_error: 0.1510\n",
            "Epoch 35/1000\n",
            "167/168 [============================>.] - ETA: 0s - loss: 9.8891e-04 - mean_squared_error: 9.8891e-04\n",
            "Epoch 35: val_loss did not improve from 0.01275\n",
            "168/168 [==============================] - 6s 34ms/step - loss: 9.8765e-04 - mean_squared_error: 9.8765e-04 - val_loss: 0.1133 - val_mean_squared_error: 0.1133\n",
            "Epoch 36/1000\n",
            "167/168 [============================>.] - ETA: 0s - loss: 9.5968e-04 - mean_squared_error: 9.5968e-04\n",
            "Epoch 36: val_loss did not improve from 0.01275\n",
            "168/168 [==============================] - 6s 34ms/step - loss: 9.5922e-04 - mean_squared_error: 9.5922e-04 - val_loss: 0.0527 - val_mean_squared_error: 0.0527\n",
            "Epoch 37/1000\n",
            "167/168 [============================>.] - ETA: 0s - loss: 9.5388e-04 - mean_squared_error: 9.5388e-04\n",
            "Epoch 37: val_loss did not improve from 0.01275\n",
            "168/168 [==============================] - 6s 34ms/step - loss: 9.5300e-04 - mean_squared_error: 9.5300e-04 - val_loss: 0.1927 - val_mean_squared_error: 0.1927\n",
            "Epoch 38/1000\n",
            "167/168 [============================>.] - ETA: 0s - loss: 7.7393e-04 - mean_squared_error: 7.7393e-04\n",
            "Epoch 38: val_loss did not improve from 0.01275\n",
            "168/168 [==============================] - 6s 34ms/step - loss: 7.7765e-04 - mean_squared_error: 7.7765e-04 - val_loss: 0.1269 - val_mean_squared_error: 0.1269\n",
            "Epoch 39/1000\n",
            "167/168 [============================>.] - ETA: 0s - loss: 8.5744e-04 - mean_squared_error: 8.5744e-04\n",
            "Epoch 39: val_loss did not improve from 0.01275\n",
            "168/168 [==============================] - 6s 34ms/step - loss: 8.5667e-04 - mean_squared_error: 8.5667e-04 - val_loss: 0.1853 - val_mean_squared_error: 0.1853\n",
            "Epoch 40/1000\n",
            "167/168 [============================>.] - ETA: 0s - loss: 7.3781e-04 - mean_squared_error: 7.3781e-04\n",
            "Epoch 40: val_loss did not improve from 0.01275\n",
            "168/168 [==============================] - 6s 34ms/step - loss: 7.3728e-04 - mean_squared_error: 7.3728e-04 - val_loss: 0.1742 - val_mean_squared_error: 0.1742\n",
            "Epoch 41/1000\n",
            "167/168 [============================>.] - ETA: 0s - loss: 7.5763e-04 - mean_squared_error: 7.5763e-04\n",
            "Epoch 41: val_loss did not improve from 0.01275\n",
            "168/168 [==============================] - 6s 34ms/step - loss: 7.5778e-04 - mean_squared_error: 7.5778e-04 - val_loss: 0.0740 - val_mean_squared_error: 0.0740\n",
            "Epoch 42/1000\n",
            "167/168 [============================>.] - ETA: 0s - loss: 7.2325e-04 - mean_squared_error: 7.2325e-04\n",
            "Epoch 42: val_loss did not improve from 0.01275\n",
            "168/168 [==============================] - 6s 34ms/step - loss: 7.2313e-04 - mean_squared_error: 7.2313e-04 - val_loss: 0.0962 - val_mean_squared_error: 0.0962\n",
            "Epoch 43/1000\n",
            "167/168 [============================>.] - ETA: 0s - loss: 7.4479e-04 - mean_squared_error: 7.4479e-04\n",
            "Epoch 43: val_loss did not improve from 0.01275\n",
            "168/168 [==============================] - 6s 33ms/step - loss: 7.4457e-04 - mean_squared_error: 7.4457e-04 - val_loss: 0.0595 - val_mean_squared_error: 0.0595\n",
            "Epoch 44/1000\n",
            "167/168 [============================>.] - ETA: 0s - loss: 7.3245e-04 - mean_squared_error: 7.3245e-04\n",
            "Epoch 44: val_loss did not improve from 0.01275\n",
            "168/168 [==============================] - 6s 34ms/step - loss: 7.3425e-04 - mean_squared_error: 7.3425e-04 - val_loss: 0.1244 - val_mean_squared_error: 0.1244\n",
            "Epoch 45/1000\n",
            "167/168 [============================>.] - ETA: 0s - loss: 6.4874e-04 - mean_squared_error: 6.4874e-04\n",
            "Epoch 45: val_loss did not improve from 0.01275\n",
            "168/168 [==============================] - 6s 34ms/step - loss: 6.4784e-04 - mean_squared_error: 6.4784e-04 - val_loss: 0.1113 - val_mean_squared_error: 0.1113\n",
            "Epoch 46/1000\n",
            "167/168 [============================>.] - ETA: 0s - loss: 6.4382e-04 - mean_squared_error: 6.4382e-04\n",
            "Epoch 46: val_loss did not improve from 0.01275\n",
            "168/168 [==============================] - 6s 34ms/step - loss: 6.4326e-04 - mean_squared_error: 6.4326e-04 - val_loss: 0.1580 - val_mean_squared_error: 0.1580\n",
            "Epoch 47/1000\n",
            "167/168 [============================>.] - ETA: 0s - loss: 5.9736e-04 - mean_squared_error: 5.9736e-04\n",
            "Epoch 47: val_loss did not improve from 0.01275\n",
            "168/168 [==============================] - 6s 34ms/step - loss: 5.9665e-04 - mean_squared_error: 5.9665e-04 - val_loss: 0.1174 - val_mean_squared_error: 0.1174\n",
            "Epoch 48/1000\n",
            "167/168 [============================>.] - ETA: 0s - loss: 6.0936e-04 - mean_squared_error: 6.0936e-04\n",
            "Epoch 48: val_loss did not improve from 0.01275\n",
            "168/168 [==============================] - 6s 34ms/step - loss: 6.1004e-04 - mean_squared_error: 6.1004e-04 - val_loss: 0.0404 - val_mean_squared_error: 0.0404\n",
            "Epoch 49/1000\n",
            "167/168 [============================>.] - ETA: 0s - loss: 5.4293e-04 - mean_squared_error: 5.4293e-04\n",
            "Epoch 49: val_loss did not improve from 0.01275\n",
            "168/168 [==============================] - 6s 34ms/step - loss: 5.4372e-04 - mean_squared_error: 5.4372e-04 - val_loss: 0.1683 - val_mean_squared_error: 0.1683\n",
            "Epoch 50/1000\n",
            "167/168 [============================>.] - ETA: 0s - loss: 5.3872e-04 - mean_squared_error: 5.3872e-04\n",
            "Epoch 50: val_loss did not improve from 0.01275\n",
            "168/168 [==============================] - 6s 34ms/step - loss: 5.3872e-04 - mean_squared_error: 5.3872e-04 - val_loss: 0.1280 - val_mean_squared_error: 0.1280\n",
            "Epoch 51/1000\n",
            "167/168 [============================>.] - ETA: 0s - loss: 5.6121e-04 - mean_squared_error: 5.6121e-04\n",
            "Epoch 51: val_loss did not improve from 0.01275\n",
            "168/168 [==============================] - 6s 34ms/step - loss: 5.6067e-04 - mean_squared_error: 5.6067e-04 - val_loss: 0.2490 - val_mean_squared_error: 0.2490\n",
            "Epoch 52/1000\n",
            "167/168 [============================>.] - ETA: 0s - loss: 4.9691e-04 - mean_squared_error: 4.9691e-04\n",
            "Epoch 52: val_loss did not improve from 0.01275\n",
            "168/168 [==============================] - 6s 34ms/step - loss: 4.9720e-04 - mean_squared_error: 4.9720e-04 - val_loss: 0.1244 - val_mean_squared_error: 0.1244\n",
            "Epoch 53/1000\n",
            "167/168 [============================>.] - ETA: 0s - loss: 4.9342e-04 - mean_squared_error: 4.9342e-04\n",
            "Epoch 53: val_loss did not improve from 0.01275\n",
            "168/168 [==============================] - 6s 34ms/step - loss: 4.9351e-04 - mean_squared_error: 4.9351e-04 - val_loss: 0.1589 - val_mean_squared_error: 0.1589\n",
            "Epoch 54/1000\n",
            "167/168 [============================>.] - ETA: 0s - loss: 4.5374e-04 - mean_squared_error: 4.5374e-04\n",
            "Epoch 54: val_loss did not improve from 0.01275\n",
            "168/168 [==============================] - 6s 34ms/step - loss: 4.5536e-04 - mean_squared_error: 4.5536e-04 - val_loss: 0.0160 - val_mean_squared_error: 0.0160\n",
            "Epoch 55/1000\n",
            "167/168 [============================>.] - ETA: 0s - loss: 4.8080e-04 - mean_squared_error: 4.8080e-04\n",
            "Epoch 55: val_loss did not improve from 0.01275\n",
            "168/168 [==============================] - 6s 33ms/step - loss: 4.8057e-04 - mean_squared_error: 4.8057e-04 - val_loss: 0.2262 - val_mean_squared_error: 0.2262\n",
            "Epoch 56/1000\n",
            "167/168 [============================>.] - ETA: 0s - loss: 4.7842e-04 - mean_squared_error: 4.7842e-04\n",
            "Epoch 56: val_loss did not improve from 0.01275\n",
            "168/168 [==============================] - 6s 34ms/step - loss: 4.7938e-04 - mean_squared_error: 4.7938e-04 - val_loss: 0.1047 - val_mean_squared_error: 0.1047\n",
            "Epoch 57/1000\n",
            "167/168 [============================>.] - ETA: 0s - loss: 4.7925e-04 - mean_squared_error: 4.7925e-04\n",
            "Epoch 57: val_loss did not improve from 0.01275\n",
            "168/168 [==============================] - 6s 34ms/step - loss: 4.7976e-04 - mean_squared_error: 4.7976e-04 - val_loss: 0.2311 - val_mean_squared_error: 0.2311\n",
            "Epoch 58/1000\n",
            "167/168 [============================>.] - ETA: 0s - loss: 4.1568e-04 - mean_squared_error: 4.1568e-04\n",
            "Epoch 58: val_loss did not improve from 0.01275\n",
            "168/168 [==============================] - 6s 34ms/step - loss: 4.1566e-04 - mean_squared_error: 4.1566e-04 - val_loss: 0.0785 - val_mean_squared_error: 0.0785\n",
            "Epoch 59/1000\n",
            "167/168 [============================>.] - ETA: 0s - loss: 4.2702e-04 - mean_squared_error: 4.2702e-04\n",
            "Epoch 59: val_loss did not improve from 0.01275\n",
            "168/168 [==============================] - 6s 34ms/step - loss: 4.2672e-04 - mean_squared_error: 4.2672e-04 - val_loss: 0.3255 - val_mean_squared_error: 0.3255\n",
            "Epoch 60/1000\n",
            "167/168 [============================>.] - ETA: 0s - loss: 3.7472e-04 - mean_squared_error: 3.7472e-04\n",
            "Epoch 60: val_loss did not improve from 0.01275\n",
            "168/168 [==============================] - 6s 34ms/step - loss: 3.7424e-04 - mean_squared_error: 3.7424e-04 - val_loss: 0.2182 - val_mean_squared_error: 0.2182\n",
            "Epoch 61/1000\n",
            "167/168 [============================>.] - ETA: 0s - loss: 3.9211e-04 - mean_squared_error: 3.9211e-04\n",
            "Epoch 61: val_loss did not improve from 0.01275\n",
            "168/168 [==============================] - 6s 34ms/step - loss: 3.9154e-04 - mean_squared_error: 3.9154e-04 - val_loss: 0.1294 - val_mean_squared_error: 0.1294\n",
            "Epoch 62/1000\n",
            "167/168 [============================>.] - ETA: 0s - loss: 3.6305e-04 - mean_squared_error: 3.6305e-04\n",
            "Epoch 62: val_loss did not improve from 0.01275\n",
            "168/168 [==============================] - 6s 34ms/step - loss: 3.6273e-04 - mean_squared_error: 3.6273e-04 - val_loss: 0.1362 - val_mean_squared_error: 0.1362\n",
            "Epoch 63/1000\n",
            "167/168 [============================>.] - ETA: 0s - loss: 3.5146e-04 - mean_squared_error: 3.5146e-04\n",
            "Epoch 63: val_loss did not improve from 0.01275\n",
            "168/168 [==============================] - 6s 34ms/step - loss: 3.5152e-04 - mean_squared_error: 3.5152e-04 - val_loss: 0.1926 - val_mean_squared_error: 0.1926\n",
            "Epoch 64/1000\n",
            "167/168 [============================>.] - ETA: 0s - loss: 3.6745e-04 - mean_squared_error: 3.6745e-04\n",
            "Epoch 64: val_loss did not improve from 0.01275\n",
            "168/168 [==============================] - 6s 34ms/step - loss: 3.6714e-04 - mean_squared_error: 3.6714e-04 - val_loss: 0.1711 - val_mean_squared_error: 0.1711\n",
            "Epoch 65/1000\n",
            "167/168 [============================>.] - ETA: 0s - loss: 3.0665e-04 - mean_squared_error: 3.0665e-04\n",
            "Epoch 65: val_loss did not improve from 0.01275\n",
            "168/168 [==============================] - 6s 34ms/step - loss: 3.0633e-04 - mean_squared_error: 3.0633e-04 - val_loss: 0.1228 - val_mean_squared_error: 0.1228\n",
            "Epoch 66/1000\n",
            "167/168 [============================>.] - ETA: 0s - loss: 3.5325e-04 - mean_squared_error: 3.5325e-04\n",
            "Epoch 66: val_loss did not improve from 0.01275\n",
            "168/168 [==============================] - 6s 34ms/step - loss: 3.5347e-04 - mean_squared_error: 3.5347e-04 - val_loss: 0.1988 - val_mean_squared_error: 0.1988\n",
            "Epoch 67/1000\n",
            "167/168 [============================>.] - ETA: 0s - loss: 3.1878e-04 - mean_squared_error: 3.1878e-04\n",
            "Epoch 67: val_loss did not improve from 0.01275\n",
            "168/168 [==============================] - 6s 34ms/step - loss: 3.1886e-04 - mean_squared_error: 3.1886e-04 - val_loss: 0.1853 - val_mean_squared_error: 0.1853\n",
            "Epoch 68/1000\n",
            "167/168 [============================>.] - ETA: 0s - loss: 3.1525e-04 - mean_squared_error: 3.1525e-04\n",
            "Epoch 68: val_loss did not improve from 0.01275\n",
            "168/168 [==============================] - 6s 34ms/step - loss: 3.1513e-04 - mean_squared_error: 3.1513e-04 - val_loss: 0.1243 - val_mean_squared_error: 0.1243\n",
            "Epoch 69/1000\n",
            "167/168 [============================>.] - ETA: 0s - loss: 3.3445e-04 - mean_squared_error: 3.3445e-04\n",
            "Epoch 69: val_loss did not improve from 0.01275\n",
            "168/168 [==============================] - 6s 34ms/step - loss: 3.3430e-04 - mean_squared_error: 3.3430e-04 - val_loss: 0.2436 - val_mean_squared_error: 0.2436\n",
            "Epoch 70/1000\n",
            "167/168 [============================>.] - ETA: 0s - loss: 3.0773e-04 - mean_squared_error: 3.0773e-04\n",
            "Epoch 70: val_loss did not improve from 0.01275\n",
            "168/168 [==============================] - 6s 34ms/step - loss: 3.0732e-04 - mean_squared_error: 3.0732e-04 - val_loss: 0.2416 - val_mean_squared_error: 0.2416\n",
            "Epoch 71/1000\n",
            "167/168 [============================>.] - ETA: 0s - loss: 2.7742e-04 - mean_squared_error: 2.7742e-04\n",
            "Epoch 71: val_loss did not improve from 0.01275\n",
            "168/168 [==============================] - 6s 34ms/step - loss: 2.7737e-04 - mean_squared_error: 2.7737e-04 - val_loss: 0.3044 - val_mean_squared_error: 0.3044\n",
            "Epoch 72/1000\n",
            "167/168 [============================>.] - ETA: 0s - loss: 2.9861e-04 - mean_squared_error: 2.9861e-04\n",
            "Epoch 72: val_loss did not improve from 0.01275\n",
            "168/168 [==============================] - 6s 34ms/step - loss: 2.9994e-04 - mean_squared_error: 2.9994e-04 - val_loss: 0.1431 - val_mean_squared_error: 0.1431\n",
            "Epoch 73/1000\n",
            "167/168 [============================>.] - ETA: 0s - loss: 2.9189e-04 - mean_squared_error: 2.9189e-04\n",
            "Epoch 73: val_loss did not improve from 0.01275\n",
            "168/168 [==============================] - 6s 34ms/step - loss: 2.9199e-04 - mean_squared_error: 2.9199e-04 - val_loss: 0.3008 - val_mean_squared_error: 0.3008\n",
            "Epoch 74/1000\n",
            "167/168 [============================>.] - ETA: 0s - loss: 2.6481e-04 - mean_squared_error: 2.6481e-04\n",
            "Epoch 74: val_loss did not improve from 0.01275\n",
            "168/168 [==============================] - 6s 34ms/step - loss: 2.6520e-04 - mean_squared_error: 2.6520e-04 - val_loss: 0.2178 - val_mean_squared_error: 0.2178\n",
            "Epoch 75/1000\n",
            "167/168 [============================>.] - ETA: 0s - loss: 3.0314e-04 - mean_squared_error: 3.0314e-04\n",
            "Epoch 75: val_loss did not improve from 0.01275\n",
            "168/168 [==============================] - 6s 34ms/step - loss: 3.0276e-04 - mean_squared_error: 3.0276e-04 - val_loss: 0.1306 - val_mean_squared_error: 0.1306\n",
            "Epoch 76/1000\n",
            "167/168 [============================>.] - ETA: 0s - loss: 2.7387e-04 - mean_squared_error: 2.7387e-04\n",
            "Epoch 76: val_loss did not improve from 0.01275\n",
            "168/168 [==============================] - 6s 34ms/step - loss: 2.7371e-04 - mean_squared_error: 2.7371e-04 - val_loss: 0.3232 - val_mean_squared_error: 0.3232\n",
            "Epoch 77/1000\n",
            "167/168 [============================>.] - ETA: 0s - loss: 2.8306e-04 - mean_squared_error: 2.8306e-04\n",
            "Epoch 77: val_loss did not improve from 0.01275\n",
            "168/168 [==============================] - 6s 34ms/step - loss: 2.8273e-04 - mean_squared_error: 2.8273e-04 - val_loss: 0.1172 - val_mean_squared_error: 0.1172\n",
            "Epoch 78/1000\n",
            "167/168 [============================>.] - ETA: 0s - loss: 2.6917e-04 - mean_squared_error: 2.6917e-04\n",
            "Epoch 78: val_loss did not improve from 0.01275\n",
            "168/168 [==============================] - 6s 34ms/step - loss: 2.6894e-04 - mean_squared_error: 2.6894e-04 - val_loss: 0.2177 - val_mean_squared_error: 0.2177\n",
            "Epoch 79/1000\n",
            "167/168 [============================>.] - ETA: 0s - loss: 2.4381e-04 - mean_squared_error: 2.4381e-04\n",
            "Epoch 79: val_loss did not improve from 0.01275\n",
            "168/168 [==============================] - 6s 34ms/step - loss: 2.4477e-04 - mean_squared_error: 2.4477e-04 - val_loss: 0.0991 - val_mean_squared_error: 0.0991\n",
            "Epoch 80/1000\n",
            "167/168 [============================>.] - ETA: 0s - loss: 3.0119e-04 - mean_squared_error: 3.0119e-04\n",
            "Epoch 80: val_loss did not improve from 0.01275\n",
            "168/168 [==============================] - 6s 34ms/step - loss: 3.0142e-04 - mean_squared_error: 3.0142e-04 - val_loss: 0.0590 - val_mean_squared_error: 0.0590\n",
            "Epoch 81/1000\n",
            "167/168 [============================>.] - ETA: 0s - loss: 2.2542e-04 - mean_squared_error: 2.2542e-04\n",
            "Epoch 81: val_loss did not improve from 0.01275\n",
            "168/168 [==============================] - 6s 34ms/step - loss: 2.2517e-04 - mean_squared_error: 2.2517e-04 - val_loss: 0.2191 - val_mean_squared_error: 0.2191\n",
            "Epoch 82/1000\n",
            "167/168 [============================>.] - ETA: 0s - loss: 2.3069e-04 - mean_squared_error: 2.3069e-04\n",
            "Epoch 82: val_loss did not improve from 0.01275\n",
            "168/168 [==============================] - 6s 34ms/step - loss: 2.3040e-04 - mean_squared_error: 2.3040e-04 - val_loss: 0.1389 - val_mean_squared_error: 0.1389\n",
            "Epoch 83/1000\n",
            "167/168 [============================>.] - ETA: 0s - loss: 2.3149e-04 - mean_squared_error: 2.3149e-04\n",
            "Epoch 83: val_loss did not improve from 0.01275\n",
            "168/168 [==============================] - 6s 34ms/step - loss: 2.3118e-04 - mean_squared_error: 2.3118e-04 - val_loss: 0.1166 - val_mean_squared_error: 0.1166\n",
            "Epoch 84/1000\n",
            "167/168 [============================>.] - ETA: 0s - loss: 2.5718e-04 - mean_squared_error: 2.5718e-04\n",
            "Epoch 84: val_loss did not improve from 0.01275\n",
            "168/168 [==============================] - 6s 34ms/step - loss: 2.5714e-04 - mean_squared_error: 2.5714e-04 - val_loss: 0.1227 - val_mean_squared_error: 0.1227\n",
            "Epoch 85/1000\n",
            "167/168 [============================>.] - ETA: 0s - loss: 2.2664e-04 - mean_squared_error: 2.2664e-04\n",
            "Epoch 85: val_loss did not improve from 0.01275\n",
            "168/168 [==============================] - 6s 34ms/step - loss: 2.2642e-04 - mean_squared_error: 2.2642e-04 - val_loss: 0.0868 - val_mean_squared_error: 0.0868\n",
            "Epoch 86/1000\n",
            "167/168 [============================>.] - ETA: 0s - loss: 2.3061e-04 - mean_squared_error: 2.3061e-04\n",
            "Epoch 86: val_loss did not improve from 0.01275\n",
            "168/168 [==============================] - 6s 34ms/step - loss: 2.3056e-04 - mean_squared_error: 2.3056e-04 - val_loss: 0.1778 - val_mean_squared_error: 0.1778\n",
            "Epoch 87/1000\n",
            "167/168 [============================>.] - ETA: 0s - loss: 2.1152e-04 - mean_squared_error: 2.1152e-04\n",
            "Epoch 87: val_loss did not improve from 0.01275\n",
            "168/168 [==============================] - 6s 34ms/step - loss: 2.1123e-04 - mean_squared_error: 2.1123e-04 - val_loss: 0.1417 - val_mean_squared_error: 0.1417\n",
            "Epoch 88/1000\n",
            "167/168 [============================>.] - ETA: 0s - loss: 2.3846e-04 - mean_squared_error: 2.3846e-04\n",
            "Epoch 88: val_loss did not improve from 0.01275\n",
            "168/168 [==============================] - 6s 34ms/step - loss: 2.3847e-04 - mean_squared_error: 2.3847e-04 - val_loss: 0.1984 - val_mean_squared_error: 0.1984\n",
            "Epoch 89/1000\n",
            "167/168 [============================>.] - ETA: 0s - loss: 2.5077e-04 - mean_squared_error: 2.5077e-04\n",
            "Epoch 89: val_loss did not improve from 0.01275\n",
            "168/168 [==============================] - 6s 34ms/step - loss: 2.5061e-04 - mean_squared_error: 2.5061e-04 - val_loss: 0.1709 - val_mean_squared_error: 0.1709\n",
            "Epoch 90/1000\n",
            "167/168 [============================>.] - ETA: 0s - loss: 2.1833e-04 - mean_squared_error: 2.1833e-04\n",
            "Epoch 90: val_loss did not improve from 0.01275\n",
            "168/168 [==============================] - 6s 34ms/step - loss: 2.1841e-04 - mean_squared_error: 2.1841e-04 - val_loss: 0.2127 - val_mean_squared_error: 0.2127\n",
            "Epoch 91/1000\n",
            "167/168 [============================>.] - ETA: 0s - loss: 2.3924e-04 - mean_squared_error: 2.3924e-04\n",
            "Epoch 91: val_loss did not improve from 0.01275\n",
            "168/168 [==============================] - 6s 34ms/step - loss: 2.3890e-04 - mean_squared_error: 2.3890e-04 - val_loss: 0.1450 - val_mean_squared_error: 0.1450\n",
            "Epoch 92/1000\n",
            "167/168 [============================>.] - ETA: 0s - loss: 2.6383e-04 - mean_squared_error: 2.6383e-04\n",
            "Epoch 92: val_loss did not improve from 0.01275\n",
            "168/168 [==============================] - 6s 34ms/step - loss: 2.6367e-04 - mean_squared_error: 2.6367e-04 - val_loss: 0.0518 - val_mean_squared_error: 0.0518\n",
            "Epoch 93/1000\n",
            "167/168 [============================>.] - ETA: 0s - loss: 2.1796e-04 - mean_squared_error: 2.1796e-04\n",
            "Epoch 93: val_loss did not improve from 0.01275\n",
            "168/168 [==============================] - 6s 34ms/step - loss: 2.1784e-04 - mean_squared_error: 2.1784e-04 - val_loss: 0.1406 - val_mean_squared_error: 0.1406\n",
            "Epoch 94/1000\n",
            "167/168 [============================>.] - ETA: 0s - loss: 2.5354e-04 - mean_squared_error: 2.5354e-04\n",
            "Epoch 94: val_loss did not improve from 0.01275\n",
            "168/168 [==============================] - 6s 34ms/step - loss: 2.5321e-04 - mean_squared_error: 2.5321e-04 - val_loss: 0.1847 - val_mean_squared_error: 0.1847\n",
            "Epoch 95/1000\n",
            "167/168 [============================>.] - ETA: 0s - loss: 2.2327e-04 - mean_squared_error: 2.2327e-04\n",
            "Epoch 95: val_loss did not improve from 0.01275\n",
            "168/168 [==============================] - 6s 34ms/step - loss: 2.2308e-04 - mean_squared_error: 2.2308e-04 - val_loss: 0.1507 - val_mean_squared_error: 0.1507\n",
            "Epoch 96/1000\n",
            "167/168 [============================>.] - ETA: 0s - loss: 2.4567e-04 - mean_squared_error: 2.4567e-04\n",
            "Epoch 96: val_loss did not improve from 0.01275\n",
            "168/168 [==============================] - 6s 34ms/step - loss: 2.4538e-04 - mean_squared_error: 2.4538e-04 - val_loss: 0.1275 - val_mean_squared_error: 0.1275\n",
            "Epoch 97/1000\n",
            "167/168 [============================>.] - ETA: 0s - loss: 2.2442e-04 - mean_squared_error: 2.2442e-04\n",
            "Epoch 97: val_loss did not improve from 0.01275\n",
            "168/168 [==============================] - 6s 34ms/step - loss: 2.2449e-04 - mean_squared_error: 2.2449e-04 - val_loss: 0.1365 - val_mean_squared_error: 0.1365\n",
            "Epoch 98/1000\n",
            "167/168 [============================>.] - ETA: 0s - loss: 2.1508e-04 - mean_squared_error: 2.1508e-04\n",
            "Epoch 98: val_loss did not improve from 0.01275\n",
            "168/168 [==============================] - 6s 34ms/step - loss: 2.1477e-04 - mean_squared_error: 2.1477e-04 - val_loss: 0.1370 - val_mean_squared_error: 0.1370\n",
            "Epoch 99/1000\n",
            "167/168 [============================>.] - ETA: 0s - loss: 2.1621e-04 - mean_squared_error: 2.1621e-04\n",
            "Epoch 99: val_loss did not improve from 0.01275\n",
            "168/168 [==============================] - 6s 34ms/step - loss: 2.1609e-04 - mean_squared_error: 2.1609e-04 - val_loss: 0.2541 - val_mean_squared_error: 0.2541\n",
            "Epoch 100/1000\n",
            "167/168 [============================>.] - ETA: 0s - loss: 2.2332e-04 - mean_squared_error: 2.2332e-04\n",
            "Epoch 100: val_loss did not improve from 0.01275\n",
            "168/168 [==============================] - 6s 34ms/step - loss: 2.2318e-04 - mean_squared_error: 2.2318e-04 - val_loss: 0.1981 - val_mean_squared_error: 0.1981\n",
            "Epoch 101/1000\n",
            "167/168 [============================>.] - ETA: 0s - loss: 2.2505e-04 - mean_squared_error: 2.2505e-04\n",
            "Epoch 101: val_loss did not improve from 0.01275\n",
            "168/168 [==============================] - 6s 34ms/step - loss: 2.2572e-04 - mean_squared_error: 2.2572e-04 - val_loss: 0.2194 - val_mean_squared_error: 0.2194\n",
            "Epoch 102/1000\n",
            "167/168 [============================>.] - ETA: 0s - loss: 2.1351e-04 - mean_squared_error: 2.1351e-04\n",
            "Epoch 102: val_loss did not improve from 0.01275\n",
            "168/168 [==============================] - 6s 34ms/step - loss: 2.1328e-04 - mean_squared_error: 2.1328e-04 - val_loss: 0.1934 - val_mean_squared_error: 0.1934\n",
            "Epoch 103/1000\n",
            "167/168 [============================>.] - ETA: 0s - loss: 2.3444e-04 - mean_squared_error: 2.3444e-04\n",
            "Epoch 103: val_loss did not improve from 0.01275\n",
            "168/168 [==============================] - 6s 34ms/step - loss: 2.3414e-04 - mean_squared_error: 2.3414e-04 - val_loss: 0.2815 - val_mean_squared_error: 0.2815\n",
            "Epoch 104/1000\n",
            "167/168 [============================>.] - ETA: 0s - loss: 2.1632e-04 - mean_squared_error: 2.1632e-04\n",
            "Epoch 104: val_loss did not improve from 0.01275\n",
            "168/168 [==============================] - 6s 34ms/step - loss: 2.1678e-04 - mean_squared_error: 2.1678e-04 - val_loss: 0.2520 - val_mean_squared_error: 0.2520\n",
            "Epoch 105/1000\n",
            "167/168 [============================>.] - ETA: 0s - loss: 2.6359e-04 - mean_squared_error: 2.6359e-04\n",
            "Epoch 105: val_loss did not improve from 0.01275\n",
            "168/168 [==============================] - 6s 34ms/step - loss: 2.6338e-04 - mean_squared_error: 2.6338e-04 - val_loss: 0.1384 - val_mean_squared_error: 0.1384\n",
            "Epoch 106/1000\n",
            "167/168 [============================>.] - ETA: 0s - loss: 2.0232e-04 - mean_squared_error: 2.0232e-04\n",
            "Epoch 106: val_loss did not improve from 0.01275\n",
            "168/168 [==============================] - 6s 34ms/step - loss: 2.0208e-04 - mean_squared_error: 2.0208e-04 - val_loss: 0.0912 - val_mean_squared_error: 0.0912\n",
            "Epoch 107/1000\n",
            "167/168 [============================>.] - ETA: 0s - loss: 2.1798e-04 - mean_squared_error: 2.1798e-04\n",
            "Epoch 107: val_loss did not improve from 0.01275\n",
            "168/168 [==============================] - 6s 35ms/step - loss: 2.1792e-04 - mean_squared_error: 2.1792e-04 - val_loss: 0.1234 - val_mean_squared_error: 0.1234\n",
            "Epoch 108/1000\n",
            "167/168 [============================>.] - ETA: 0s - loss: 2.3268e-04 - mean_squared_error: 2.3268e-04\n",
            "Epoch 108: val_loss did not improve from 0.01275\n",
            "168/168 [==============================] - 6s 35ms/step - loss: 2.3243e-04 - mean_squared_error: 2.3243e-04 - val_loss: 0.2129 - val_mean_squared_error: 0.2129\n",
            "Epoch 108: early stopping\n",
            "Training completed\n",
            "training time: 628.2473726272583\n"
          ]
        }
      ]
    },
    {
      "cell_type": "markdown",
      "source": [
        "##Save trained model"
      ],
      "metadata": {
        "id": "d20iOwUyUIFR"
      }
    },
    {
      "cell_type": "code",
      "source": [
        "# save trained model\n",
        "model.save(\"bidirectional-lstm-bitcoin-prices-model.h5\")\n",
        "print(\"bidirectional-lstm-bitcoin-prices-model.h5 saved model to disk in \", os.getcwd())\n",
        "\n",
        "# save on google drive\n",
        "model.save(\"/content/gdrive/My Drive/Colab Notebooks/forecasting/bidirectional-lstm-bitcoin-prices-model.h5\")\n",
        "\n",
        "# save best model on google drive\n",
        "!cp \"lstm-bitcoin-prices-best-model.h5\" \"/content/gdrive/My Drive/Colab Notebooks/forecasting/bidirectional-lstm-bitcoin-prices-best-model.h5\""
      ],
      "metadata": {
        "colab": {
          "base_uri": "https://localhost:8080/"
        },
        "outputId": "58b13889-de69-4330-e784-0e85311bf964",
        "id": "V9rGWghsUIFR"
      },
      "execution_count": 26,
      "outputs": [
        {
          "output_type": "stream",
          "name": "stdout",
          "text": [
            "bidirectional-lstm-bitcoin-prices-model.h5 saved model to disk in  /content\n"
          ]
        }
      ]
    },
    {
      "cell_type": "markdown",
      "source": [
        "## Plot results LSTM"
      ],
      "metadata": {
        "id": "eZa4hrSHUIFS"
      }
    },
    {
      "cell_type": "markdown",
      "source": [
        "1. Training and validation loss"
      ],
      "metadata": {
        "id": "r3jOeEqAUIFS"
      }
    },
    {
      "cell_type": "code",
      "source": [
        "plt.plot(history.history['loss'])\n",
        "plt.plot(history.history['val_loss'])\n",
        "plt.title('model loss (LSTM)')\n",
        "plt.ylabel('loss')\n",
        "plt.xlabel('epoch')\n",
        "plt.legend(['train', 'test'], loc='upper left')\n",
        "plt.show()"
      ],
      "metadata": {
        "colab": {
          "base_uri": "https://localhost:8080/",
          "height": 295
        },
        "outputId": "9d041121-cc6b-4619-93a7-7c326efa8536",
        "id": "P4iLr_XnUIFS"
      },
      "execution_count": 27,
      "outputs": [
        {
          "output_type": "display_data",
          "data": {
            "image/png": "[encoded data removed]",
            "text/plain": [
              "<Figure size 432x288 with 1 Axes>"
            ]
          },
          "metadata": {
            "needs_background": "light"
          }
        }
      ]
    },
    {
      "cell_type": "markdown",
      "source": [
        "2. Evaluate model with train dataset"
      ],
      "metadata": {
        "id": "QQxijbhEUIFT"
      }
    },
    {
      "cell_type": "code",
      "source": [
        "y_hat_train = model.predict(X_train)\n",
        " \n",
        "plt.plot(y_train, label=\"Actual Price\", color='green')\n",
        "plt.plot(y_hat_train, label=\"Predicted Price\", color='red')\n",
        "\n",
        "plt.title('Bitcoin price prediction')\n",
        "plt.xlabel('Time [days]')\n",
        "plt.ylabel('Price')\n",
        "plt.legend(loc='best')\n",
        "\n",
        "plt.show();"
      ],
      "metadata": {
        "colab": {
          "base_uri": "https://localhost:8080/",
          "height": 295
        },
        "outputId": "0f2f189d-1a1d-4f60-a013-04e9414eb10e",
        "id": "-54bfPX3UIFT"
      },
      "execution_count": 28,
      "outputs": [
        {
          "output_type": "display_data",
          "data": {
            "image/png": "[encoded data removed]",
            "text/plain": [
              "<Figure size 432x288 with 1 Axes>"
            ]
          },
          "metadata": {
            "needs_background": "light"
          }
        }
      ]
    },
    {
      "cell_type": "markdown",
      "source": [
        "3. Evaluate model with test dataset"
      ],
      "metadata": {
        "id": "MMsgn5CpUIFT"
      }
    },
    {
      "cell_type": "code",
      "source": [
        "y_hat = model.predict(X_test)\n",
        " \n",
        "plt.plot(y_test, label=\"Actual Price\", color='green')\n",
        "plt.plot(y_hat, label=\"Predicted Price\", color='red')\n",
        " \n",
        "plt.title('Bitcoin price prediction')\n",
        "plt.xlabel('Time [days]')\n",
        "plt.ylabel('Price')\n",
        "plt.legend(loc='best')\n",
        " \n",
        "plt.show();"
      ],
      "metadata": {
        "colab": {
          "base_uri": "https://localhost:8080/",
          "height": 295
        },
        "outputId": "fe69a21e-99ac-4ebf-ee6f-359f6a2738a3",
        "id": "qXZdpeYzUIFT"
      },
      "execution_count": 29,
      "outputs": [
        {
          "output_type": "display_data",
          "data": {
            "image/png": "[encoded data removed]",
            "text/plain": [
              "<Figure size 432x288 with 1 Axes>"
            ]
          },
          "metadata": {
            "needs_background": "light"
          }
        }
      ]
    },
    {
      "cell_type": "markdown",
      "source": [
        "## RMSE of test dataset"
      ],
      "metadata": {
        "id": "j7FzeZnGUIFU"
      }
    },
    {
      "cell_type": "code",
      "source": [
        "rmse_train = mean_squared_error(y_train, y_hat_train, squared=False)\n",
        "rmse_test = mean_squared_error(y_test, y_hat, squared=False)\n",
        "\n",
        "print(f'RMSE train: {rmse_train}')\n",
        "print(f'RMSE test: {rmse_test}')"
      ],
      "metadata": {
        "colab": {
          "base_uri": "https://localhost:8080/"
        },
        "outputId": "3baad546-ba5c-4c4e-c300-49c23214341a",
        "id": "ujeuTvEGUIFU"
      },
      "execution_count": 30,
      "outputs": [
        {
          "output_type": "stream",
          "name": "stdout",
          "text": [
            "RMSE train: 0.01094297786774514\n",
            "RMSE test: 0.46144258583132297\n"
          ]
        }
      ]
    }
  ]
}
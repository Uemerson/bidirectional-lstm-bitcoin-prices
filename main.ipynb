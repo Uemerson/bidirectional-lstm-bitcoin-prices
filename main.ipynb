{
  "metadata": {
    "kernelspec": {
      "language": "python",
      "display_name": "Python 3",
      "name": "python3"
    },
    "language_info": {
      "name": "python",
      "version": "3.7.12",
      "mimetype": "text/x-python",
      "codemirror_mode": {
        "name": "ipython",
        "version": 3
      },
      "pygments_lexer": "ipython3",
      "nbconvert_exporter": "python",
      "file_extension": ".py"
    },
    "colab": {
      "name": "bidirectional-lstm-bitcoin-prices.ipynb",
      "provenance": [],
      "collapsed_sections": [
        "T1pNvtpdsGyo",
        "vxW2Z_XhVmeq",
        "tExmNKLsahPW",
        "zhpt4V8Bv5Kb",
        "AnvMRxa9iyGd",
        "H9gwFiMW5ji-",
        "-LnY0cvvmaPH",
        "zUoPjJq-HSQo",
        "RoNb4mZxFcTX"
      ],
      "machine_shape": "hm",
      "include_colab_link": true
    },
    "accelerator": "GPU"
  },
  "nbformat_minor": 0,
  "nbformat": 4,
  "cells": [
    {
      "cell_type": "markdown",
      "metadata": {
        "id": "view-in-github",
        "colab_type": "text"
      },
      "source": [
        "<a href=\"https://colab.research.google.com/github/Uemerson/bidirectional-lstm-bitcoin-prices/blob/main/main.ipynb\" target=\"_parent\"><img src=\"https://colab.research.google.com/assets/colab-badge.svg\" alt=\"Open In Colab\"/></a>"
      ]
    },
    {
      "cell_type": "markdown",
      "source": [
        "#Import necessary libs"
      ],
      "metadata": {
        "id": "T1pNvtpdsGyo"
      }
    },
    {
      "cell_type": "code",
      "source": [
        "import pandas as pd\n",
        "from sklearn.preprocessing import MinMaxScaler\n",
        "import numpy as np\n",
        "from keras.models import Sequential\n",
        "from keras.layers import Dropout, LSTM, Dense, Bidirectional, Activation\n",
        "from keras.callbacks import EarlyStopping, ModelCheckpoint\n",
        "from tensorflow import keras\n",
        "import matplotlib.pyplot as plt\n",
        "import os\n",
        "from google.colab import drive\n",
        "import time\n",
        "from sklearn.metrics import mean_squared_error\n",
        "# from tensorflow.python.keras.layers import CuDNNLSTM"
      ],
      "metadata": {
        "id": "-ZyKD4GjvidU"
      },
      "execution_count": 1,
      "outputs": []
    },
    {
      "cell_type": "markdown",
      "source": [
        "# Connect with google drive"
      ],
      "metadata": {
        "id": "vxW2Z_XhVmeq"
      }
    },
    {
      "cell_type": "code",
      "source": [
        "# mount drive\n",
        "drive.mount('/content/gdrive')"
      ],
      "metadata": {
        "colab": {
          "base_uri": "https://localhost:8080/"
        },
        "id": "Om85W_x9Vpoi",
        "outputId": "1d28fcd1-47ab-44fd-b697-1ea2d7b34248"
      },
      "execution_count": 2,
      "outputs": [
        {
          "output_type": "stream",
          "name": "stdout",
          "text": [
            "Mounted at /content/gdrive\n"
          ]
        }
      ]
    },
    {
      "cell_type": "markdown",
      "source": [
        "#Load dataset"
      ],
      "metadata": {
        "id": "tExmNKLsahPW"
      }
    },
    {
      "cell_type": "code",
      "source": [
        "# Local dataset\n",
        "# dataset = pd.read_csv('coin_Bitcoin.csv')\n",
        "\n",
        "# Using github\n",
        "dataset = pd.read_csv('https://raw.githubusercontent.com/Uemerson/bidirectional-lstms-bitcoin-prices/main/coin_Bitcoin.csv')\n",
        "\n",
        "dataset.shape"
      ],
      "metadata": {
        "colab": {
          "base_uri": "https://localhost:8080/"
        },
        "id": "wycFNSbtaiuP",
        "outputId": "e31c8721-513f-44a4-ec0e-ad79a24dcbed"
      },
      "execution_count": 3,
      "outputs": [
        {
          "output_type": "execute_result",
          "data": {
            "text/plain": [
              "(2991, 10)"
            ]
          },
          "metadata": {},
          "execution_count": 3
        }
      ]
    },
    {
      "cell_type": "code",
      "source": [
        "dataset.head()"
      ],
      "metadata": {
        "colab": {
          "base_uri": "https://localhost:8080/",
          "height": 0
        },
        "id": "h5NrwRAEwJ34",
        "outputId": "2969d822-cd80-44df-ff20-ed7944fbc77e"
      },
      "execution_count": 4,
      "outputs": [
        {
          "output_type": "execute_result",
          "data": {
            "text/html": [
              "\n",
              "  <div id=\"df-74461700-e8ec-48e6-a697-28a52dee97f0\">\n",
              "    <div class=\"colab-df-container\">\n",
              "      <div>\n",
              "<style scoped>\n",
              "    .dataframe tbody tr th:only-of-type {\n",
              "        vertical-align: middle;\n",
              "    }\n",
              "\n",
              "    .dataframe tbody tr th {\n",
              "        vertical-align: top;\n",
              "    }\n",
              "\n",
              "    .dataframe thead th {\n",
              "        text-align: right;\n",
              "    }\n",
              "</style>\n",
              "<table border=\"1\" class=\"dataframe\">\n",
              "  <thead>\n",
              "    <tr style=\"text-align: right;\">\n",
              "      <th></th>\n",
              "      <th>SNo</th>\n",
              "      <th>Name</th>\n",
              "      <th>Symbol</th>\n",
              "      <th>Date</th>\n",
              "      <th>High</th>\n",
              "      <th>Low</th>\n",
              "      <th>Open</th>\n",
              "      <th>Close</th>\n",
              "      <th>Volume</th>\n",
              "      <th>Marketcap</th>\n",
              "    </tr>\n",
              "  </thead>\n",
              "  <tbody>\n",
              "    <tr>\n",
              "      <th>0</th>\n",
              "      <td>1</td>\n",
              "      <td>Bitcoin</td>\n",
              "      <td>BTC</td>\n",
              "      <td>2013-04-29 23:59:59</td>\n",
              "      <td>147.488007</td>\n",
              "      <td>134.000000</td>\n",
              "      <td>134.444000</td>\n",
              "      <td>144.539993</td>\n",
              "      <td>0.0</td>\n",
              "      <td>1.603769e+09</td>\n",
              "    </tr>\n",
              "    <tr>\n",
              "      <th>1</th>\n",
              "      <td>2</td>\n",
              "      <td>Bitcoin</td>\n",
              "      <td>BTC</td>\n",
              "      <td>2013-04-30 23:59:59</td>\n",
              "      <td>146.929993</td>\n",
              "      <td>134.050003</td>\n",
              "      <td>144.000000</td>\n",
              "      <td>139.000000</td>\n",
              "      <td>0.0</td>\n",
              "      <td>1.542813e+09</td>\n",
              "    </tr>\n",
              "    <tr>\n",
              "      <th>2</th>\n",
              "      <td>3</td>\n",
              "      <td>Bitcoin</td>\n",
              "      <td>BTC</td>\n",
              "      <td>2013-05-01 23:59:59</td>\n",
              "      <td>139.889999</td>\n",
              "      <td>107.720001</td>\n",
              "      <td>139.000000</td>\n",
              "      <td>116.989998</td>\n",
              "      <td>0.0</td>\n",
              "      <td>1.298955e+09</td>\n",
              "    </tr>\n",
              "    <tr>\n",
              "      <th>3</th>\n",
              "      <td>4</td>\n",
              "      <td>Bitcoin</td>\n",
              "      <td>BTC</td>\n",
              "      <td>2013-05-02 23:59:59</td>\n",
              "      <td>125.599998</td>\n",
              "      <td>92.281898</td>\n",
              "      <td>116.379997</td>\n",
              "      <td>105.209999</td>\n",
              "      <td>0.0</td>\n",
              "      <td>1.168517e+09</td>\n",
              "    </tr>\n",
              "    <tr>\n",
              "      <th>4</th>\n",
              "      <td>5</td>\n",
              "      <td>Bitcoin</td>\n",
              "      <td>BTC</td>\n",
              "      <td>2013-05-03 23:59:59</td>\n",
              "      <td>108.127998</td>\n",
              "      <td>79.099998</td>\n",
              "      <td>106.250000</td>\n",
              "      <td>97.750000</td>\n",
              "      <td>0.0</td>\n",
              "      <td>1.085995e+09</td>\n",
              "    </tr>\n",
              "  </tbody>\n",
              "</table>\n",
              "</div>\n",
              "      <button class=\"colab-df-convert\" onclick=\"convertToInteractive('df-74461700-e8ec-48e6-a697-28a52dee97f0')\"\n",
              "              title=\"Convert this dataframe to an interactive table.\"\n",
              "              style=\"display:none;\">\n",
              "        \n",
              "  <svg xmlns=\"http://www.w3.org/2000/svg\" height=\"24px\"viewBox=\"0 0 24 24\"\n",
              "       width=\"24px\">\n",
              "    <path d=\"M0 0h24v24H0V0z\" fill=\"none\"/>\n",
              "    <path d=\"M18.56 5.44l.94 2.06.94-2.06 2.06-.94-2.06-.94-.94-2.06-.94 2.06-2.06.94zm-11 1L8.5 8.5l.94-2.06 2.06-.94-2.06-.94L8.5 2.5l-.94 2.06-2.06.94zm10 10l.94 2.06.94-2.06 2.06-.94-2.06-.94-.94-2.06-.94 2.06-2.06.94z\"/><path d=\"M17.41 7.96l-1.37-1.37c-.4-.4-.92-.59-1.43-.59-.52 0-1.04.2-1.43.59L10.3 9.45l-7.72 7.72c-.78.78-.78 2.05 0 2.83L4 21.41c.39.39.9.59 1.41.59.51 0 1.02-.2 1.41-.59l7.78-7.78 2.81-2.81c.8-.78.8-2.07 0-2.86zM5.41 20L4 18.59l7.72-7.72 1.47 1.35L5.41 20z\"/>\n",
              "  </svg>\n",
              "      </button>\n",
              "      \n",
              "  <style>\n",
              "    .colab-df-container {\n",
              "      display:flex;\n",
              "      flex-wrap:wrap;\n",
              "      gap: 12px;\n",
              "    }\n",
              "\n",
              "    .colab-df-convert {\n",
              "      background-color: #E8F0FE;\n",
              "      border: none;\n",
              "      border-radius: 50%;\n",
              "      cursor: pointer;\n",
              "      display: none;\n",
              "      fill: #1967D2;\n",
              "      height: 32px;\n",
              "      padding: 0 0 0 0;\n",
              "      width: 32px;\n",
              "    }\n",
              "\n",
              "    .colab-df-convert:hover {\n",
              "      background-color: #E2EBFA;\n",
              "      box-shadow: 0px 1px 2px rgba(60, 64, 67, 0.3), 0px 1px 3px 1px rgba(60, 64, 67, 0.15);\n",
              "      fill: #174EA6;\n",
              "    }\n",
              "\n",
              "    [theme=dark] .colab-df-convert {\n",
              "      background-color: #3B4455;\n",
              "      fill: #D2E3FC;\n",
              "    }\n",
              "\n",
              "    [theme=dark] .colab-df-convert:hover {\n",
              "      background-color: #434B5C;\n",
              "      box-shadow: 0px 1px 3px 1px rgba(0, 0, 0, 0.15);\n",
              "      filter: drop-shadow(0px 1px 2px rgba(0, 0, 0, 0.3));\n",
              "      fill: #FFFFFF;\n",
              "    }\n",
              "  </style>\n",
              "\n",
              "      <script>\n",
              "        const buttonEl =\n",
              "          document.querySelector('#df-74461700-e8ec-48e6-a697-28a52dee97f0 button.colab-df-convert');\n",
              "        buttonEl.style.display =\n",
              "          google.colab.kernel.accessAllowed ? 'block' : 'none';\n",
              "\n",
              "        async function convertToInteractive(key) {\n",
              "          const element = document.querySelector('#df-74461700-e8ec-48e6-a697-28a52dee97f0');\n",
              "          const dataTable =\n",
              "            await google.colab.kernel.invokeFunction('convertToInteractive',\n",
              "                                                     [key], {});\n",
              "          if (!dataTable) return;\n",
              "\n",
              "          const docLinkHtml = 'Like what you see? Visit the ' +\n",
              "            '<a target=\"_blank\" href=https://colab.research.google.com/notebooks/data_table.ipynb>data table notebook</a>'\n",
              "            + ' to learn more about interactive tables.';\n",
              "          element.innerHTML = '';\n",
              "          dataTable['output_type'] = 'display_data';\n",
              "          await google.colab.output.renderOutput(dataTable, element);\n",
              "          const docLink = document.createElement('div');\n",
              "          docLink.innerHTML = docLinkHtml;\n",
              "          element.appendChild(docLink);\n",
              "        }\n",
              "      </script>\n",
              "    </div>\n",
              "  </div>\n",
              "  "
            ],
            "text/plain": [
              "   SNo     Name Symbol  ...       Close  Volume     Marketcap\n",
              "0    1  Bitcoin    BTC  ...  144.539993     0.0  1.603769e+09\n",
              "1    2  Bitcoin    BTC  ...  139.000000     0.0  1.542813e+09\n",
              "2    3  Bitcoin    BTC  ...  116.989998     0.0  1.298955e+09\n",
              "3    4  Bitcoin    BTC  ...  105.209999     0.0  1.168517e+09\n",
              "4    5  Bitcoin    BTC  ...   97.750000     0.0  1.085995e+09\n",
              "\n",
              "[5 rows x 10 columns]"
            ]
          },
          "metadata": {},
          "execution_count": 4
        }
      ]
    },
    {
      "cell_type": "markdown",
      "source": [
        "#Prepare data"
      ],
      "metadata": {
        "id": "zhpt4V8Bv5Kb"
      }
    },
    {
      "cell_type": "code",
      "source": [
        "# Remove all NaN-containing entries\n",
        "df = dataset.dropna()"
      ],
      "metadata": {
        "id": "eF3_GEliThsq"
      },
      "execution_count": 5,
      "outputs": []
    },
    {
      "cell_type": "code",
      "source": [
        "df.head()"
      ],
      "metadata": {
        "colab": {
          "base_uri": "https://localhost:8080/",
          "height": 0
        },
        "id": "pkndKhmCbPpL",
        "outputId": "ace5d2fa-e115-44a6-b35e-6711cf36e3f3"
      },
      "execution_count": 6,
      "outputs": [
        {
          "output_type": "execute_result",
          "data": {
            "text/html": [
              "\n",
              "  <div id=\"df-15abfd0f-b083-42d8-9153-7fbf68e7fd36\">\n",
              "    <div class=\"colab-df-container\">\n",
              "      <div>\n",
              "<style scoped>\n",
              "    .dataframe tbody tr th:only-of-type {\n",
              "        vertical-align: middle;\n",
              "    }\n",
              "\n",
              "    .dataframe tbody tr th {\n",
              "        vertical-align: top;\n",
              "    }\n",
              "\n",
              "    .dataframe thead th {\n",
              "        text-align: right;\n",
              "    }\n",
              "</style>\n",
              "<table border=\"1\" class=\"dataframe\">\n",
              "  <thead>\n",
              "    <tr style=\"text-align: right;\">\n",
              "      <th></th>\n",
              "      <th>SNo</th>\n",
              "      <th>Name</th>\n",
              "      <th>Symbol</th>\n",
              "      <th>Date</th>\n",
              "      <th>High</th>\n",
              "      <th>Low</th>\n",
              "      <th>Open</th>\n",
              "      <th>Close</th>\n",
              "      <th>Volume</th>\n",
              "      <th>Marketcap</th>\n",
              "    </tr>\n",
              "  </thead>\n",
              "  <tbody>\n",
              "    <tr>\n",
              "      <th>0</th>\n",
              "      <td>1</td>\n",
              "      <td>Bitcoin</td>\n",
              "      <td>BTC</td>\n",
              "      <td>2013-04-29 23:59:59</td>\n",
              "      <td>147.488007</td>\n",
              "      <td>134.000000</td>\n",
              "      <td>134.444000</td>\n",
              "      <td>144.539993</td>\n",
              "      <td>0.0</td>\n",
              "      <td>1.603769e+09</td>\n",
              "    </tr>\n",
              "    <tr>\n",
              "      <th>1</th>\n",
              "      <td>2</td>\n",
              "      <td>Bitcoin</td>\n",
              "      <td>BTC</td>\n",
              "      <td>2013-04-30 23:59:59</td>\n",
              "      <td>146.929993</td>\n",
              "      <td>134.050003</td>\n",
              "      <td>144.000000</td>\n",
              "      <td>139.000000</td>\n",
              "      <td>0.0</td>\n",
              "      <td>1.542813e+09</td>\n",
              "    </tr>\n",
              "    <tr>\n",
              "      <th>2</th>\n",
              "      <td>3</td>\n",
              "      <td>Bitcoin</td>\n",
              "      <td>BTC</td>\n",
              "      <td>2013-05-01 23:59:59</td>\n",
              "      <td>139.889999</td>\n",
              "      <td>107.720001</td>\n",
              "      <td>139.000000</td>\n",
              "      <td>116.989998</td>\n",
              "      <td>0.0</td>\n",
              "      <td>1.298955e+09</td>\n",
              "    </tr>\n",
              "    <tr>\n",
              "      <th>3</th>\n",
              "      <td>4</td>\n",
              "      <td>Bitcoin</td>\n",
              "      <td>BTC</td>\n",
              "      <td>2013-05-02 23:59:59</td>\n",
              "      <td>125.599998</td>\n",
              "      <td>92.281898</td>\n",
              "      <td>116.379997</td>\n",
              "      <td>105.209999</td>\n",
              "      <td>0.0</td>\n",
              "      <td>1.168517e+09</td>\n",
              "    </tr>\n",
              "    <tr>\n",
              "      <th>4</th>\n",
              "      <td>5</td>\n",
              "      <td>Bitcoin</td>\n",
              "      <td>BTC</td>\n",
              "      <td>2013-05-03 23:59:59</td>\n",
              "      <td>108.127998</td>\n",
              "      <td>79.099998</td>\n",
              "      <td>106.250000</td>\n",
              "      <td>97.750000</td>\n",
              "      <td>0.0</td>\n",
              "      <td>1.085995e+09</td>\n",
              "    </tr>\n",
              "  </tbody>\n",
              "</table>\n",
              "</div>\n",
              "      <button class=\"colab-df-convert\" onclick=\"convertToInteractive('df-15abfd0f-b083-42d8-9153-7fbf68e7fd36')\"\n",
              "              title=\"Convert this dataframe to an interactive table.\"\n",
              "              style=\"display:none;\">\n",
              "        \n",
              "  <svg xmlns=\"http://www.w3.org/2000/svg\" height=\"24px\"viewBox=\"0 0 24 24\"\n",
              "       width=\"24px\">\n",
              "    <path d=\"M0 0h24v24H0V0z\" fill=\"none\"/>\n",
              "    <path d=\"M18.56 5.44l.94 2.06.94-2.06 2.06-.94-2.06-.94-.94-2.06-.94 2.06-2.06.94zm-11 1L8.5 8.5l.94-2.06 2.06-.94-2.06-.94L8.5 2.5l-.94 2.06-2.06.94zm10 10l.94 2.06.94-2.06 2.06-.94-2.06-.94-.94-2.06-.94 2.06-2.06.94z\"/><path d=\"M17.41 7.96l-1.37-1.37c-.4-.4-.92-.59-1.43-.59-.52 0-1.04.2-1.43.59L10.3 9.45l-7.72 7.72c-.78.78-.78 2.05 0 2.83L4 21.41c.39.39.9.59 1.41.59.51 0 1.02-.2 1.41-.59l7.78-7.78 2.81-2.81c.8-.78.8-2.07 0-2.86zM5.41 20L4 18.59l7.72-7.72 1.47 1.35L5.41 20z\"/>\n",
              "  </svg>\n",
              "      </button>\n",
              "      \n",
              "  <style>\n",
              "    .colab-df-container {\n",
              "      display:flex;\n",
              "      flex-wrap:wrap;\n",
              "      gap: 12px;\n",
              "    }\n",
              "\n",
              "    .colab-df-convert {\n",
              "      background-color: #E8F0FE;\n",
              "      border: none;\n",
              "      border-radius: 50%;\n",
              "      cursor: pointer;\n",
              "      display: none;\n",
              "      fill: #1967D2;\n",
              "      height: 32px;\n",
              "      padding: 0 0 0 0;\n",
              "      width: 32px;\n",
              "    }\n",
              "\n",
              "    .colab-df-convert:hover {\n",
              "      background-color: #E2EBFA;\n",
              "      box-shadow: 0px 1px 2px rgba(60, 64, 67, 0.3), 0px 1px 3px 1px rgba(60, 64, 67, 0.15);\n",
              "      fill: #174EA6;\n",
              "    }\n",
              "\n",
              "    [theme=dark] .colab-df-convert {\n",
              "      background-color: #3B4455;\n",
              "      fill: #D2E3FC;\n",
              "    }\n",
              "\n",
              "    [theme=dark] .colab-df-convert:hover {\n",
              "      background-color: #434B5C;\n",
              "      box-shadow: 0px 1px 3px 1px rgba(0, 0, 0, 0.15);\n",
              "      filter: drop-shadow(0px 1px 2px rgba(0, 0, 0, 0.3));\n",
              "      fill: #FFFFFF;\n",
              "    }\n",
              "  </style>\n",
              "\n",
              "      <script>\n",
              "        const buttonEl =\n",
              "          document.querySelector('#df-15abfd0f-b083-42d8-9153-7fbf68e7fd36 button.colab-df-convert');\n",
              "        buttonEl.style.display =\n",
              "          google.colab.kernel.accessAllowed ? 'block' : 'none';\n",
              "\n",
              "        async function convertToInteractive(key) {\n",
              "          const element = document.querySelector('#df-15abfd0f-b083-42d8-9153-7fbf68e7fd36');\n",
              "          const dataTable =\n",
              "            await google.colab.kernel.invokeFunction('convertToInteractive',\n",
              "                                                     [key], {});\n",
              "          if (!dataTable) return;\n",
              "\n",
              "          const docLinkHtml = 'Like what you see? Visit the ' +\n",
              "            '<a target=\"_blank\" href=https://colab.research.google.com/notebooks/data_table.ipynb>data table notebook</a>'\n",
              "            + ' to learn more about interactive tables.';\n",
              "          element.innerHTML = '';\n",
              "          dataTable['output_type'] = 'display_data';\n",
              "          await google.colab.output.renderOutput(dataTable, element);\n",
              "          const docLink = document.createElement('div');\n",
              "          docLink.innerHTML = docLinkHtml;\n",
              "          element.appendChild(docLink);\n",
              "        }\n",
              "      </script>\n",
              "    </div>\n",
              "  </div>\n",
              "  "
            ],
            "text/plain": [
              "   SNo     Name Symbol  ...       Close  Volume     Marketcap\n",
              "0    1  Bitcoin    BTC  ...  144.539993     0.0  1.603769e+09\n",
              "1    2  Bitcoin    BTC  ...  139.000000     0.0  1.542813e+09\n",
              "2    3  Bitcoin    BTC  ...  116.989998     0.0  1.298955e+09\n",
              "3    4  Bitcoin    BTC  ...  105.209999     0.0  1.168517e+09\n",
              "4    5  Bitcoin    BTC  ...   97.750000     0.0  1.085995e+09\n",
              "\n",
              "[5 rows x 10 columns]"
            ]
          },
          "metadata": {},
          "execution_count": 6
        }
      ]
    },
    {
      "cell_type": "code",
      "source": [
        "df.info()"
      ],
      "metadata": {
        "colab": {
          "base_uri": "https://localhost:8080/"
        },
        "id": "9xPS6AggazRw",
        "outputId": "73eefc6f-4935-436d-f4f6-3781c88ca461"
      },
      "execution_count": 7,
      "outputs": [
        {
          "output_type": "stream",
          "name": "stdout",
          "text": [
            "<class 'pandas.core.frame.DataFrame'>\n",
            "Int64Index: 2991 entries, 0 to 2990\n",
            "Data columns (total 10 columns):\n",
            " #   Column     Non-Null Count  Dtype  \n",
            "---  ------     --------------  -----  \n",
            " 0   SNo        2991 non-null   int64  \n",
            " 1   Name       2991 non-null   object \n",
            " 2   Symbol     2991 non-null   object \n",
            " 3   Date       2991 non-null   object \n",
            " 4   High       2991 non-null   float64\n",
            " 5   Low        2991 non-null   float64\n",
            " 6   Open       2991 non-null   float64\n",
            " 7   Close      2991 non-null   float64\n",
            " 8   Volume     2991 non-null   float64\n",
            " 9   Marketcap  2991 non-null   float64\n",
            "dtypes: float64(6), int64(1), object(3)\n",
            "memory usage: 257.0+ KB\n"
          ]
        }
      ]
    },
    {
      "cell_type": "code",
      "source": [
        "df.shape"
      ],
      "metadata": {
        "colab": {
          "base_uri": "https://localhost:8080/"
        },
        "id": "CvXRazKVar0d",
        "outputId": "d65267d0-429c-4e53-d262-e73a16373407"
      },
      "execution_count": 8,
      "outputs": [
        {
          "output_type": "execute_result",
          "data": {
            "text/plain": [
              "(2991, 10)"
            ]
          },
          "metadata": {},
          "execution_count": 8
        }
      ]
    },
    {
      "cell_type": "markdown",
      "source": [
        "#Create training and validation datasets"
      ],
      "metadata": {
        "id": "AnvMRxa9iyGd"
      }
    },
    {
      "cell_type": "markdown",
      "source": [
        "Now let us define the function called create_dataset, which take three inputs:\n",
        "\n",
        "1. X - numpy array that we want to convert into a X dataset\n",
        "2. y - numpy array that we want to convert into a y dataset\n",
        "3. time_steps - number of previous time steps to use as input variables to predict the next time period"
      ],
      "metadata": {
        "id": "b3kdayTiaEeV"
      }
    },
    {
      "cell_type": "code",
      "source": [
        "def create_dataset(X, y, time_steps=1):\n",
        "  Xs, ys = [], []\n",
        "  for i in range(len(X) - time_steps):\n",
        "    v = X[i:(i + time_steps)]\n",
        "    Xs.append(v)\n",
        "    ys.append(y[i + time_steps])\n",
        "\n",
        "  return np.array(Xs), np.array(ys)"
      ],
      "metadata": {
        "id": "1ucqMjh9-X7q"
      },
      "execution_count": 9,
      "outputs": []
    },
    {
      "cell_type": "code",
      "source": [
        "# select open, high, low and volumn columns\n",
        "X = df[['Open', 'High', 'Low', 'Volume']]\n",
        "# select close columns\n",
        "y = df[['Close']]\n",
        "\n",
        "# normalization (ReLU)\n",
        "# X_transformer = MinMaxScaler((0,1))\n",
        "# y_transformer = MinMaxScaler((0,1))\n",
        "\n",
        "# normalization (Tanh)\n",
        "X_transformer = MinMaxScaler((-1,1))\n",
        "X_transformer = X_transformer.fit(X)\n",
        "\n",
        "y_transformer = MinMaxScaler((-1,1))\n",
        "y_transformer = y_transformer.fit(y)\n",
        "\n",
        "training_size=int(len(df)*0.9)\n",
        "test_size=int(len(df)-training_size)\n",
        "\n",
        "X_train, X_test, y_train, y_test = X[0:training_size], X[training_size:training_size+test_size], y[0:training_size], y[training_size:training_size+test_size]\n",
        "\n",
        "# transform datasets\n",
        "X_train_transform = X_transformer.transform(X_train)\n",
        "X_test_transform = X_transformer.transform(X_test)\n",
        "\n",
        "y_train_transform = y_transformer.transform(y_train)\n",
        "y_test_transform = y_transformer.transform(y_test)"
      ],
      "metadata": {
        "id": "NW0EU_M69fcw"
      },
      "execution_count": 10,
      "outputs": []
    },
    {
      "cell_type": "code",
      "source": [
        "# 15 days\n",
        "time_steps = 15\n",
        "\n",
        "# reshape to [samples, time_steps, n_features]\n",
        "X_train, y_train = create_dataset(X_train_transform, y_train_transform, time_steps)\n",
        "X_test, y_test = create_dataset(X_test_transform, y_test_transform, time_steps)"
      ],
      "metadata": {
        "id": "YsS0j2ccGrpR"
      },
      "execution_count": 11,
      "outputs": []
    },
    {
      "cell_type": "code",
      "source": [
        "X_train.shape"
      ],
      "metadata": {
        "colab": {
          "base_uri": "https://localhost:8080/"
        },
        "id": "14PVhzyCQCf_",
        "outputId": "fcf24797-d709-4d40-a608-2d7b5b670532"
      },
      "execution_count": 12,
      "outputs": [
        {
          "output_type": "execute_result",
          "data": {
            "text/plain": [
              "(2676, 15, 4)"
            ]
          },
          "metadata": {},
          "execution_count": 12
        }
      ]
    },
    {
      "cell_type": "code",
      "source": [
        "X_test.shape"
      ],
      "metadata": {
        "colab": {
          "base_uri": "https://localhost:8080/"
        },
        "id": "lq2YNrMdQHWJ",
        "outputId": "a705a870-3066-4314-e09d-a94849f25d64"
      },
      "execution_count": 13,
      "outputs": [
        {
          "output_type": "execute_result",
          "data": {
            "text/plain": [
              "(285, 15, 4)"
            ]
          },
          "metadata": {},
          "execution_count": 13
        }
      ]
    },
    {
      "cell_type": "markdown",
      "source": [
        "#Enabling and testing the GPU"
      ],
      "metadata": {
        "id": "H9gwFiMW5ji-"
      }
    },
    {
      "cell_type": "code",
      "source": [
        "%tensorflow_version 2.x\n",
        "import tensorflow as tf\n",
        "device_name = tf.test.gpu_device_name()\n",
        "if device_name != '/device:GPU:0':\n",
        "  raise SystemError('GPU device not found')\n",
        "print('Found GPU at: {}'.format(device_name))"
      ],
      "metadata": {
        "colab": {
          "base_uri": "https://localhost:8080/"
        },
        "id": "2Xl8bAY25k6f",
        "outputId": "8a049a0f-6455-4886-eb98-8cf6f44cde1b"
      },
      "execution_count": 14,
      "outputs": [
        {
          "output_type": "stream",
          "name": "stdout",
          "text": [
            "Found GPU at: /device:GPU:0\n"
          ]
        }
      ]
    },
    {
      "cell_type": "markdown",
      "source": [
        "#LSTM Model"
      ],
      "metadata": {
        "id": "dwUnoSH1XVC6"
      }
    },
    {
      "cell_type": "code",
      "source": [
        "# define model\n",
        "model = Sequential()\n",
        "\n",
        "hidden_neurons_layer = time_steps\n",
        "# hidden_neurons_layer = (int(X_train.shape[2]*2/3))+1\n",
        "\n",
        "neurons_output = 1\n",
        "dropout=0.2\n",
        "\n",
        "# 1\n",
        "model.add(LSTM(units=hidden_neurons_layer*4, input_shape=(X_train.shape[1], X_train.shape[2]), return_sequences=True, activation='tanh'))\n",
        "model.add(Dropout(rate=dropout))\n",
        "\n",
        "# 2\n",
        "model.add(LSTM(units=hidden_neurons_layer*6, return_sequences=True, activation='tanh'))\n",
        "model.add(Dropout(rate=dropout))\n",
        "\n",
        "# 3\n",
        "model.add(LSTM(units=hidden_neurons_layer*4, return_sequences=False, activation='tanh'))\n",
        "model.add(Dropout(rate=dropout))\n",
        "\n",
        "# output Layer\n",
        "model.add(Dense(units=neurons_output))\n",
        "# Set activation function (If your problem is a regression problem, you should use a linear activation function)\n",
        "model.add(Activation('linear'))\n",
        "\n",
        "model.compile(loss='mean_squared_error', optimizer='adam', metrics=['mean_squared_error'])"
      ],
      "metadata": {
        "id": "WJskv2_AXYPq"
      },
      "execution_count": 15,
      "outputs": []
    },
    {
      "cell_type": "code",
      "source": [
        "model.summary()"
      ],
      "metadata": {
        "id": "97jC9x094U7j",
        "colab": {
          "base_uri": "https://localhost:8080/"
        },
        "outputId": "0350230b-93af-41f7-ee3c-0128ce85d869"
      },
      "execution_count": 16,
      "outputs": [
        {
          "output_type": "stream",
          "name": "stdout",
          "text": [
            "Model: \"sequential\"\n",
            "_________________________________________________________________\n",
            " Layer (type)                Output Shape              Param #   \n",
            "=================================================================\n",
            " lstm (LSTM)                 (None, 15, 60)            15600     \n",
            "                                                                 \n",
            " dropout (Dropout)           (None, 15, 60)            0         \n",
            "                                                                 \n",
            " lstm_1 (LSTM)               (None, 15, 90)            54360     \n",
            "                                                                 \n",
            " dropout_1 (Dropout)         (None, 15, 90)            0         \n",
            "                                                                 \n",
            " lstm_2 (LSTM)               (None, 60)                36240     \n",
            "                                                                 \n",
            " dropout_2 (Dropout)         (None, 60)                0         \n",
            "                                                                 \n",
            " dense (Dense)               (None, 1)                 61        \n",
            "                                                                 \n",
            " activation (Activation)     (None, 1)                 0         \n",
            "                                                                 \n",
            "=================================================================\n",
            "Total params: 106,261\n",
            "Trainable params: 106,261\n",
            "Non-trainable params: 0\n",
            "_________________________________________________________________\n"
          ]
        }
      ]
    },
    {
      "cell_type": "code",
      "source": [
        "es = EarlyStopping(monitor='val_loss', mode='min', verbose=1, patience=20, min_delta=1e-3)\n",
        "mc = ModelCheckpoint('lstm-bitcoin-prices-best-model.h5', monitor='val_loss', mode='min', verbose=1, save_best_only=True)\n",
        "\n",
        "start = time.time()\n",
        "\n",
        "with tf.device('/device:GPU:0'):\n",
        "  # fit model to training data\n",
        "  history = model.fit(\n",
        "      X_train,\n",
        "      y_train,\n",
        "      epochs=150,\n",
        "      batch_size=16,\n",
        "      validation_data=(X_test, y_test),\n",
        "      use_multiprocessing=True,\n",
        "      callbacks=[es, mc])\n",
        "  print(\"Training completed\")\n",
        "\n",
        "# fit model to training data without GPU\n",
        "# history = model.fit(\n",
        "#       X_train,\n",
        "#       y_train,\n",
        "#       epochs=150,\n",
        "#       batch_size=16,\n",
        "#       validation_data=(X_test, y_test),\n",
        "#       use_multiprocessing=True,\n",
        "#       callbacks=[es, mc])\n",
        "\n",
        "print(f'training time: {time.time() - start}')"
      ],
      "metadata": {
        "id": "uRTQK_PU5Kf_",
        "colab": {
          "base_uri": "https://localhost:8080/"
        },
        "outputId": "b8d2448b-7afd-4af1-f73c-b8c596fbec76"
      },
      "execution_count": 17,
      "outputs": [
        {
          "output_type": "stream",
          "name": "stdout",
          "text": [
            "Epoch 1/150\n",
            "166/168 [============================>.] - ETA: 0s - loss: 0.0211 - mean_squared_error: 0.0211\n",
            "Epoch 1: val_loss improved from inf to 0.03040, saving model to lstm-bitcoin-prices-best-model.h5\n",
            "168/168 [==============================] - 14s 27ms/step - loss: 0.0210 - mean_squared_error: 0.0210 - val_loss: 0.0304 - val_mean_squared_error: 0.0304\n",
            "Epoch 2/150\n",
            "166/168 [============================>.] - ETA: 0s - loss: 0.0064 - mean_squared_error: 0.0064\n",
            "Epoch 2: val_loss improved from 0.03040 to 0.02470, saving model to lstm-bitcoin-prices-best-model.h5\n",
            "168/168 [==============================] - 3s 19ms/step - loss: 0.0064 - mean_squared_error: 0.0064 - val_loss: 0.0247 - val_mean_squared_error: 0.0247\n",
            "Epoch 3/150\n",
            "166/168 [============================>.] - ETA: 0s - loss: 0.0056 - mean_squared_error: 0.0056\n",
            "Epoch 3: val_loss improved from 0.02470 to 0.02386, saving model to lstm-bitcoin-prices-best-model.h5\n",
            "168/168 [==============================] - 3s 19ms/step - loss: 0.0056 - mean_squared_error: 0.0056 - val_loss: 0.0239 - val_mean_squared_error: 0.0239\n",
            "Epoch 4/150\n",
            "166/168 [============================>.] - ETA: 0s - loss: 0.0049 - mean_squared_error: 0.0049\n",
            "Epoch 4: val_loss improved from 0.02386 to 0.02183, saving model to lstm-bitcoin-prices-best-model.h5\n",
            "168/168 [==============================] - 3s 19ms/step - loss: 0.0049 - mean_squared_error: 0.0049 - val_loss: 0.0218 - val_mean_squared_error: 0.0218\n",
            "Epoch 5/150\n",
            "168/168 [==============================] - ETA: 0s - loss: 0.0045 - mean_squared_error: 0.0045\n",
            "Epoch 5: val_loss did not improve from 0.02183\n",
            "168/168 [==============================] - 3s 19ms/step - loss: 0.0045 - mean_squared_error: 0.0045 - val_loss: 0.0281 - val_mean_squared_error: 0.0281\n",
            "Epoch 6/150\n",
            "166/168 [============================>.] - ETA: 0s - loss: 0.0045 - mean_squared_error: 0.0045\n",
            "Epoch 6: val_loss did not improve from 0.02183\n",
            "168/168 [==============================] - 3s 19ms/step - loss: 0.0045 - mean_squared_error: 0.0045 - val_loss: 0.0407 - val_mean_squared_error: 0.0407\n",
            "Epoch 7/150\n",
            "166/168 [============================>.] - ETA: 0s - loss: 0.0042 - mean_squared_error: 0.0042\n",
            "Epoch 7: val_loss did not improve from 0.02183\n",
            "168/168 [==============================] - 3s 19ms/step - loss: 0.0042 - mean_squared_error: 0.0042 - val_loss: 0.0326 - val_mean_squared_error: 0.0326\n",
            "Epoch 8/150\n",
            "166/168 [============================>.] - ETA: 0s - loss: 0.0040 - mean_squared_error: 0.0040\n",
            "Epoch 8: val_loss did not improve from 0.02183\n",
            "168/168 [==============================] - 3s 19ms/step - loss: 0.0040 - mean_squared_error: 0.0040 - val_loss: 0.0358 - val_mean_squared_error: 0.0358\n",
            "Epoch 9/150\n",
            "166/168 [============================>.] - ETA: 0s - loss: 0.0040 - mean_squared_error: 0.0040\n",
            "Epoch 9: val_loss did not improve from 0.02183\n",
            "168/168 [==============================] - 3s 19ms/step - loss: 0.0040 - mean_squared_error: 0.0040 - val_loss: 0.0348 - val_mean_squared_error: 0.0348\n",
            "Epoch 10/150\n",
            "166/168 [============================>.] - ETA: 0s - loss: 0.0040 - mean_squared_error: 0.0040\n",
            "Epoch 10: val_loss did not improve from 0.02183\n",
            "168/168 [==============================] - 3s 19ms/step - loss: 0.0040 - mean_squared_error: 0.0040 - val_loss: 0.0409 - val_mean_squared_error: 0.0409\n",
            "Epoch 11/150\n",
            "166/168 [============================>.] - ETA: 0s - loss: 0.0039 - mean_squared_error: 0.0039\n",
            "Epoch 11: val_loss did not improve from 0.02183\n",
            "168/168 [==============================] - 3s 19ms/step - loss: 0.0039 - mean_squared_error: 0.0039 - val_loss: 0.0609 - val_mean_squared_error: 0.0609\n",
            "Epoch 12/150\n",
            "166/168 [============================>.] - ETA: 0s - loss: 0.0034 - mean_squared_error: 0.0034\n",
            "Epoch 12: val_loss did not improve from 0.02183\n",
            "168/168 [==============================] - 3s 19ms/step - loss: 0.0034 - mean_squared_error: 0.0034 - val_loss: 0.0798 - val_mean_squared_error: 0.0798\n",
            "Epoch 13/150\n",
            "166/168 [============================>.] - ETA: 0s - loss: 0.0032 - mean_squared_error: 0.0032\n",
            "Epoch 13: val_loss did not improve from 0.02183\n",
            "168/168 [==============================] - 3s 19ms/step - loss: 0.0032 - mean_squared_error: 0.0032 - val_loss: 0.0857 - val_mean_squared_error: 0.0857\n",
            "Epoch 14/150\n",
            "166/168 [============================>.] - ETA: 0s - loss: 0.0031 - mean_squared_error: 0.0031\n",
            "Epoch 14: val_loss did not improve from 0.02183\n",
            "168/168 [==============================] - 3s 19ms/step - loss: 0.0031 - mean_squared_error: 0.0031 - val_loss: 0.0966 - val_mean_squared_error: 0.0966\n",
            "Epoch 15/150\n",
            "166/168 [============================>.] - ETA: 0s - loss: 0.0031 - mean_squared_error: 0.0031\n",
            "Epoch 15: val_loss did not improve from 0.02183\n",
            "168/168 [==============================] - 3s 19ms/step - loss: 0.0031 - mean_squared_error: 0.0031 - val_loss: 0.1158 - val_mean_squared_error: 0.1158\n",
            "Epoch 16/150\n",
            "166/168 [============================>.] - ETA: 0s - loss: 0.0032 - mean_squared_error: 0.0032\n",
            "Epoch 16: val_loss did not improve from 0.02183\n",
            "168/168 [==============================] - 3s 19ms/step - loss: 0.0032 - mean_squared_error: 0.0032 - val_loss: 0.1314 - val_mean_squared_error: 0.1314\n",
            "Epoch 17/150\n",
            "168/168 [==============================] - ETA: 0s - loss: 0.0027 - mean_squared_error: 0.0027\n",
            "Epoch 17: val_loss did not improve from 0.02183\n",
            "168/168 [==============================] - 3s 19ms/step - loss: 0.0027 - mean_squared_error: 0.0027 - val_loss: 0.1717 - val_mean_squared_error: 0.1717\n",
            "Epoch 18/150\n",
            "167/168 [============================>.] - ETA: 0s - loss: 0.0025 - mean_squared_error: 0.0025\n",
            "Epoch 18: val_loss did not improve from 0.02183\n",
            "168/168 [==============================] - 3s 20ms/step - loss: 0.0025 - mean_squared_error: 0.0025 - val_loss: 0.2400 - val_mean_squared_error: 0.2400\n",
            "Epoch 19/150\n",
            "166/168 [============================>.] - ETA: 0s - loss: 0.0025 - mean_squared_error: 0.0025\n",
            "Epoch 19: val_loss did not improve from 0.02183\n",
            "168/168 [==============================] - 3s 19ms/step - loss: 0.0025 - mean_squared_error: 0.0025 - val_loss: 0.2265 - val_mean_squared_error: 0.2265\n",
            "Epoch 20/150\n",
            "166/168 [============================>.] - ETA: 0s - loss: 0.0023 - mean_squared_error: 0.0023\n",
            "Epoch 20: val_loss did not improve from 0.02183\n",
            "168/168 [==============================] - 3s 19ms/step - loss: 0.0023 - mean_squared_error: 0.0023 - val_loss: 0.3715 - val_mean_squared_error: 0.3715\n",
            "Epoch 21/150\n",
            "166/168 [============================>.] - ETA: 0s - loss: 0.0020 - mean_squared_error: 0.0020\n",
            "Epoch 21: val_loss did not improve from 0.02183\n",
            "168/168 [==============================] - 3s 19ms/step - loss: 0.0020 - mean_squared_error: 0.0020 - val_loss: 0.3668 - val_mean_squared_error: 0.3668\n",
            "Epoch 22/150\n",
            "166/168 [============================>.] - ETA: 0s - loss: 0.0020 - mean_squared_error: 0.0020\n",
            "Epoch 22: val_loss did not improve from 0.02183\n",
            "168/168 [==============================] - 3s 19ms/step - loss: 0.0021 - mean_squared_error: 0.0021 - val_loss: 0.4763 - val_mean_squared_error: 0.4763\n",
            "Epoch 23/150\n",
            "166/168 [============================>.] - ETA: 0s - loss: 0.0019 - mean_squared_error: 0.0019\n",
            "Epoch 23: val_loss did not improve from 0.02183\n",
            "168/168 [==============================] - 3s 19ms/step - loss: 0.0019 - mean_squared_error: 0.0019 - val_loss: 0.5133 - val_mean_squared_error: 0.5133\n",
            "Epoch 24/150\n",
            "166/168 [============================>.] - ETA: 0s - loss: 0.0018 - mean_squared_error: 0.0018\n",
            "Epoch 24: val_loss did not improve from 0.02183\n",
            "168/168 [==============================] - 3s 19ms/step - loss: 0.0018 - mean_squared_error: 0.0018 - val_loss: 0.5300 - val_mean_squared_error: 0.5300\n",
            "Epoch 24: early stopping\n",
            "Training completed\n",
            "training time: 87.65245389938354\n"
          ]
        }
      ]
    },
    {
      "cell_type": "markdown",
      "source": [
        "##Save trained model"
      ],
      "metadata": {
        "id": "BE3ee4Zw-3bo"
      }
    },
    {
      "cell_type": "code",
      "source": [
        "# save trained model\n",
        "model.save(\"lstm-bitcoin-prices-model.h5\")\n",
        "print(\"lstm-bitcoin-prices-model.h5 saved model to disk in \", os.getcwd())\n",
        "\n",
        "# save on google drive\n",
        "model.save(\"/content/gdrive/My Drive/Colab Notebooks/forecasting/lstm-bitcoin-prices-model.h5\")\n",
        "\n",
        "# save best model on google drive\n",
        "!cp \"lstm-bitcoin-prices-best-model.h5\" \"/content/gdrive/My Drive/Colab Notebooks/forecasting/lstm-bitcoin-prices-best-model.h5\""
      ],
      "metadata": {
        "id": "BJpZGoGr-2Nd",
        "colab": {
          "base_uri": "https://localhost:8080/"
        },
        "outputId": "7bbde24b-4885-43d5-9297-bd7a69941e24"
      },
      "execution_count": 18,
      "outputs": [
        {
          "output_type": "stream",
          "name": "stdout",
          "text": [
            "lstm-bitcoin-prices-model.h5 saved model to disk in  /content\n"
          ]
        }
      ]
    },
    {
      "cell_type": "markdown",
      "source": [
        "## Plot results LSTM"
      ],
      "metadata": {
        "id": "hpczHpH0PVQ0"
      }
    },
    {
      "cell_type": "markdown",
      "source": [
        "1. Training and validation loss"
      ],
      "metadata": {
        "id": "QgAddxNTP1X4"
      }
    },
    {
      "cell_type": "code",
      "source": [
        "plt.plot(history.history['loss'])\n",
        "plt.plot(history.history['val_loss'])\n",
        "plt.title('model loss (LSTM)')\n",
        "plt.ylabel('loss')\n",
        "plt.xlabel('epoch')\n",
        "plt.legend(['train', 'test'], loc='upper left')\n",
        "plt.show()"
      ],
      "metadata": {
        "id": "Lf8sYFbqeQMt",
        "colab": {
          "base_uri": "https://localhost:8080/",
          "height": 295
        },
        "outputId": "81e4ce5d-c223-4e32-a928-8396a0c12c7e"
      },
      "execution_count": 19,
      "outputs": [
        {
          "output_type": "display_data",
          "data": {
            "image/png": "[encoded data removed]",
            "text/plain": [
              "<Figure size 432x288 with 1 Axes>"
            ]
          },
          "metadata": {
            "needs_background": "light"
          }
        }
      ]
    },
    {
      "cell_type": "markdown",
      "source": [
        "2. Evaluate model with train dataset"
      ],
      "metadata": {
        "id": "BY0icqWjFcQr"
      }
    },
    {
      "cell_type": "code",
      "source": [
        "y_hat_train = model.predict(X_train)\n",
        " \n",
        "plt.plot(y_train, label=\"Actual Price\", color='green')\n",
        "plt.plot(y_hat_train, label=\"Predicted Price\", color='red')\n",
        "\n",
        "plt.title('Bitcoin price prediction')\n",
        "plt.xlabel('Time [days]')\n",
        "plt.ylabel('Price')\n",
        "plt.legend(loc='best')\n",
        "\n",
        "plt.show();"
      ],
      "metadata": {
        "id": "3Kp570HNFj3x",
        "colab": {
          "base_uri": "https://localhost:8080/",
          "height": 295
        },
        "outputId": "72ea03c8-fbda-46a5-b666-b3a48d9371a5"
      },
      "execution_count": 20,
      "outputs": [
        {
          "output_type": "display_data",
          "data": {
            "image/png": "[encoded data removed]",
            "text/plain": [
              "<Figure size 432x288 with 1 Axes>"
            ]
          },
          "metadata": {
            "needs_background": "light"
          }
        }
      ]
    },
    {
      "cell_type": "markdown",
      "source": [
        "3. Evaluate model with test dataset"
      ],
      "metadata": {
        "id": "6qcg67-2Wv8i"
      }
    },
    {
      "cell_type": "code",
      "source": [
        "y_hat = model.predict(X_test)\n",
        " \n",
        "plt.plot(y_test, label=\"Actual Price\", color='green')\n",
        "plt.plot(y_hat, label=\"Predicted Price\", color='red')\n",
        " \n",
        "plt.title('Bitcoin price prediction')\n",
        "plt.xlabel('Time [days]')\n",
        "plt.ylabel('Price')\n",
        "plt.legend(loc='best')\n",
        " \n",
        "plt.show();"
      ],
      "metadata": {
        "id": "dRU0-Ip8Wmme",
        "colab": {
          "base_uri": "https://localhost:8080/",
          "height": 295
        },
        "outputId": "210033a1-8aac-4b0d-b40d-819806f8c9f8"
      },
      "execution_count": 21,
      "outputs": [
        {
          "output_type": "display_data",
          "data": {
            "image/png": "[encoded data removed]",
            "text/plain": [
              "<Figure size 432x288 with 1 Axes>"
            ]
          },
          "metadata": {
            "needs_background": "light"
          }
        }
      ]
    },
    {
      "cell_type": "markdown",
      "source": [
        "## RMSE of test dataset"
      ],
      "metadata": {
        "id": "Qkx6urcLEykU"
      }
    },
    {
      "cell_type": "code",
      "source": [
        "rmse_train = mean_squared_error(y_train, y_hat_train, squared=False)\n",
        "rmse_test = mean_squared_error(y_test, y_hat, squared=False)\n",
        "\n",
        "print(f'RMSE train: {rmse_train}')\n",
        "print(f'RMSE test: {rmse_test}')"
      ],
      "metadata": {
        "id": "hkzCEEogE2hk",
        "colab": {
          "base_uri": "https://localhost:8080/"
        },
        "outputId": "4dbd4c63-ac2f-4748-ce6a-95b690095273"
      },
      "execution_count": 22,
      "outputs": [
        {
          "output_type": "stream",
          "name": "stdout",
          "text": [
            "RMSE train: 0.019356333944081303\n",
            "RMSE test: 0.7279985257374668\n"
          ]
        }
      ]
    }
  ]
}